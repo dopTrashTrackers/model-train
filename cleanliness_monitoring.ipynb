{
 "cells": [
  {
   "cell_type": "code",
   "execution_count": 2,
   "metadata": {},
   "outputs": [
    {
     "name": "stdout",
     "output_type": "stream",
     "text": [
      "Requirement already satisfied: pip in c:\\users\\nidhi satyapriya\\onedrive\\desktop\\sih_2024\\.venv\\lib\\site-packages (24.2)\n",
      "Collecting tensorflowNote: you may need to restart the kernel to use updated packages.\n",
      "\n",
      "  Using cached tensorflow-2.17.0-cp311-cp311-win_amd64.whl.metadata (3.2 kB)\n",
      "Collecting tensorflow-intel==2.17.0 (from tensorflow)\n",
      "  Using cached tensorflow_intel-2.17.0-cp311-cp311-win_amd64.whl.metadata (5.0 kB)\n",
      "Requirement already satisfied: absl-py>=1.0.0 in c:\\users\\nidhi satyapriya\\onedrive\\desktop\\sih_2024\\.venv\\lib\\site-packages (from tensorflow-intel==2.17.0->tensorflow) (2.1.0)\n",
      "Collecting astunparse>=1.6.0 (from tensorflow-intel==2.17.0->tensorflow)\n",
      "  Using cached astunparse-1.6.3-py2.py3-none-any.whl.metadata (4.4 kB)\n",
      "Collecting flatbuffers>=24.3.25 (from tensorflow-intel==2.17.0->tensorflow)\n",
      "  Using cached flatbuffers-24.3.25-py2.py3-none-any.whl.metadata (850 bytes)\n",
      "Collecting gast!=0.5.0,!=0.5.1,!=0.5.2,>=0.2.1 (from tensorflow-intel==2.17.0->tensorflow)\n",
      "  Using cached gast-0.6.0-py3-none-any.whl.metadata (1.3 kB)\n",
      "Collecting google-pasta>=0.1.1 (from tensorflow-intel==2.17.0->tensorflow)\n",
      "  Using cached google_pasta-0.2.0-py3-none-any.whl.metadata (814 bytes)\n",
      "Collecting h5py>=3.10.0 (from tensorflow-intel==2.17.0->tensorflow)\n",
      "  Using cached h5py-3.11.0-cp311-cp311-win_amd64.whl.metadata (2.5 kB)\n",
      "Collecting libclang>=13.0.0 (from tensorflow-intel==2.17.0->tensorflow)\n",
      "  Using cached libclang-18.1.1-py2.py3-none-win_amd64.whl.metadata (5.3 kB)\n",
      "Collecting ml-dtypes<0.5.0,>=0.3.1 (from tensorflow-intel==2.17.0->tensorflow)\n",
      "  Using cached ml_dtypes-0.4.0-cp311-cp311-win_amd64.whl.metadata (20 kB)\n",
      "Collecting opt-einsum>=2.3.2 (from tensorflow-intel==2.17.0->tensorflow)\n",
      "  Using cached opt_einsum-3.3.0-py3-none-any.whl.metadata (6.5 kB)\n",
      "Requirement already satisfied: packaging in c:\\users\\nidhi satyapriya\\onedrive\\desktop\\sih_2024\\.venv\\lib\\site-packages (from tensorflow-intel==2.17.0->tensorflow) (24.1)\n",
      "Collecting protobuf!=4.21.0,!=4.21.1,!=4.21.2,!=4.21.3,!=4.21.4,!=4.21.5,<5.0.0dev,>=3.20.3 (from tensorflow-intel==2.17.0->tensorflow)\n",
      "  Using cached protobuf-4.25.4-cp310-abi3-win_amd64.whl.metadata (541 bytes)\n",
      "Requirement already satisfied: requests<3,>=2.21.0 in c:\\users\\nidhi satyapriya\\onedrive\\desktop\\sih_2024\\.venv\\lib\\site-packages (from tensorflow-intel==2.17.0->tensorflow) (2.32.3)\n",
      "Requirement already satisfied: setuptools in c:\\users\\nidhi satyapriya\\onedrive\\desktop\\sih_2024\\.venv\\lib\\site-packages (from tensorflow-intel==2.17.0->tensorflow) (74.0.0)\n",
      "Requirement already satisfied: six>=1.12.0 in c:\\users\\nidhi satyapriya\\onedrive\\desktop\\sih_2024\\.venv\\lib\\site-packages (from tensorflow-intel==2.17.0->tensorflow) (1.16.0)\n",
      "Collecting termcolor>=1.1.0 (from tensorflow-intel==2.17.0->tensorflow)\n",
      "  Using cached termcolor-2.4.0-py3-none-any.whl.metadata (6.1 kB)\n",
      "Requirement already satisfied: typing-extensions>=3.6.6 in c:\\users\\nidhi satyapriya\\onedrive\\desktop\\sih_2024\\.venv\\lib\\site-packages (from tensorflow-intel==2.17.0->tensorflow) (4.12.2)\n",
      "Collecting wrapt>=1.11.0 (from tensorflow-intel==2.17.0->tensorflow)\n",
      "  Using cached wrapt-1.16.0-cp311-cp311-win_amd64.whl.metadata (6.8 kB)\n",
      "Requirement already satisfied: grpcio<2.0,>=1.24.3 in c:\\users\\nidhi satyapriya\\onedrive\\desktop\\sih_2024\\.venv\\lib\\site-packages (from tensorflow-intel==2.17.0->tensorflow) (1.66.1)\n",
      "Collecting tensorboard<2.18,>=2.17 (from tensorflow-intel==2.17.0->tensorflow)\n",
      "  Using cached tensorboard-2.17.1-py3-none-any.whl.metadata (1.6 kB)\n",
      "Collecting keras>=3.2.0 (from tensorflow-intel==2.17.0->tensorflow)\n",
      "  Using cached keras-3.5.0-py3-none-any.whl.metadata (5.8 kB)\n",
      "Collecting tensorflow-io-gcs-filesystem>=0.23.1 (from tensorflow-intel==2.17.0->tensorflow)\n",
      "  Using cached tensorflow_io_gcs_filesystem-0.31.0-cp311-cp311-win_amd64.whl.metadata (14 kB)\n",
      "Requirement already satisfied: numpy<2.0.0,>=1.23.5 in c:\\users\\nidhi satyapriya\\onedrive\\desktop\\sih_2024\\.venv\\lib\\site-packages (from tensorflow-intel==2.17.0->tensorflow) (1.26.4)\n",
      "Requirement already satisfied: wheel<1.0,>=0.23.0 in c:\\users\\nidhi satyapriya\\onedrive\\desktop\\sih_2024\\.venv\\lib\\site-packages (from astunparse>=1.6.0->tensorflow-intel==2.17.0->tensorflow) (0.44.0)\n",
      "Collecting rich (from keras>=3.2.0->tensorflow-intel==2.17.0->tensorflow)\n",
      "  Using cached rich-13.8.0-py3-none-any.whl.metadata (18 kB)\n",
      "Collecting namex (from keras>=3.2.0->tensorflow-intel==2.17.0->tensorflow)\n",
      "  Using cached namex-0.0.8-py3-none-any.whl.metadata (246 bytes)\n",
      "Collecting optree (from keras>=3.2.0->tensorflow-intel==2.17.0->tensorflow)\n",
      "  Using cached optree-0.12.1-cp311-cp311-win_amd64.whl.metadata (48 kB)\n",
      "Requirement already satisfied: charset-normalizer<4,>=2 in c:\\users\\nidhi satyapriya\\onedrive\\desktop\\sih_2024\\.venv\\lib\\site-packages (from requests<3,>=2.21.0->tensorflow-intel==2.17.0->tensorflow) (3.3.2)\n",
      "Requirement already satisfied: idna<4,>=2.5 in c:\\users\\nidhi satyapriya\\onedrive\\desktop\\sih_2024\\.venv\\lib\\site-packages (from requests<3,>=2.21.0->tensorflow-intel==2.17.0->tensorflow) (3.8)\n",
      "Requirement already satisfied: urllib3<3,>=1.21.1 in c:\\users\\nidhi satyapriya\\onedrive\\desktop\\sih_2024\\.venv\\lib\\site-packages (from requests<3,>=2.21.0->tensorflow-intel==2.17.0->tensorflow) (2.2.2)\n",
      "Requirement already satisfied: certifi>=2017.4.17 in c:\\users\\nidhi satyapriya\\onedrive\\desktop\\sih_2024\\.venv\\lib\\site-packages (from requests<3,>=2.21.0->tensorflow-intel==2.17.0->tensorflow) (2024.8.30)\n",
      "Requirement already satisfied: markdown>=2.6.8 in c:\\users\\nidhi satyapriya\\onedrive\\desktop\\sih_2024\\.venv\\lib\\site-packages (from tensorboard<2.18,>=2.17->tensorflow-intel==2.17.0->tensorflow) (3.7)\n",
      "Collecting tensorboard-data-server<0.8.0,>=0.7.0 (from tensorboard<2.18,>=2.17->tensorflow-intel==2.17.0->tensorflow)\n",
      "  Using cached tensorboard_data_server-0.7.2-py3-none-any.whl.metadata (1.1 kB)\n",
      "Requirement already satisfied: werkzeug>=1.0.1 in c:\\users\\nidhi satyapriya\\onedrive\\desktop\\sih_2024\\.venv\\lib\\site-packages (from tensorboard<2.18,>=2.17->tensorflow-intel==2.17.0->tensorflow) (3.0.4)\n",
      "Requirement already satisfied: MarkupSafe>=2.1.1 in c:\\users\\nidhi satyapriya\\onedrive\\desktop\\sih_2024\\.venv\\lib\\site-packages (from werkzeug>=1.0.1->tensorboard<2.18,>=2.17->tensorflow-intel==2.17.0->tensorflow) (2.1.5)\n",
      "Collecting markdown-it-py>=2.2.0 (from rich->keras>=3.2.0->tensorflow-intel==2.17.0->tensorflow)\n",
      "  Using cached markdown_it_py-3.0.0-py3-none-any.whl.metadata (6.9 kB)\n",
      "Requirement already satisfied: pygments<3.0.0,>=2.13.0 in c:\\users\\nidhi satyapriya\\onedrive\\desktop\\sih_2024\\.venv\\lib\\site-packages (from rich->keras>=3.2.0->tensorflow-intel==2.17.0->tensorflow) (2.18.0)\n",
      "Collecting mdurl~=0.1 (from markdown-it-py>=2.2.0->rich->keras>=3.2.0->tensorflow-intel==2.17.0->tensorflow)\n",
      "  Using cached mdurl-0.1.2-py3-none-any.whl.metadata (1.6 kB)\n",
      "Using cached tensorflow-2.17.0-cp311-cp311-win_amd64.whl (2.0 kB)\n",
      "Using cached tensorflow_intel-2.17.0-cp311-cp311-win_amd64.whl (385.0 MB)\n",
      "Using cached astunparse-1.6.3-py2.py3-none-any.whl (12 kB)\n",
      "Using cached flatbuffers-24.3.25-py2.py3-none-any.whl (26 kB)\n",
      "Using cached gast-0.6.0-py3-none-any.whl (21 kB)\n",
      "Using cached google_pasta-0.2.0-py3-none-any.whl (57 kB)\n",
      "Using cached h5py-3.11.0-cp311-cp311-win_amd64.whl (3.0 MB)\n",
      "Using cached keras-3.5.0-py3-none-any.whl (1.1 MB)\n",
      "Using cached libclang-18.1.1-py2.py3-none-win_amd64.whl (26.4 MB)\n",
      "Using cached ml_dtypes-0.4.0-cp311-cp311-win_amd64.whl (126 kB)\n",
      "Using cached opt_einsum-3.3.0-py3-none-any.whl (65 kB)\n",
      "Using cached protobuf-4.25.4-cp310-abi3-win_amd64.whl (413 kB)\n",
      "Using cached tensorboard-2.17.1-py3-none-any.whl (5.5 MB)\n",
      "Using cached tensorflow_io_gcs_filesystem-0.31.0-cp311-cp311-win_amd64.whl (1.5 MB)\n",
      "Using cached termcolor-2.4.0-py3-none-any.whl (7.7 kB)\n",
      "Using cached wrapt-1.16.0-cp311-cp311-win_amd64.whl (37 kB)\n",
      "Using cached tensorboard_data_server-0.7.2-py3-none-any.whl (2.4 kB)\n",
      "Using cached namex-0.0.8-py3-none-any.whl (5.8 kB)\n",
      "Using cached optree-0.12.1-cp311-cp311-win_amd64.whl (268 kB)\n",
      "Using cached rich-13.8.0-py3-none-any.whl (241 kB)\n",
      "Using cached markdown_it_py-3.0.0-py3-none-any.whl (87 kB)\n",
      "Using cached mdurl-0.1.2-py3-none-any.whl (10.0 kB)\n",
      "Installing collected packages: namex, libclang, flatbuffers, wrapt, termcolor, tensorflow-io-gcs-filesystem, tensorboard-data-server, protobuf, optree, opt-einsum, ml-dtypes, mdurl, h5py, google-pasta, gast, astunparse, tensorboard, markdown-it-py, rich, keras, tensorflow-intel, tensorflow\n",
      "  Attempting uninstall: protobuf\n",
      "    Found existing installation: protobuf 5.28.0\n",
      "    Uninstalling protobuf-5.28.0:\n",
      "      Successfully uninstalled protobuf-5.28.0\n",
      "  Attempting uninstall: tensorboard\n",
      "    Found existing installation: tensorboard 2.4.1\n",
      "    Uninstalling tensorboard-2.4.1:\n",
      "      Successfully uninstalled tensorboard-2.4.1\n",
      "Successfully installed astunparse-1.6.3 flatbuffers-24.3.25 gast-0.6.0 google-pasta-0.2.0 h5py-3.11.0 keras-3.5.0 libclang-18.1.1 markdown-it-py-3.0.0 mdurl-0.1.2 ml-dtypes-0.4.0 namex-0.0.8 opt-einsum-3.3.0 optree-0.12.1 protobuf-4.25.4 rich-13.8.0 tensorboard-2.17.1 tensorboard-data-server-0.7.2 tensorflow-2.17.0 tensorflow-intel-2.17.0 tensorflow-io-gcs-filesystem-0.31.0 termcolor-2.4.0 wrapt-1.16.0\n",
      "Note: you may need to restart the kernel to use updated packages.\n",
      "Collecting tensorboard==2.4.1\n",
      "  Using cached tensorboard-2.4.1-py3-none-any.whl.metadata (2.0 kB)\n",
      "Requirement already satisfied: absl-py>=0.4 in c:\\users\\nidhi satyapriya\\onedrive\\desktop\\sih_2024\\.venv\\lib\\site-packages (from tensorboard==2.4.1) (2.1.0)\n",
      "Requirement already satisfied: grpcio>=1.24.3 in c:\\users\\nidhi satyapriya\\onedrive\\desktop\\sih_2024\\.venv\\lib\\site-packages (from tensorboard==2.4.1) (1.66.1)\n",
      "Requirement already satisfied: google-auth<2,>=1.6.3 in c:\\users\\nidhi satyapriya\\onedrive\\desktop\\sih_2024\\.venv\\lib\\site-packages (from tensorboard==2.4.1) (1.35.0)\n",
      "Requirement already satisfied: google-auth-oauthlib<0.5,>=0.4.1 in c:\\users\\nidhi satyapriya\\onedrive\\desktop\\sih_2024\\.venv\\lib\\site-packages (from tensorboard==2.4.1) (0.4.6)\n",
      "Requirement already satisfied: markdown>=2.6.8 in c:\\users\\nidhi satyapriya\\onedrive\\desktop\\sih_2024\\.venv\\lib\\site-packages (from tensorboard==2.4.1) (3.7)\n",
      "Requirement already satisfied: numpy>=1.12.0 in c:\\users\\nidhi satyapriya\\onedrive\\desktop\\sih_2024\\.venv\\lib\\site-packages (from tensorboard==2.4.1) (1.26.4)\n",
      "Requirement already satisfied: protobuf>=3.6.0 in c:\\users\\nidhi satyapriya\\onedrive\\desktop\\sih_2024\\.venv\\lib\\site-packages (from tensorboard==2.4.1) (4.25.4)\n",
      "Requirement already satisfied: requests<3,>=2.21.0 in c:\\users\\nidhi satyapriya\\onedrive\\desktop\\sih_2024\\.venv\\lib\\site-packages (from tensorboard==2.4.1) (2.32.3)\n",
      "Requirement already satisfied: setuptools>=41.0.0 in c:\\users\\nidhi satyapriya\\onedrive\\desktop\\sih_2024\\.venv\\lib\\site-packages (from tensorboard==2.4.1) (74.0.0)\n",
      "Requirement already satisfied: six>=1.10.0 in c:\\users\\nidhi satyapriya\\onedrive\\desktop\\sih_2024\\.venv\\lib\\site-packages (from tensorboard==2.4.1) (1.16.0)\n",
      "Requirement already satisfied: tensorboard-plugin-wit>=1.6.0 in c:\\users\\nidhi satyapriya\\onedrive\\desktop\\sih_2024\\.venv\\lib\\site-packages (from tensorboard==2.4.1) (1.8.1)\n",
      "Requirement already satisfied: werkzeug>=0.11.15 in c:\\users\\nidhi satyapriya\\onedrive\\desktop\\sih_2024\\.venv\\lib\\site-packages (from tensorboard==2.4.1) (3.0.4)\n",
      "Requirement already satisfied: wheel>=0.26 in c:\\users\\nidhi satyapriya\\onedrive\\desktop\\sih_2024\\.venv\\lib\\site-packages (from tensorboard==2.4.1) (0.44.0)\n",
      "Requirement already satisfied: cachetools<5.0,>=2.0.0 in c:\\users\\nidhi satyapriya\\onedrive\\desktop\\sih_2024\\.venv\\lib\\site-packages (from google-auth<2,>=1.6.3->tensorboard==2.4.1) (4.2.4)\n",
      "Requirement already satisfied: pyasn1-modules>=0.2.1 in c:\\users\\nidhi satyapriya\\onedrive\\desktop\\sih_2024\\.venv\\lib\\site-packages (from google-auth<2,>=1.6.3->tensorboard==2.4.1) (0.4.0)\n",
      "Requirement already satisfied: rsa<5,>=3.1.4 in c:\\users\\nidhi satyapriya\\onedrive\\desktop\\sih_2024\\.venv\\lib\\site-packages (from google-auth<2,>=1.6.3->tensorboard==2.4.1) (4.9)\n",
      "Requirement already satisfied: requests-oauthlib>=0.7.0 in c:\\users\\nidhi satyapriya\\onedrive\\desktop\\sih_2024\\.venv\\lib\\site-packages (from google-auth-oauthlib<0.5,>=0.4.1->tensorboard==2.4.1) (2.0.0)\n",
      "Requirement already satisfied: charset-normalizer<4,>=2 in c:\\users\\nidhi satyapriya\\onedrive\\desktop\\sih_2024\\.venv\\lib\\site-packages (from requests<3,>=2.21.0->tensorboard==2.4.1) (3.3.2)\n",
      "Requirement already satisfied: idna<4,>=2.5 in c:\\users\\nidhi satyapriya\\onedrive\\desktop\\sih_2024\\.venv\\lib\\site-packages (from requests<3,>=2.21.0->tensorboard==2.4.1) (3.8)\n",
      "Requirement already satisfied: urllib3<3,>=1.21.1 in c:\\users\\nidhi satyapriya\\onedrive\\desktop\\sih_2024\\.venv\\lib\\site-packages (from requests<3,>=2.21.0->tensorboard==2.4.1) (2.2.2)\n",
      "Requirement already satisfied: certifi>=2017.4.17 in c:\\users\\nidhi satyapriya\\onedrive\\desktop\\sih_2024\\.venv\\lib\\site-packages (from requests<3,>=2.21.0->tensorboard==2.4.1) (2024.8.30)\n",
      "Requirement already satisfied: MarkupSafe>=2.1.1 in c:\\users\\nidhi satyapriya\\onedrive\\desktop\\sih_2024\\.venv\\lib\\site-packages (from werkzeug>=0.11.15->tensorboard==2.4.1) (2.1.5)\n",
      "Requirement already satisfied: pyasn1<0.7.0,>=0.4.6 in c:\\users\\nidhi satyapriya\\onedrive\\desktop\\sih_2024\\.venv\\lib\\site-packages (from pyasn1-modules>=0.2.1->google-auth<2,>=1.6.3->tensorboard==2.4.1) (0.6.0)\n",
      "Requirement already satisfied: oauthlib>=3.0.0 in c:\\users\\nidhi satyapriya\\onedrive\\desktop\\sih_2024\\.venv\\lib\\site-packages (from requests-oauthlib>=0.7.0->google-auth-oauthlib<0.5,>=0.4.1->tensorboard==2.4.1) (3.2.2)\n",
      "Using cached tensorboard-2.4.1-py3-none-any.whl (10.6 MB)\n",
      "Installing collected packages: tensorboard\n",
      "  Attempting uninstall: tensorboard\n",
      "    Found existing installation: tensorboard 2.17.1\n",
      "    Uninstalling tensorboard-2.17.1:\n",
      "      Successfully uninstalled tensorboard-2.17.1\n",
      "Successfully installed tensorboard-2.4.1\n"
     ]
    },
    {
     "name": "stderr",
     "output_type": "stream",
     "text": [
      "ERROR: pip's dependency resolver does not currently take into account all the packages that are installed. This behaviour is the source of the following dependency conflicts.\n",
      "tensorflow-intel 2.17.0 requires tensorboard<2.18,>=2.17, but you have tensorboard 2.4.1 which is incompatible.\n"
     ]
    },
    {
     "name": "stdout",
     "output_type": "stream",
     "text": [
      "Requirement already satisfied: torch in c:\\users\\nidhi satyapriya\\onedrive\\desktop\\sih_2024\\.venv\\lib\\site-packages (2.4.0)\n",
      "Requirement already satisfied: filelock in c:\\users\\nidhi satyapriya\\onedrive\\desktop\\sih_2024\\.venv\\lib\\site-packages (from torch) (3.15.4)\n",
      "Requirement already satisfied: typing-extensions>=4.8.0 in c:\\users\\nidhi satyapriya\\onedrive\\desktop\\sih_2024\\.venv\\lib\\site-packages (from torch) (4.12.2)\n",
      "Requirement already satisfied: sympy in c:\\users\\nidhi satyapriya\\onedrive\\desktop\\sih_2024\\.venv\\lib\\site-packages (from torch) (1.13.2)\n",
      "Requirement already satisfied: networkx in c:\\users\\nidhi satyapriya\\onedrive\\desktop\\sih_2024\\.venv\\lib\\site-packages (from torch) (3.3)\n",
      "Requirement already satisfied: jinja2 in c:\\users\\nidhi satyapriya\\onedrive\\desktop\\sih_2024\\.venv\\lib\\site-packages (from torch) (3.1.4)\n",
      "Requirement already satisfied: fsspec in c:\\users\\nidhi satyapriya\\onedrive\\desktop\\sih_2024\\.venv\\lib\\site-packages (from torch) (2024.6.1)\n",
      "Requirement already satisfied: MarkupSafe>=2.0 in c:\\users\\nidhi satyapriya\\onedrive\\desktop\\sih_2024\\.venv\\lib\\site-packages (from jinja2->torch) (2.1.5)\n",
      "Requirement already satisfied: mpmath<1.4,>=1.1.0 in c:\\users\\nidhi satyapriya\\onedrive\\desktop\\sih_2024\\.venv\\lib\\site-packages (from sympy->torch) (1.3.0)\n",
      "Note: you may need to restart the kernel to use updated packages.\n"
     ]
    }
   ],
   "source": [
    "!python -m pip install --upgrade pip\n",
    "\n",
    "%pip install tensorflow\n",
    "\n",
    "%pip install tensorboard==2.4.1\n",
    "%pip install torch"
   ]
  },
  {
   "cell_type": "code",
   "execution_count": 3,
   "metadata": {},
   "outputs": [],
   "source": [
    "import torch # YOLOv5 implemented using pytorch"
   ]
  },
  {
   "cell_type": "code",
   "execution_count": 4,
   "metadata": {},
   "outputs": [],
   "source": [
    "from IPython.display import Image #this is to render predictions"
   ]
  },
  {
   "cell_type": "code",
   "execution_count": 5,
   "metadata": {},
   "outputs": [
    {
     "name": "stderr",
     "output_type": "stream",
     "text": [
      "fatal: destination path 'yolov5' already exists and is not an empty directory.\n"
     ]
    }
   ],
   "source": [
    "!git clone https://github.com/ultralytics/yolov5"
   ]
  },
  {
   "cell_type": "code",
   "execution_count": 6,
   "metadata": {},
   "outputs": [
    {
     "name": "stdout",
     "output_type": "stream",
     "text": [
      "c:\\Users\\Nidhi Satyapriya\\OneDrive\\Desktop\\SIH_2024\\yolov5\n"
     ]
    },
    {
     "name": "stderr",
     "output_type": "stream",
     "text": [
      "c:\\Users\\Nidhi Satyapriya\\OneDrive\\Desktop\\SIH_2024\\.venv\\Lib\\site-packages\\IPython\\core\\magics\\osm.py:417: UserWarning: This is now an optional IPython functionality, setting dhist requires you to install the `pickleshare` library.\n",
      "  self.shell.db['dhist'] = compress_dhist(dhist)[-100:]\n"
     ]
    }
   ],
   "source": [
    "%cd yolov5"
   ]
  },
  {
   "cell_type": "code",
   "execution_count": 7,
   "metadata": {},
   "outputs": [
    {
     "name": "stdout",
     "output_type": "stream",
     "text": [
      "Requirement already satisfied: gitpython>=3.1.30 in c:\\users\\nidhi satyapriya\\onedrive\\desktop\\sih_2024\\.venv\\lib\\site-packages (from -r requirements.txt (line 5)) (3.1.43)Note: you may need to restart the kernel to use updated packages.\n",
      "\n",
      "Requirement already satisfied: matplotlib>=3.3 in c:\\users\\nidhi satyapriya\\onedrive\\desktop\\sih_2024\\.venv\\lib\\site-packages (from -r requirements.txt (line 6)) (3.9.2)\n",
      "Requirement already satisfied: numpy>=1.23.5 in c:\\users\\nidhi satyapriya\\onedrive\\desktop\\sih_2024\\.venv\\lib\\site-packages (from -r requirements.txt (line 7)) (1.26.4)\n",
      "Requirement already satisfied: opencv-python>=4.1.1 in c:\\users\\nidhi satyapriya\\onedrive\\desktop\\sih_2024\\.venv\\lib\\site-packages (from -r requirements.txt (line 8)) (4.10.0.84)\n",
      "Requirement already satisfied: pillow>=10.3.0 in c:\\users\\nidhi satyapriya\\onedrive\\desktop\\sih_2024\\.venv\\lib\\site-packages (from -r requirements.txt (line 9)) (10.4.0)\n",
      "Requirement already satisfied: psutil in c:\\users\\nidhi satyapriya\\onedrive\\desktop\\sih_2024\\.venv\\lib\\site-packages (from -r requirements.txt (line 10)) (6.0.0)\n",
      "Requirement already satisfied: PyYAML>=5.3.1 in c:\\users\\nidhi satyapriya\\onedrive\\desktop\\sih_2024\\.venv\\lib\\site-packages (from -r requirements.txt (line 11)) (6.0.2)\n",
      "Requirement already satisfied: requests>=2.32.0 in c:\\users\\nidhi satyapriya\\onedrive\\desktop\\sih_2024\\.venv\\lib\\site-packages (from -r requirements.txt (line 12)) (2.32.3)\n",
      "Requirement already satisfied: scipy>=1.4.1 in c:\\users\\nidhi satyapriya\\onedrive\\desktop\\sih_2024\\.venv\\lib\\site-packages (from -r requirements.txt (line 13)) (1.14.1)\n",
      "Requirement already satisfied: thop>=0.1.1 in c:\\users\\nidhi satyapriya\\onedrive\\desktop\\sih_2024\\.venv\\lib\\site-packages (from -r requirements.txt (line 14)) (0.1.1.post2209072238)\n",
      "Requirement already satisfied: torch>=1.8.0 in c:\\users\\nidhi satyapriya\\onedrive\\desktop\\sih_2024\\.venv\\lib\\site-packages (from -r requirements.txt (line 15)) (2.4.0)\n",
      "Requirement already satisfied: torchvision>=0.9.0 in c:\\users\\nidhi satyapriya\\onedrive\\desktop\\sih_2024\\.venv\\lib\\site-packages (from -r requirements.txt (line 16)) (0.19.0)\n",
      "Requirement already satisfied: tqdm>=4.64.0 in c:\\users\\nidhi satyapriya\\onedrive\\desktop\\sih_2024\\.venv\\lib\\site-packages (from -r requirements.txt (line 17)) (4.66.5)\n",
      "Requirement already satisfied: ultralytics>=8.2.34 in c:\\users\\nidhi satyapriya\\onedrive\\desktop\\sih_2024\\.venv\\lib\\site-packages (from -r requirements.txt (line 18)) (8.2.84)\n",
      "Requirement already satisfied: pandas>=1.1.4 in c:\\users\\nidhi satyapriya\\onedrive\\desktop\\sih_2024\\.venv\\lib\\site-packages (from -r requirements.txt (line 27)) (2.2.2)\n",
      "Requirement already satisfied: seaborn>=0.11.0 in c:\\users\\nidhi satyapriya\\onedrive\\desktop\\sih_2024\\.venv\\lib\\site-packages (from -r requirements.txt (line 28)) (0.13.2)\n",
      "Requirement already satisfied: setuptools>=70.0.0 in c:\\users\\nidhi satyapriya\\onedrive\\desktop\\sih_2024\\.venv\\lib\\site-packages (from -r requirements.txt (line 42)) (74.0.0)\n",
      "Requirement already satisfied: gitdb<5,>=4.0.1 in c:\\users\\nidhi satyapriya\\onedrive\\desktop\\sih_2024\\.venv\\lib\\site-packages (from gitpython>=3.1.30->-r requirements.txt (line 5)) (4.0.11)\n",
      "Requirement already satisfied: contourpy>=1.0.1 in c:\\users\\nidhi satyapriya\\onedrive\\desktop\\sih_2024\\.venv\\lib\\site-packages (from matplotlib>=3.3->-r requirements.txt (line 6)) (1.3.0)\n",
      "Requirement already satisfied: cycler>=0.10 in c:\\users\\nidhi satyapriya\\onedrive\\desktop\\sih_2024\\.venv\\lib\\site-packages (from matplotlib>=3.3->-r requirements.txt (line 6)) (0.12.1)\n",
      "Requirement already satisfied: fonttools>=4.22.0 in c:\\users\\nidhi satyapriya\\onedrive\\desktop\\sih_2024\\.venv\\lib\\site-packages (from matplotlib>=3.3->-r requirements.txt (line 6)) (4.53.1)\n",
      "Requirement already satisfied: kiwisolver>=1.3.1 in c:\\users\\nidhi satyapriya\\onedrive\\desktop\\sih_2024\\.venv\\lib\\site-packages (from matplotlib>=3.3->-r requirements.txt (line 6)) (1.4.5)\n",
      "Requirement already satisfied: packaging>=20.0 in c:\\users\\nidhi satyapriya\\onedrive\\desktop\\sih_2024\\.venv\\lib\\site-packages (from matplotlib>=3.3->-r requirements.txt (line 6)) (24.1)\n",
      "Requirement already satisfied: pyparsing>=2.3.1 in c:\\users\\nidhi satyapriya\\onedrive\\desktop\\sih_2024\\.venv\\lib\\site-packages (from matplotlib>=3.3->-r requirements.txt (line 6)) (3.1.4)\n",
      "Requirement already satisfied: python-dateutil>=2.7 in c:\\users\\nidhi satyapriya\\onedrive\\desktop\\sih_2024\\.venv\\lib\\site-packages (from matplotlib>=3.3->-r requirements.txt (line 6)) (2.9.0.post0)\n",
      "Requirement already satisfied: charset-normalizer<4,>=2 in c:\\users\\nidhi satyapriya\\onedrive\\desktop\\sih_2024\\.venv\\lib\\site-packages (from requests>=2.32.0->-r requirements.txt (line 12)) (3.3.2)\n",
      "Requirement already satisfied: idna<4,>=2.5 in c:\\users\\nidhi satyapriya\\onedrive\\desktop\\sih_2024\\.venv\\lib\\site-packages (from requests>=2.32.0->-r requirements.txt (line 12)) (3.8)\n",
      "Requirement already satisfied: urllib3<3,>=1.21.1 in c:\\users\\nidhi satyapriya\\onedrive\\desktop\\sih_2024\\.venv\\lib\\site-packages (from requests>=2.32.0->-r requirements.txt (line 12)) (2.2.2)\n",
      "Requirement already satisfied: certifi>=2017.4.17 in c:\\users\\nidhi satyapriya\\onedrive\\desktop\\sih_2024\\.venv\\lib\\site-packages (from requests>=2.32.0->-r requirements.txt (line 12)) (2024.8.30)\n",
      "Requirement already satisfied: filelock in c:\\users\\nidhi satyapriya\\onedrive\\desktop\\sih_2024\\.venv\\lib\\site-packages (from torch>=1.8.0->-r requirements.txt (line 15)) (3.15.4)\n",
      "Requirement already satisfied: typing-extensions>=4.8.0 in c:\\users\\nidhi satyapriya\\onedrive\\desktop\\sih_2024\\.venv\\lib\\site-packages (from torch>=1.8.0->-r requirements.txt (line 15)) (4.12.2)\n",
      "Requirement already satisfied: sympy in c:\\users\\nidhi satyapriya\\onedrive\\desktop\\sih_2024\\.venv\\lib\\site-packages (from torch>=1.8.0->-r requirements.txt (line 15)) (1.13.2)\n",
      "Requirement already satisfied: networkx in c:\\users\\nidhi satyapriya\\onedrive\\desktop\\sih_2024\\.venv\\lib\\site-packages (from torch>=1.8.0->-r requirements.txt (line 15)) (3.3)\n",
      "Requirement already satisfied: jinja2 in c:\\users\\nidhi satyapriya\\onedrive\\desktop\\sih_2024\\.venv\\lib\\site-packages (from torch>=1.8.0->-r requirements.txt (line 15)) (3.1.4)\n",
      "Requirement already satisfied: fsspec in c:\\users\\nidhi satyapriya\\onedrive\\desktop\\sih_2024\\.venv\\lib\\site-packages (from torch>=1.8.0->-r requirements.txt (line 15)) (2024.6.1)\n",
      "Requirement already satisfied: colorama in c:\\users\\nidhi satyapriya\\onedrive\\desktop\\sih_2024\\.venv\\lib\\site-packages (from tqdm>=4.64.0->-r requirements.txt (line 17)) (0.4.6)\n",
      "Requirement already satisfied: py-cpuinfo in c:\\users\\nidhi satyapriya\\onedrive\\desktop\\sih_2024\\.venv\\lib\\site-packages (from ultralytics>=8.2.34->-r requirements.txt (line 18)) (9.0.0)\n",
      "Requirement already satisfied: ultralytics-thop>=2.0.0 in c:\\users\\nidhi satyapriya\\onedrive\\desktop\\sih_2024\\.venv\\lib\\site-packages (from ultralytics>=8.2.34->-r requirements.txt (line 18)) (2.0.5)\n",
      "Requirement already satisfied: pytz>=2020.1 in c:\\users\\nidhi satyapriya\\onedrive\\desktop\\sih_2024\\.venv\\lib\\site-packages (from pandas>=1.1.4->-r requirements.txt (line 27)) (2024.1)\n",
      "Requirement already satisfied: tzdata>=2022.7 in c:\\users\\nidhi satyapriya\\onedrive\\desktop\\sih_2024\\.venv\\lib\\site-packages (from pandas>=1.1.4->-r requirements.txt (line 27)) (2024.1)\n",
      "Requirement already satisfied: smmap<6,>=3.0.1 in c:\\users\\nidhi satyapriya\\onedrive\\desktop\\sih_2024\\.venv\\lib\\site-packages (from gitdb<5,>=4.0.1->gitpython>=3.1.30->-r requirements.txt (line 5)) (5.0.1)\n",
      "Requirement already satisfied: six>=1.5 in c:\\users\\nidhi satyapriya\\onedrive\\desktop\\sih_2024\\.venv\\lib\\site-packages (from python-dateutil>=2.7->matplotlib>=3.3->-r requirements.txt (line 6)) (1.16.0)\n",
      "Requirement already satisfied: MarkupSafe>=2.0 in c:\\users\\nidhi satyapriya\\onedrive\\desktop\\sih_2024\\.venv\\lib\\site-packages (from jinja2->torch>=1.8.0->-r requirements.txt (line 15)) (2.1.5)\n",
      "Requirement already satisfied: mpmath<1.4,>=1.1.0 in c:\\users\\nidhi satyapriya\\onedrive\\desktop\\sih_2024\\.venv\\lib\\site-packages (from sympy->torch>=1.8.0->-r requirements.txt (line 15)) (1.3.0)\n"
     ]
    }
   ],
   "source": [
    "%pip install -r requirements.txt"
   ]
  },
  {
   "cell_type": "markdown",
   "metadata": {},
   "source": [
    "Training on Pre-trained model\n",
    "\n"
   ]
  },
  {
   "cell_type": "code",
   "execution_count": 8,
   "metadata": {},
   "outputs": [],
   "source": [
    "# python yolov5/detect.py --weights yolo5s.pt  --source 0"
   ]
  },
  {
   "cell_type": "code",
   "execution_count": 9,
   "metadata": {},
   "outputs": [
    {
     "name": "stdout",
     "output_type": "stream",
     "text": [
      "Training images: 3825\n",
      "Validation images: 158\n",
      "Test images: 159\n"
     ]
    }
   ],
   "source": [
    "import os\n",
    "from random import shuffle\n",
    "import shutil\n",
    "\n",
    "# Setup directory paths\n",
    "base_path = '../trash-detection.v35-avec-toutes-les-data-augmentation-dt-contrast-29.yolov5pytorch/'\n",
    "train_img_dir = os.path.join(base_path, 'train/images')\n",
    "train_lbl_dir = os.path.join(base_path, 'train/labels')\n",
    "val_img_dir = os.path.join(base_path, 'valid/images')\n",
    "val_lbl_dir = os.path.join(base_path, 'valid/labels')\n",
    "test_img_dir = os.path.join(base_path, 'test/images')\n",
    "test_lbl_dir = os.path.join(base_path, 'test/labels')\n",
    "\n",
    "# Setup ratio (val_ratio = rest of the files in origin dir after splitting into train and test)\n",
    "train_ratio = 0.8\n",
    "val_ratio = 0.2\n",
    "\n",
    "# Function to pair images and labels\n",
    "def pair_images_labels(img_dir, lbl_dir):\n",
    "    imgs = [f for f in os.listdir(img_dir) if f.endswith(('.jpg', '.png', '.jpeg'))]\n",
    "    xmls = [f for f in os.listdir(lbl_dir) if f.endswith('.txt')]\n",
    "    data_pairs = [(img, img.replace('.jpg', '.txt').replace('.png', '.txt').replace('.jpeg', '.txt')) for img in imgs]\n",
    "    return data_pairs\n",
    "\n",
    "# Pair images and labels\n",
    "train_pairs = pair_images_labels(train_img_dir, train_lbl_dir)\n",
    "val_pairs = pair_images_labels(val_img_dir, val_lbl_dir)\n",
    "test_pairs = pair_images_labels(test_img_dir, test_lbl_dir)\n",
    "\n",
    "# Shuffle data pairs\n",
    "shuffle(train_pairs)\n",
    "shuffle(val_pairs)\n",
    "shuffle(test_pairs)\n",
    "\n",
    "# Print the counts\n",
    "print(f\"Training images: {len(train_pairs)}\")\n",
    "print(f\"Validation images: {len(val_pairs)}\")\n",
    "print(f\"Test images: {len(test_pairs)}\")\n",
    "\n",
    "# If you need to split further into different sets, you can proceed to move files as needed.\n",
    "# For example, splitting train into new train and val could be done here.\n",
    "# The current script assumes that the split has already been done, based on your directory structure.\n"
   ]
  },
  {
   "cell_type": "code",
   "execution_count": 13,
   "metadata": {},
   "outputs": [
    {
     "name": "stdout",
     "output_type": "stream",
     "text": [
      "Collecting protobuf==3.20.0Note: you may need to restart the kernel to use updated packages.\n"
     ]
    },
    {
     "name": "stderr",
     "output_type": "stream",
     "text": [
      "  WARNING: Failed to remove contents in a temporary directory 'C:\\Users\\Nidhi Satyapriya\\OneDrive\\Desktop\\SIH_2024\\.venv\\Lib\\site-packages\\google\\~upb'.\n",
      "  You can safely remove it manually.\n",
      "ERROR: pip's dependency resolver does not currently take into account all the packages that are installed. This behaviour is the source of the following dependency conflicts.\n",
      "tensorflow-intel 2.17.0 requires keras>=3.2.0, but you have keras 2.2.4 which is incompatible.\n",
      "tensorflow-intel 2.17.0 requires protobuf!=4.21.0,!=4.21.1,!=4.21.2,!=4.21.3,!=4.21.4,!=4.21.5,<5.0.0dev,>=3.20.3, but you have protobuf 3.20.0 which is incompatible.\n",
      "tensorflow-intel 2.17.0 requires tensorboard<2.18,>=2.17, but you have tensorboard 2.4.1 which is incompatible.\n"
     ]
    },
    {
     "name": "stdout",
     "output_type": "stream",
     "text": [
      "\n",
      "  Downloading protobuf-3.20.0-py2.py3-none-any.whl.metadata (720 bytes)\n",
      "Downloading protobuf-3.20.0-py2.py3-none-any.whl (162 kB)\n",
      "Installing collected packages: protobuf\n",
      "  Attempting uninstall: protobuf\n",
      "    Found existing installation: protobuf 4.25.4\n",
      "    Uninstalling protobuf-4.25.4:\n",
      "      Successfully uninstalled protobuf-4.25.4\n",
      "Successfully installed protobuf-3.20.0\n"
     ]
    }
   ],
   "source": [
    "pip install protobuf==3.20.0\n"
   ]
  },
  {
   "cell_type": "code",
   "execution_count": 12,
   "metadata": {},
   "outputs": [
    {
     "name": "stderr",
     "output_type": "stream",
     "text": [
      "Traceback (most recent call last):\n",
      "  File \"c:\\Users\\Nidhi Satyapriya\\OneDrive\\Desktop\\SIH_2024\\yolov5\\train.py\", line 81, in <module>\n",
      "    from utils.loggers import LOGGERS, Loggers\n",
      "  File \"c:\\Users\\Nidhi Satyapriya\\OneDrive\\Desktop\\SIH_2024\\yolov5\\utils\\loggers\\__init__.py\", line 22, in <module>\n",
      "    from torch.utils.tensorboard import SummaryWriter\n",
      "  File \"c:\\Users\\Nidhi Satyapriya\\OneDrive\\Desktop\\SIH_2024\\.venv\\Lib\\site-packages\\torch\\utils\\tensorboard\\__init__.py\", line 12, in <module>\n",
      "    from .writer import FileWriter, SummaryWriter  # noqa: F401\n",
      "    ^^^^^^^^^^^^^^^^^^^^^^^^^^^^^^^^^^^^^^^^^^^^^\n",
      "  File \"c:\\Users\\Nidhi Satyapriya\\OneDrive\\Desktop\\SIH_2024\\.venv\\Lib\\site-packages\\torch\\utils\\tensorboard\\writer.py\", line 13, in <module>\n",
      "    from tensorboard.compat.proto import event_pb2\n",
      "  File \"c:\\Users\\Nidhi Satyapriya\\OneDrive\\Desktop\\SIH_2024\\.venv\\Lib\\site-packages\\tensorboard\\compat\\proto\\event_pb2.py\", line 17, in <module>\n",
      "    from tensorboard.compat.proto import summary_pb2 as tensorboard_dot_compat_dot_proto_dot_summary__pb2\n",
      "  File \"c:\\Users\\Nidhi Satyapriya\\OneDrive\\Desktop\\SIH_2024\\.venv\\Lib\\site-packages\\tensorboard\\compat\\proto\\summary_pb2.py\", line 17, in <module>\n",
      "    from tensorboard.compat.proto import tensor_pb2 as tensorboard_dot_compat_dot_proto_dot_tensor__pb2\n",
      "  File \"c:\\Users\\Nidhi Satyapriya\\OneDrive\\Desktop\\SIH_2024\\.venv\\Lib\\site-packages\\tensorboard\\compat\\proto\\tensor_pb2.py\", line 16, in <module>\n",
      "    from tensorboard.compat.proto import resource_handle_pb2 as tensorboard_dot_compat_dot_proto_dot_resource__handle__pb2\n",
      "  File \"c:\\Users\\Nidhi Satyapriya\\OneDrive\\Desktop\\SIH_2024\\.venv\\Lib\\site-packages\\tensorboard\\compat\\proto\\resource_handle_pb2.py\", line 16, in <module>\n",
      "    from tensorboard.compat.proto import tensor_shape_pb2 as tensorboard_dot_compat_dot_proto_dot_tensor__shape__pb2\n",
      "  File \"c:\\Users\\Nidhi Satyapriya\\OneDrive\\Desktop\\SIH_2024\\.venv\\Lib\\site-packages\\tensorboard\\compat\\proto\\tensor_shape_pb2.py\", line 36, in <module>\n",
      "    _descriptor.FieldDescriptor(\n",
      "  File \"c:\\Users\\Nidhi Satyapriya\\OneDrive\\Desktop\\SIH_2024\\.venv\\Lib\\site-packages\\google\\protobuf\\descriptor.py\", line 553, in __new__\n",
      "    _message.Message._CheckCalledFromGeneratedFile()\n",
      "TypeError: Descriptors cannot be created directly.\n",
      "If this call came from a _pb2.py file, your generated code is out of date and must be regenerated with protoc >= 3.19.0.\n",
      "If you cannot immediately regenerate your protos, some other possible workarounds are:\n",
      " 1. Downgrade the protobuf package to 3.20.x or lower.\n",
      " 2. Set PROTOCOL_BUFFERS_PYTHON_IMPLEMENTATION=python (but this will use pure-Python parsing and will be much slower).\n",
      "\n",
      "More information: https://developers.google.com/protocol-buffers/docs/news/2022-05-06#python-updates\n"
     ]
    }
   ],
   "source": [
    "!python train.py --img 400 --batch 8 --epochs 50 --data ./data.yaml --cfg yolov5s.yaml --weights yolov5s.pt --name custom_yolov5 --cache\n"
   ]
  },
  {
   "cell_type": "code",
   "execution_count": 1,
   "metadata": {},
   "outputs": [
    {
     "name": "stdout",
     "output_type": "stream",
     "text": [
      "Looking in indexes: https://pypi.org/simple, https://download.pytorch.org/whl/cu117Note: you may need to restart the kernel to use updated packages.\n",
      "\n",
      "Requirement already satisfied: torch in c:\\users\\nidhi satyapriya\\onedrive\\desktop\\sih2024\\.venv\\lib\\site-packages (2.4.0)\n",
      "Requirement already satisfied: torchvision in c:\\users\\nidhi satyapriya\\onedrive\\desktop\\sih2024\\.venv\\lib\\site-packages (0.19.0)\n",
      "Collecting torchaudio\n",
      "  Downloading torchaudio-2.4.0-cp311-cp311-win_amd64.whl.metadata (6.4 kB)\n",
      "Requirement already satisfied: filelock in c:\\users\\nidhi satyapriya\\onedrive\\desktop\\sih2024\\.venv\\lib\\site-packages (from torch) (3.15.4)\n",
      "Requirement already satisfied: typing-extensions>=4.8.0 in c:\\users\\nidhi satyapriya\\onedrive\\desktop\\sih2024\\.venv\\lib\\site-packages (from torch) (4.12.2)\n",
      "Requirement already satisfied: sympy in c:\\users\\nidhi satyapriya\\onedrive\\desktop\\sih2024\\.venv\\lib\\site-packages (from torch) (1.13.2)\n",
      "Requirement already satisfied: networkx in c:\\users\\nidhi satyapriya\\onedrive\\desktop\\sih2024\\.venv\\lib\\site-packages (from torch) (3.3)\n",
      "Requirement already satisfied: jinja2 in c:\\users\\nidhi satyapriya\\onedrive\\desktop\\sih2024\\.venv\\lib\\site-packages (from torch) (3.1.4)\n",
      "Requirement already satisfied: fsspec in c:\\users\\nidhi satyapriya\\onedrive\\desktop\\sih2024\\.venv\\lib\\site-packages (from torch) (2024.6.1)\n",
      "Requirement already satisfied: numpy<2 in c:\\users\\nidhi satyapriya\\onedrive\\desktop\\sih2024\\.venv\\lib\\site-packages (from torchvision) (1.26.4)\n",
      "Requirement already satisfied: pillow!=8.3.*,>=5.3.0 in c:\\users\\nidhi satyapriya\\onedrive\\desktop\\sih2024\\.venv\\lib\\site-packages (from torchvision) (10.4.0)\n",
      "Requirement already satisfied: MarkupSafe>=2.0 in c:\\users\\nidhi satyapriya\\onedrive\\desktop\\sih2024\\.venv\\lib\\site-packages (from jinja2->torch) (2.1.5)\n",
      "Requirement already satisfied: mpmath<1.4,>=1.1.0 in c:\\users\\nidhi satyapriya\\onedrive\\desktop\\sih2024\\.venv\\lib\\site-packages (from sympy->torch) (1.3.0)\n",
      "Downloading torchaudio-2.4.0-cp311-cp311-win_amd64.whl (2.4 MB)\n",
      "   ---------------------------------------- 0.0/2.4 MB ? eta -:--:--\n",
      "   ---------------------------------------- 0.0/2.4 MB ? eta -:--:--\n",
      "   ---- ----------------------------------- 0.3/2.4 MB ? eta -:--:--\n",
      "   ---- ----------------------------------- 0.3/2.4 MB ? eta -:--:--\n",
      "   -------- ------------------------------- 0.5/2.4 MB 699.0 kB/s eta 0:00:03\n",
      "   ------------- -------------------------- 0.8/2.4 MB 838.9 kB/s eta 0:00:02\n",
      "   ------------- -------------------------- 0.8/2.4 MB 838.9 kB/s eta 0:00:02\n",
      "   ----------------- ---------------------- 1.0/2.4 MB 825.2 kB/s eta 0:00:02\n",
      "   --------------------- ------------------ 1.3/2.4 MB 907.1 kB/s eta 0:00:02\n",
      "   -------------------------- ------------- 1.6/2.4 MB 864.6 kB/s eta 0:00:01\n",
      "   ------------------------------ --------- 1.8/2.4 MB 906.5 kB/s eta 0:00:01\n",
      "   ------------------------------ --------- 1.8/2.4 MB 906.5 kB/s eta 0:00:01\n",
      "   ---------------------------------- ----- 2.1/2.4 MB 917.5 kB/s eta 0:00:01\n",
      "   ---------------------------------------- 2.4/2.4 MB 932.3 kB/s eta 0:00:00\n",
      "Installing collected packages: torchaudio\n",
      "Successfully installed torchaudio-2.4.0\n"
     ]
    }
   ],
   "source": [
    "# pip install torch torchvision torchaudio --extra-index-url https://download.pytorch.org/whl/cu117\n"
   ]
  },
  {
   "cell_type": "code",
   "execution_count": 10,
   "metadata": {},
   "outputs": [
    {
     "name": "stdout",
     "output_type": "stream",
     "text": [
      "Num GPUs Available:  0\n"
     ]
    }
   ],
   "source": [
    "import tensorflow as tf\n",
    "print(\"Num GPUs Available: \", len(tf.config.list_physical_devices('GPU')))\n"
   ]
  },
  {
   "cell_type": "code",
   "execution_count": null,
   "metadata": {},
   "outputs": [],
   "source": []
  }
 ],
 "metadata": {
  "kernelspec": {
   "display_name": ".venv",
   "language": "python",
   "name": "python3"
  },
  "language_info": {
   "codemirror_mode": {
    "name": "ipython",
    "version": 3
   },
   "file_extension": ".py",
   "mimetype": "text/x-python",
   "name": "python",
   "nbconvert_exporter": "python",
   "pygments_lexer": "ipython3",
   "version": "3.11.3"
  }
 },
 "nbformat": 4,
 "nbformat_minor": 2
}
