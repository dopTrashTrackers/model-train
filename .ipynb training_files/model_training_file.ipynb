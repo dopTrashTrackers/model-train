{
 "cells": [
  {
   "cell_type": "code",
   "execution_count": 1,
   "id": "6cd45603",
   "metadata": {
    "execution": {
     "iopub.execute_input": "2024-10-09T13:04:18.173705Z",
     "iopub.status.busy": "2024-10-09T13:04:18.173407Z",
     "iopub.status.idle": "2024-10-09T13:05:04.365683Z",
     "shell.execute_reply": "2024-10-09T13:05:04.364377Z"
    },
    "executionInfo": {
     "elapsed": 18509,
     "status": "ok",
     "timestamp": 1725173040506,
     "user": {
      "displayName": "Nidhi Satyapriya",
      "userId": "18074991652491386433"
     },
     "user_tz": -330
    },
    "id": "Cor6N6ABn6Y2",
    "outputId": "1fa06fcf-39c3-462c-9cd6-8af67a7147f0",
    "papermill": {
     "duration": 46.207554,
     "end_time": "2024-10-09T13:05:04.367756",
     "exception": false,
     "start_time": "2024-10-09T13:04:18.160202",
     "status": "completed"
    },
    "tags": []
   },
   "outputs": [
    {
     "name": "stdout",
     "output_type": "stream",
     "text": [
      "Requirement already satisfied: pip in /opt/conda/lib/python3.10/site-packages (24.0)\r\n",
      "Collecting pip\r\n",
      "  Downloading pip-24.2-py3-none-any.whl.metadata (3.6 kB)\r\n",
      "Downloading pip-24.2-py3-none-any.whl (1.8 MB)\r\n",
      "\u001b[2K   \u001b[90m━━━━━━━━━━━━━━━━━━━━━━━━━━━━━━━━━━━━━━━━\u001b[0m \u001b[32m1.8/1.8 MB\u001b[0m \u001b[31m22.2 MB/s\u001b[0m eta \u001b[36m0:00:00\u001b[0m\r\n",
      "\u001b[?25hInstalling collected packages: pip\r\n",
      "  Attempting uninstall: pip\r\n",
      "    Found existing installation: pip 24.0\r\n",
      "    Uninstalling pip-24.0:\r\n",
      "      Successfully uninstalled pip-24.0\r\n",
      "Successfully installed pip-24.2\r\n",
      "\u001b[31mERROR: Could not find a version that satisfies the requirement tensorflow==2.3.1 (from versions: 2.8.0rc0, 2.8.0rc1, 2.8.0, 2.8.1, 2.8.2, 2.8.3, 2.8.4, 2.9.0rc0, 2.9.0rc1, 2.9.0rc2, 2.9.0, 2.9.1, 2.9.2, 2.9.3, 2.10.0rc0, 2.10.0rc1, 2.10.0rc2, 2.10.0rc3, 2.10.0, 2.10.1, 2.11.0rc0, 2.11.0rc1, 2.11.0rc2, 2.11.0, 2.11.1, 2.12.0rc0, 2.12.0rc1, 2.12.0, 2.12.1, 2.13.0rc0, 2.13.0rc1, 2.13.0rc2, 2.13.0, 2.13.1, 2.14.0rc0, 2.14.0rc1, 2.14.0, 2.14.1, 2.15.0rc0, 2.15.0rc1, 2.15.0, 2.15.0.post1, 2.15.1, 2.16.0rc0, 2.16.1, 2.16.2, 2.17.0rc0, 2.17.0rc1, 2.17.0, 2.18.0rc0, 2.18.0rc1)\u001b[0m\u001b[31m\r\n",
      "\u001b[0m\u001b[31mERROR: No matching distribution found for tensorflow==2.3.1\u001b[0m\u001b[31m\r\n",
      "\u001b[0mNote: you may need to restart the kernel to use updated packages.\n",
      "Collecting tensorboard==2.4.1\r\n",
      "  Downloading tensorboard-2.4.1-py3-none-any.whl.metadata (2.0 kB)\r\n",
      "Requirement already satisfied: absl-py>=0.4 in /opt/conda/lib/python3.10/site-packages (from tensorboard==2.4.1) (1.4.0)\r\n",
      "Requirement already satisfied: grpcio>=1.24.3 in /opt/conda/lib/python3.10/site-packages (from tensorboard==2.4.1) (1.62.2)\r\n",
      "Collecting google-auth<2,>=1.6.3 (from tensorboard==2.4.1)\r\n",
      "  Downloading google_auth-1.35.0-py2.py3-none-any.whl.metadata (3.5 kB)\r\n",
      "Collecting google-auth-oauthlib<0.5,>=0.4.1 (from tensorboard==2.4.1)\r\n",
      "  Downloading google_auth_oauthlib-0.4.6-py2.py3-none-any.whl.metadata (2.7 kB)\r\n",
      "Requirement already satisfied: markdown>=2.6.8 in /opt/conda/lib/python3.10/site-packages (from tensorboard==2.4.1) (3.6)\r\n",
      "Requirement already satisfied: numpy>=1.12.0 in /opt/conda/lib/python3.10/site-packages (from tensorboard==2.4.1) (1.26.4)\r\n",
      "Requirement already satisfied: protobuf>=3.6.0 in /opt/conda/lib/python3.10/site-packages (from tensorboard==2.4.1) (3.20.3)\r\n",
      "Requirement already satisfied: requests<3,>=2.21.0 in /opt/conda/lib/python3.10/site-packages (from tensorboard==2.4.1) (2.32.3)\r\n",
      "Requirement already satisfied: setuptools>=41.0.0 in /opt/conda/lib/python3.10/site-packages (from tensorboard==2.4.1) (70.0.0)\r\n",
      "Requirement already satisfied: six>=1.10.0 in /opt/conda/lib/python3.10/site-packages (from tensorboard==2.4.1) (1.16.0)\r\n",
      "Collecting tensorboard-plugin-wit>=1.6.0 (from tensorboard==2.4.1)\r\n",
      "  Downloading tensorboard_plugin_wit-1.8.1-py3-none-any.whl.metadata (873 bytes)\r\n",
      "Requirement already satisfied: werkzeug>=0.11.15 in /opt/conda/lib/python3.10/site-packages (from tensorboard==2.4.1) (3.0.3)\r\n",
      "Requirement already satisfied: wheel>=0.26 in /opt/conda/lib/python3.10/site-packages (from tensorboard==2.4.1) (0.43.0)\r\n",
      "Requirement already satisfied: cachetools<5.0,>=2.0.0 in /opt/conda/lib/python3.10/site-packages (from google-auth<2,>=1.6.3->tensorboard==2.4.1) (4.2.4)\r\n",
      "Requirement already satisfied: pyasn1-modules>=0.2.1 in /opt/conda/lib/python3.10/site-packages (from google-auth<2,>=1.6.3->tensorboard==2.4.1) (0.4.0)\r\n",
      "Requirement already satisfied: rsa<5,>=3.1.4 in /opt/conda/lib/python3.10/site-packages (from google-auth<2,>=1.6.3->tensorboard==2.4.1) (4.9)\r\n",
      "Requirement already satisfied: requests-oauthlib>=0.7.0 in /opt/conda/lib/python3.10/site-packages (from google-auth-oauthlib<0.5,>=0.4.1->tensorboard==2.4.1) (2.0.0)\r\n",
      "Requirement already satisfied: charset-normalizer<4,>=2 in /opt/conda/lib/python3.10/site-packages (from requests<3,>=2.21.0->tensorboard==2.4.1) (3.3.2)\r\n",
      "Requirement already satisfied: idna<4,>=2.5 in /opt/conda/lib/python3.10/site-packages (from requests<3,>=2.21.0->tensorboard==2.4.1) (3.7)\r\n",
      "Requirement already satisfied: urllib3<3,>=1.21.1 in /opt/conda/lib/python3.10/site-packages (from requests<3,>=2.21.0->tensorboard==2.4.1) (1.26.18)\r\n",
      "Requirement already satisfied: certifi>=2017.4.17 in /opt/conda/lib/python3.10/site-packages (from requests<3,>=2.21.0->tensorboard==2.4.1) (2024.7.4)\r\n",
      "Requirement already satisfied: MarkupSafe>=2.1.1 in /opt/conda/lib/python3.10/site-packages (from werkzeug>=0.11.15->tensorboard==2.4.1) (2.1.5)\r\n",
      "Requirement already satisfied: pyasn1<0.7.0,>=0.4.6 in /opt/conda/lib/python3.10/site-packages (from pyasn1-modules>=0.2.1->google-auth<2,>=1.6.3->tensorboard==2.4.1) (0.6.0)\r\n",
      "Requirement already satisfied: oauthlib>=3.0.0 in /opt/conda/lib/python3.10/site-packages (from requests-oauthlib>=0.7.0->google-auth-oauthlib<0.5,>=0.4.1->tensorboard==2.4.1) (3.2.2)\r\n",
      "Downloading tensorboard-2.4.1-py3-none-any.whl (10.6 MB)\r\n",
      "\u001b[2K   \u001b[90m━━━━━━━━━━━━━━━━━━━━━━━━━━━━━━━━━━━━━━━━\u001b[0m \u001b[32m10.6/10.6 MB\u001b[0m \u001b[31m96.1 MB/s\u001b[0m eta \u001b[36m0:00:00\u001b[0m\r\n",
      "\u001b[?25hDownloading google_auth-1.35.0-py2.py3-none-any.whl (152 kB)\r\n",
      "Downloading google_auth_oauthlib-0.4.6-py2.py3-none-any.whl (18 kB)\r\n",
      "Downloading tensorboard_plugin_wit-1.8.1-py3-none-any.whl (781 kB)\r\n",
      "\u001b[2K   \u001b[90m━━━━━━━━━━━━━━━━━━━━━━━━━━━━━━━━━━━━━━━━\u001b[0m \u001b[32m781.3/781.3 kB\u001b[0m \u001b[31m33.8 MB/s\u001b[0m eta \u001b[36m0:00:00\u001b[0m\r\n",
      "\u001b[?25hInstalling collected packages: tensorboard-plugin-wit, google-auth, google-auth-oauthlib, tensorboard\r\n",
      "  Attempting uninstall: google-auth\r\n",
      "    Found existing installation: google-auth 2.30.0\r\n",
      "    Uninstalling google-auth-2.30.0:\r\n",
      "      Successfully uninstalled google-auth-2.30.0\r\n",
      "  Attempting uninstall: google-auth-oauthlib\r\n",
      "    Found existing installation: google-auth-oauthlib 1.2.0\r\n",
      "    Uninstalling google-auth-oauthlib-1.2.0:\r\n",
      "      Successfully uninstalled google-auth-oauthlib-1.2.0\r\n",
      "  Attempting uninstall: tensorboard\r\n",
      "    Found existing installation: tensorboard 2.16.2\r\n",
      "    Uninstalling tensorboard-2.16.2:\r\n",
      "      Successfully uninstalled tensorboard-2.16.2\r\n",
      "\u001b[31mERROR: pip's dependency resolver does not currently take into account all the packages that are installed. This behaviour is the source of the following dependency conflicts.\r\n",
      "beatrix-jupyterlab 2024.66.154055 requires jupyterlab~=3.6.0, but you have jupyterlab 4.2.4 which is incompatible.\r\n",
      "bigframes 0.22.0 requires google-auth<3.0dev,>=2.15.0, but you have google-auth 1.35.0 which is incompatible.\r\n",
      "bigframes 0.22.0 requires google-cloud-bigquery[bqstorage,pandas]>=3.10.0, but you have google-cloud-bigquery 2.34.4 which is incompatible.\r\n",
      "bigframes 0.22.0 requires google-cloud-storage>=2.0.0, but you have google-cloud-storage 1.44.0 which is incompatible.\r\n",
      "bigframes 0.22.0 requires pandas<2.1.4,>=1.5.0, but you have pandas 2.2.2 which is incompatible.\r\n",
      "dataproc-jupyter-plugin 0.1.79 requires pydantic~=1.10.0, but you have pydantic 2.8.2 which is incompatible.\r\n",
      "google-ai-generativelanguage 0.6.6 requires google-auth!=2.24.0,!=2.25.0,<3.0.0dev,>=2.14.1, but you have google-auth 1.35.0 which is incompatible.\r\n",
      "google-api-core 2.11.1 requires google-auth<3.0.dev0,>=2.14.1, but you have google-auth 1.35.0 which is incompatible.\r\n",
      "google-cloud-aiplatform 0.6.0a1 requires google-api-core[grpc]<2.0.0dev,>=1.22.2, but you have google-api-core 2.11.1 which is incompatible.\r\n",
      "google-cloud-artifact-registry 1.11.3 requires google-auth!=2.24.0,!=2.25.0,<3.0.0dev,>=2.14.1, but you have google-auth 1.35.0 which is incompatible.\r\n",
      "google-cloud-automl 1.0.1 requires google-api-core[grpc]<2.0.0dev,>=1.14.0, but you have google-api-core 2.11.1 which is incompatible.\r\n",
      "google-cloud-bigquery-connection 1.15.3 requires google-auth!=2.24.0,!=2.25.0,<3.0.0dev,>=2.14.1, but you have google-auth 1.35.0 which is incompatible.\r\n",
      "google-cloud-datastore 2.20.1 requires google-auth!=2.24.0,!=2.25.0,<3.0.0dev,>=2.14.1, but you have google-auth 1.35.0 which is incompatible.\r\n",
      "google-cloud-dlp 3.18.0 requires google-auth!=2.24.0,!=2.25.0,<3.0.0dev,>=2.14.1, but you have google-auth 1.35.0 which is incompatible.\r\n",
      "google-cloud-functions 1.16.3 requires google-auth!=2.24.0,!=2.25.0,<3.0.0dev,>=2.14.1, but you have google-auth 1.35.0 which is incompatible.\r\n",
      "google-cloud-iam 2.15.0 requires google-auth!=2.24.0,!=2.25.0,<3.0.0dev,>=2.14.1, but you have google-auth 1.35.0 which is incompatible.\r\n",
      "google-cloud-language 2.14.0 requires google-auth!=2.24.0,!=2.25.0,<3.0.0dev,>=2.14.1, but you have google-auth 1.35.0 which is incompatible.\r\n",
      "google-cloud-monitoring 2.21.0 requires google-auth!=2.24.0,!=2.25.0,<3.0.0dev,>=2.14.1, but you have google-auth 1.35.0 which is incompatible.\r\n",
      "google-cloud-pubsub 2.21.3 requires google-auth<3.0.0dev,>=2.14.1, but you have google-auth 1.35.0 which is incompatible.\r\n",
      "google-cloud-resource-manager 1.12.3 requires google-auth!=2.24.0,!=2.25.0,<3.0.0dev,>=2.14.1, but you have google-auth 1.35.0 which is incompatible.\r\n",
      "google-cloud-videointelligence 2.13.5 requires google-auth!=2.24.0,!=2.25.0,<3.0.0dev,>=2.14.1, but you have google-auth 1.35.0 which is incompatible.\r\n",
      "google-generativeai 0.7.2 requires google-auth>=2.15.0, but you have google-auth 1.35.0 which is incompatible.\r\n",
      "kfp 2.5.0 requires google-cloud-storage<3,>=2.2.1, but you have google-cloud-storage 1.44.0 which is incompatible.\r\n",
      "tensorflow 2.16.1 requires tensorboard<2.17,>=2.16, but you have tensorboard 2.4.1 which is incompatible.\u001b[0m\u001b[31m\r\n",
      "\u001b[0mSuccessfully installed google-auth-1.35.0 google-auth-oauthlib-0.4.6 tensorboard-2.4.1 tensorboard-plugin-wit-1.8.1\r\n",
      "Note: you may need to restart the kernel to use updated packages.\n",
      "Requirement already satisfied: torch in /opt/conda/lib/python3.10/site-packages (2.4.0)\r\n",
      "Requirement already satisfied: filelock in /opt/conda/lib/python3.10/site-packages (from torch) (3.15.1)\r\n",
      "Requirement already satisfied: typing-extensions>=4.8.0 in /opt/conda/lib/python3.10/site-packages (from torch) (4.12.2)\r\n",
      "Requirement already satisfied: sympy in /opt/conda/lib/python3.10/site-packages (from torch) (1.13.2)\r\n",
      "Requirement already satisfied: networkx in /opt/conda/lib/python3.10/site-packages (from torch) (3.3)\r\n",
      "Requirement already satisfied: jinja2 in /opt/conda/lib/python3.10/site-packages (from torch) (3.1.4)\r\n",
      "Requirement already satisfied: fsspec in /opt/conda/lib/python3.10/site-packages (from torch) (2024.6.1)\r\n",
      "Requirement already satisfied: MarkupSafe>=2.0 in /opt/conda/lib/python3.10/site-packages (from jinja2->torch) (2.1.5)\r\n",
      "Requirement already satisfied: mpmath<1.4,>=1.1.0 in /opt/conda/lib/python3.10/site-packages (from sympy->torch) (1.3.0)\r\n",
      "Note: you may need to restart the kernel to use updated packages.\n"
     ]
    }
   ],
   "source": [
    "!python -m pip install --upgrade pip\n",
    "\n",
    "%pip install tensorflow==2.3.1\n",
    "\n",
    "%pip install tensorboard==2.4.1\n",
    "%pip install torch"
   ]
  },
  {
   "cell_type": "code",
   "execution_count": 2,
   "id": "e13d73f0",
   "metadata": {
    "execution": {
     "iopub.execute_input": "2024-10-09T13:05:04.398325Z",
     "iopub.status.busy": "2024-10-09T13:05:04.397999Z",
     "iopub.status.idle": "2024-10-09T13:05:07.968588Z",
     "shell.execute_reply": "2024-10-09T13:05:07.967610Z"
    },
    "executionInfo": {
     "elapsed": 4285,
     "status": "ok",
     "timestamp": 1725173167408,
     "user": {
      "displayName": "Nidhi Satyapriya",
      "userId": "18074991652491386433"
     },
     "user_tz": -330
    },
    "id": "4_9WLwQnn6Y5",
    "papermill": {
     "duration": 3.588473,
     "end_time": "2024-10-09T13:05:07.970973",
     "exception": false,
     "start_time": "2024-10-09T13:05:04.382500",
     "status": "completed"
    },
    "tags": []
   },
   "outputs": [],
   "source": [
    "import torch # YOLOv5 implemented using pytorch"
   ]
  },
  {
   "cell_type": "code",
   "execution_count": 3,
   "id": "87f2d6fa",
   "metadata": {
    "execution": {
     "iopub.execute_input": "2024-10-09T13:05:08.001707Z",
     "iopub.status.busy": "2024-10-09T13:05:08.001283Z",
     "iopub.status.idle": "2024-10-09T13:05:08.005585Z",
     "shell.execute_reply": "2024-10-09T13:05:08.004705Z"
    },
    "executionInfo": {
     "elapsed": 1117,
     "status": "ok",
     "timestamp": 1725173161819,
     "user": {
      "displayName": "Nidhi Satyapriya",
      "userId": "18074991652491386433"
     },
     "user_tz": -330
    },
    "id": "Gzga0d0zn6Y6",
    "papermill": {
     "duration": 0.021791,
     "end_time": "2024-10-09T13:05:08.007409",
     "exception": false,
     "start_time": "2024-10-09T13:05:07.985618",
     "status": "completed"
    },
    "tags": []
   },
   "outputs": [],
   "source": [
    "from IPython.display import Image #this is to render predictions"
   ]
  },
  {
   "cell_type": "code",
   "execution_count": 4,
   "id": "b5e2fdc0",
   "metadata": {
    "execution": {
     "iopub.execute_input": "2024-10-09T13:05:08.037400Z",
     "iopub.status.busy": "2024-10-09T13:05:08.037089Z",
     "iopub.status.idle": "2024-10-09T13:05:10.786678Z",
     "shell.execute_reply": "2024-10-09T13:05:10.785706Z"
    },
    "executionInfo": {
     "elapsed": 2707,
     "status": "ok",
     "timestamp": 1725173170111,
     "user": {
      "displayName": "Nidhi Satyapriya",
      "userId": "18074991652491386433"
     },
     "user_tz": -330
    },
    "id": "ISC2KWdMn6Y7",
    "outputId": "fd096295-b418-4855-f8ac-2b37d376a390",
    "papermill": {
     "duration": 2.766836,
     "end_time": "2024-10-09T13:05:10.788783",
     "exception": false,
     "start_time": "2024-10-09T13:05:08.021947",
     "status": "completed"
    },
    "tags": []
   },
   "outputs": [
    {
     "name": "stdout",
     "output_type": "stream",
     "text": [
      "Cloning into 'yolov5'...\r\n",
      "remote: Enumerating objects: 16977, done.\u001b[K\r\n",
      "remote: Counting objects: 100% (172/172), done.\u001b[K\r\n",
      "remote: Compressing objects: 100% (119/119), done.\u001b[K\r\n",
      "remote: Total 16977 (delta 89), reused 108 (delta 53), pack-reused 16805 (from 1)\u001b[K\r\n",
      "Receiving objects: 100% (16977/16977), 15.72 MiB | 26.38 MiB/s, done.\r\n",
      "Resolving deltas: 100% (11622/11622), done.\r\n"
     ]
    }
   ],
   "source": [
    "!git clone https://github.com/ultralytics/yolov5"
   ]
  },
  {
   "cell_type": "code",
   "execution_count": 5,
   "id": "07eb608e",
   "metadata": {
    "execution": {
     "iopub.execute_input": "2024-10-09T13:05:10.824007Z",
     "iopub.status.busy": "2024-10-09T13:05:10.823681Z",
     "iopub.status.idle": "2024-10-09T13:05:11.837875Z",
     "shell.execute_reply": "2024-10-09T13:05:11.836821Z"
    },
    "executionInfo": {
     "elapsed": 6,
     "status": "ok",
     "timestamp": 1725173170111,
     "user": {
      "displayName": "Nidhi Satyapriya",
      "userId": "18074991652491386433"
     },
     "user_tz": -330
    },
    "id": "RelG8p-p21w5",
    "outputId": "7141e355-49aa-4c32-cc1d-7f72e1b390fd",
    "papermill": {
     "duration": 1.034308,
     "end_time": "2024-10-09T13:05:11.839991",
     "exception": false,
     "start_time": "2024-10-09T13:05:10.805683",
     "status": "completed"
    },
    "tags": []
   },
   "outputs": [
    {
     "name": "stdout",
     "output_type": "stream",
     "text": [
      "__notebook__.ipynb  yolov5\r\n"
     ]
    }
   ],
   "source": [
    "!ls\n"
   ]
  },
  {
   "cell_type": "code",
   "execution_count": 6,
   "id": "32866919",
   "metadata": {
    "execution": {
     "iopub.execute_input": "2024-10-09T13:05:11.875514Z",
     "iopub.status.busy": "2024-10-09T13:05:11.874795Z",
     "iopub.status.idle": "2024-10-09T13:05:11.881534Z",
     "shell.execute_reply": "2024-10-09T13:05:11.880424Z"
    },
    "executionInfo": {
     "elapsed": 4,
     "status": "ok",
     "timestamp": 1725173170111,
     "user": {
      "displayName": "Nidhi Satyapriya",
      "userId": "18074991652491386433"
     },
     "user_tz": -330
    },
    "id": "NqDWPzWdn6Y7",
    "outputId": "de2d3b0c-31dd-4861-891a-c1957bcfcc23",
    "papermill": {
     "duration": 0.026413,
     "end_time": "2024-10-09T13:05:11.883486",
     "exception": false,
     "start_time": "2024-10-09T13:05:11.857073",
     "status": "completed"
    },
    "tags": []
   },
   "outputs": [
    {
     "name": "stdout",
     "output_type": "stream",
     "text": [
      "/kaggle/working/yolov5\n"
     ]
    }
   ],
   "source": [
    "%cd yolov5"
   ]
  },
  {
   "cell_type": "code",
   "execution_count": 7,
   "id": "7aed4380",
   "metadata": {
    "execution": {
     "iopub.execute_input": "2024-10-09T13:05:11.917619Z",
     "iopub.status.busy": "2024-10-09T13:05:11.917293Z",
     "iopub.status.idle": "2024-10-09T13:05:19.899779Z",
     "shell.execute_reply": "2024-10-09T13:05:19.898360Z"
    },
    "executionInfo": {
     "elapsed": 12707,
     "status": "ok",
     "timestamp": 1725173182815,
     "user": {
      "displayName": "Nidhi Satyapriya",
      "userId": "18074991652491386433"
     },
     "user_tz": -330
    },
    "id": "ASGnabfEn6Y7",
    "outputId": "6d7707d3-623a-4b54-fe3c-a1d099cc1973",
    "papermill": {
     "duration": 8.001965,
     "end_time": "2024-10-09T13:05:19.901996",
     "exception": false,
     "start_time": "2024-10-09T13:05:11.900031",
     "status": "completed"
    },
    "tags": []
   },
   "outputs": [
    {
     "name": "stdout",
     "output_type": "stream",
     "text": [
      "Requirement already satisfied: gitpython>=3.1.30 in /opt/conda/lib/python3.10/site-packages (from -r requirements.txt (line 5)) (3.1.43)\r\n",
      "Requirement already satisfied: matplotlib>=3.3 in /opt/conda/lib/python3.10/site-packages (from -r requirements.txt (line 6)) (3.7.5)\r\n",
      "Requirement already satisfied: numpy>=1.23.5 in /opt/conda/lib/python3.10/site-packages (from -r requirements.txt (line 7)) (1.26.4)\r\n",
      "Requirement already satisfied: opencv-python>=4.1.1 in /opt/conda/lib/python3.10/site-packages (from -r requirements.txt (line 8)) (4.10.0.84)\r\n",
      "Collecting pillow>=10.3.0 (from -r requirements.txt (line 9))\r\n",
      "  Downloading pillow-10.4.0-cp310-cp310-manylinux_2_28_x86_64.whl.metadata (9.2 kB)\r\n",
      "Requirement already satisfied: psutil in /opt/conda/lib/python3.10/site-packages (from -r requirements.txt (line 10)) (5.9.3)\r\n",
      "Requirement already satisfied: PyYAML>=5.3.1 in /opt/conda/lib/python3.10/site-packages (from -r requirements.txt (line 11)) (6.0.2)\r\n",
      "Requirement already satisfied: requests>=2.32.2 in /opt/conda/lib/python3.10/site-packages (from -r requirements.txt (line 12)) (2.32.3)\r\n",
      "Requirement already satisfied: scipy>=1.4.1 in /opt/conda/lib/python3.10/site-packages (from -r requirements.txt (line 13)) (1.14.0)\r\n",
      "Collecting thop>=0.1.1 (from -r requirements.txt (line 14))\r\n",
      "  Downloading thop-0.1.1.post2209072238-py3-none-any.whl.metadata (2.7 kB)\r\n",
      "Requirement already satisfied: torch>=1.8.0 in /opt/conda/lib/python3.10/site-packages (from -r requirements.txt (line 15)) (2.4.0)\r\n",
      "Requirement already satisfied: torchvision>=0.9.0 in /opt/conda/lib/python3.10/site-packages (from -r requirements.txt (line 16)) (0.19.0)\r\n",
      "Requirement already satisfied: tqdm>=4.66.3 in /opt/conda/lib/python3.10/site-packages (from -r requirements.txt (line 17)) (4.66.4)\r\n",
      "Collecting ultralytics>=8.2.34 (from -r requirements.txt (line 18))\r\n",
      "  Downloading ultralytics-8.3.8-py3-none-any.whl.metadata (34 kB)\r\n",
      "Requirement already satisfied: pandas>=1.1.4 in /opt/conda/lib/python3.10/site-packages (from -r requirements.txt (line 27)) (2.2.2)\r\n",
      "Requirement already satisfied: seaborn>=0.11.0 in /opt/conda/lib/python3.10/site-packages (from -r requirements.txt (line 28)) (0.12.2)\r\n",
      "Requirement already satisfied: setuptools>=70.0.0 in /opt/conda/lib/python3.10/site-packages (from -r requirements.txt (line 42)) (70.0.0)\r\n",
      "Requirement already satisfied: gitdb<5,>=4.0.1 in /opt/conda/lib/python3.10/site-packages (from gitpython>=3.1.30->-r requirements.txt (line 5)) (4.0.11)\r\n",
      "Requirement already satisfied: contourpy>=1.0.1 in /opt/conda/lib/python3.10/site-packages (from matplotlib>=3.3->-r requirements.txt (line 6)) (1.2.1)\r\n",
      "Requirement already satisfied: cycler>=0.10 in /opt/conda/lib/python3.10/site-packages (from matplotlib>=3.3->-r requirements.txt (line 6)) (0.12.1)\r\n",
      "Requirement already satisfied: fonttools>=4.22.0 in /opt/conda/lib/python3.10/site-packages (from matplotlib>=3.3->-r requirements.txt (line 6)) (4.53.0)\r\n",
      "Requirement already satisfied: kiwisolver>=1.0.1 in /opt/conda/lib/python3.10/site-packages (from matplotlib>=3.3->-r requirements.txt (line 6)) (1.4.5)\r\n",
      "Requirement already satisfied: packaging>=20.0 in /opt/conda/lib/python3.10/site-packages (from matplotlib>=3.3->-r requirements.txt (line 6)) (21.3)\r\n",
      "Requirement already satisfied: pyparsing>=2.3.1 in /opt/conda/lib/python3.10/site-packages (from matplotlib>=3.3->-r requirements.txt (line 6)) (3.1.2)\r\n",
      "Requirement already satisfied: python-dateutil>=2.7 in /opt/conda/lib/python3.10/site-packages (from matplotlib>=3.3->-r requirements.txt (line 6)) (2.9.0.post0)\r\n",
      "Requirement already satisfied: charset-normalizer<4,>=2 in /opt/conda/lib/python3.10/site-packages (from requests>=2.32.2->-r requirements.txt (line 12)) (3.3.2)\r\n",
      "Requirement already satisfied: idna<4,>=2.5 in /opt/conda/lib/python3.10/site-packages (from requests>=2.32.2->-r requirements.txt (line 12)) (3.7)\r\n",
      "Requirement already satisfied: urllib3<3,>=1.21.1 in /opt/conda/lib/python3.10/site-packages (from requests>=2.32.2->-r requirements.txt (line 12)) (1.26.18)\r\n",
      "Requirement already satisfied: certifi>=2017.4.17 in /opt/conda/lib/python3.10/site-packages (from requests>=2.32.2->-r requirements.txt (line 12)) (2024.7.4)\r\n",
      "Requirement already satisfied: filelock in /opt/conda/lib/python3.10/site-packages (from torch>=1.8.0->-r requirements.txt (line 15)) (3.15.1)\r\n",
      "Requirement already satisfied: typing-extensions>=4.8.0 in /opt/conda/lib/python3.10/site-packages (from torch>=1.8.0->-r requirements.txt (line 15)) (4.12.2)\r\n",
      "Requirement already satisfied: sympy in /opt/conda/lib/python3.10/site-packages (from torch>=1.8.0->-r requirements.txt (line 15)) (1.13.2)\r\n",
      "Requirement already satisfied: networkx in /opt/conda/lib/python3.10/site-packages (from torch>=1.8.0->-r requirements.txt (line 15)) (3.3)\r\n",
      "Requirement already satisfied: jinja2 in /opt/conda/lib/python3.10/site-packages (from torch>=1.8.0->-r requirements.txt (line 15)) (3.1.4)\r\n",
      "Requirement already satisfied: fsspec in /opt/conda/lib/python3.10/site-packages (from torch>=1.8.0->-r requirements.txt (line 15)) (2024.6.1)\r\n",
      "Requirement already satisfied: py-cpuinfo in /opt/conda/lib/python3.10/site-packages (from ultralytics>=8.2.34->-r requirements.txt (line 18)) (9.0.0)\r\n",
      "Collecting ultralytics-thop>=2.0.0 (from ultralytics>=8.2.34->-r requirements.txt (line 18))\r\n",
      "  Downloading ultralytics_thop-2.0.9-py3-none-any.whl.metadata (9.3 kB)\r\n",
      "Requirement already satisfied: pytz>=2020.1 in /opt/conda/lib/python3.10/site-packages (from pandas>=1.1.4->-r requirements.txt (line 27)) (2024.1)\r\n",
      "Requirement already satisfied: tzdata>=2022.7 in /opt/conda/lib/python3.10/site-packages (from pandas>=1.1.4->-r requirements.txt (line 27)) (2024.1)\r\n",
      "Requirement already satisfied: smmap<6,>=3.0.1 in /opt/conda/lib/python3.10/site-packages (from gitdb<5,>=4.0.1->gitpython>=3.1.30->-r requirements.txt (line 5)) (5.0.1)\r\n",
      "Requirement already satisfied: six>=1.5 in /opt/conda/lib/python3.10/site-packages (from python-dateutil>=2.7->matplotlib>=3.3->-r requirements.txt (line 6)) (1.16.0)\r\n",
      "Requirement already satisfied: MarkupSafe>=2.0 in /opt/conda/lib/python3.10/site-packages (from jinja2->torch>=1.8.0->-r requirements.txt (line 15)) (2.1.5)\r\n",
      "Requirement already satisfied: mpmath<1.4,>=1.1.0 in /opt/conda/lib/python3.10/site-packages (from sympy->torch>=1.8.0->-r requirements.txt (line 15)) (1.3.0)\r\n",
      "Downloading pillow-10.4.0-cp310-cp310-manylinux_2_28_x86_64.whl (4.5 MB)\r\n",
      "\u001b[2K   \u001b[90m━━━━━━━━━━━━━━━━━━━━━━━━━━━━━━━━━━━━━━━━\u001b[0m \u001b[32m4.5/4.5 MB\u001b[0m \u001b[31m61.9 MB/s\u001b[0m eta \u001b[36m0:00:00\u001b[0m\r\n",
      "\u001b[?25hDownloading thop-0.1.1.post2209072238-py3-none-any.whl (15 kB)\r\n",
      "Downloading ultralytics-8.3.8-py3-none-any.whl (882 kB)\r\n",
      "\u001b[2K   \u001b[90m━━━━━━━━━━━━━━━━━━━━━━━━━━━━━━━━━━━━━━━━\u001b[0m \u001b[32m882.5/882.5 kB\u001b[0m \u001b[31m33.3 MB/s\u001b[0m eta \u001b[36m0:00:00\u001b[0m\r\n",
      "\u001b[?25hDownloading ultralytics_thop-2.0.9-py3-none-any.whl (26 kB)\r\n",
      "Installing collected packages: pillow, ultralytics-thop, thop, ultralytics\r\n",
      "  Attempting uninstall: pillow\r\n",
      "    Found existing installation: Pillow 9.5.0\r\n",
      "    Uninstalling Pillow-9.5.0:\r\n",
      "      Successfully uninstalled Pillow-9.5.0\r\n",
      "\u001b[31mERROR: pip's dependency resolver does not currently take into account all the packages that are installed. This behaviour is the source of the following dependency conflicts.\r\n",
      "pointpats 2.5.0 requires shapely>=2, but you have shapely 1.8.5.post1 which is incompatible.\r\n",
      "spopt 0.6.1 requires shapely>=2.0.1, but you have shapely 1.8.5.post1 which is incompatible.\r\n",
      "ydata-profiling 4.9.0 requires scipy<1.14,>=1.4.1, but you have scipy 1.14.0 which is incompatible.\u001b[0m\u001b[31m\r\n",
      "\u001b[0mSuccessfully installed pillow-10.4.0 thop-0.1.1.post2209072238 ultralytics-8.3.8 ultralytics-thop-2.0.9\r\n",
      "Note: you may need to restart the kernel to use updated packages.\n"
     ]
    }
   ],
   "source": [
    "%pip install -r requirements.txt"
   ]
  },
  {
   "cell_type": "markdown",
   "id": "25123162",
   "metadata": {
    "id": "aesW-iCIn6Y8",
    "papermill": {
     "duration": 0.018101,
     "end_time": "2024-10-09T13:05:19.938687",
     "exception": false,
     "start_time": "2024-10-09T13:05:19.920586",
     "status": "completed"
    },
    "tags": []
   },
   "source": [
    "Training on Custom Dataset\n"
   ]
  },
  {
   "cell_type": "code",
   "execution_count": 8,
   "id": "2d840e1e",
   "metadata": {
    "execution": {
     "iopub.execute_input": "2024-10-09T13:05:19.976613Z",
     "iopub.status.busy": "2024-10-09T13:05:19.976230Z",
     "iopub.status.idle": "2024-10-09T13:05:19.980454Z",
     "shell.execute_reply": "2024-10-09T13:05:19.979573Z"
    },
    "executionInfo": {
     "elapsed": 27422,
     "status": "ok",
     "timestamp": 1725173309734,
     "user": {
      "displayName": "Nidhi Satyapriya",
      "userId": "18074991652491386433"
     },
     "user_tz": -330
    },
    "id": "t9O5vxsTo-gt",
    "outputId": "10c96ced-625e-4214-f065-e6630c0de97d",
    "papermill": {
     "duration": 0.025546,
     "end_time": "2024-10-09T13:05:19.982379",
     "exception": false,
     "start_time": "2024-10-09T13:05:19.956833",
     "status": "completed"
    },
    "tags": []
   },
   "outputs": [],
   "source": [
    "# from google.colab import drive\n",
    "# drive.mount('/content/drive')"
   ]
  },
  {
   "cell_type": "code",
   "execution_count": 9,
   "id": "92a94311",
   "metadata": {
    "execution": {
     "iopub.execute_input": "2024-10-09T13:05:20.020115Z",
     "iopub.status.busy": "2024-10-09T13:05:20.019827Z",
     "iopub.status.idle": "2024-10-09T13:05:20.023672Z",
     "shell.execute_reply": "2024-10-09T13:05:20.022943Z"
    },
    "executionInfo": {
     "elapsed": 8,
     "status": "ok",
     "timestamp": 1725173309735,
     "user": {
      "displayName": "Nidhi Satyapriya",
      "userId": "18074991652491386433"
     },
     "user_tz": -330
    },
    "id": "jZZWmSlE4Iuy",
    "outputId": "19a9f73d-0e4d-48b8-abc9-14fe70e6d65c",
    "papermill": {
     "duration": 0.024841,
     "end_time": "2024-10-09T13:05:20.025596",
     "exception": false,
     "start_time": "2024-10-09T13:05:20.000755",
     "status": "completed"
    },
    "tags": []
   },
   "outputs": [],
   "source": [
    "# !ls /content/drive/MyDrive/trash-detection.v35-avec-toutes-les-data-augmentation-dt-contrast-29.yolov5pytorch"
   ]
  },
  {
   "cell_type": "code",
   "execution_count": 10,
   "id": "bf86c28c",
   "metadata": {
    "execution": {
     "iopub.execute_input": "2024-10-09T13:05:20.063997Z",
     "iopub.status.busy": "2024-10-09T13:05:20.063278Z",
     "iopub.status.idle": "2024-10-09T13:05:20.067055Z",
     "shell.execute_reply": "2024-10-09T13:05:20.066230Z"
    },
    "executionInfo": {
     "elapsed": 282529,
     "status": "ok",
     "timestamp": 1725173592260,
     "user": {
      "displayName": "Nidhi Satyapriya",
      "userId": "18074991652491386433"
     },
     "user_tz": -330
    },
    "id": "huhufemV4IhO",
    "papermill": {
     "duration": 0.024581,
     "end_time": "2024-10-09T13:05:20.068825",
     "exception": false,
     "start_time": "2024-10-09T13:05:20.044244",
     "status": "completed"
    },
    "tags": []
   },
   "outputs": [],
   "source": [
    "# !cp -r /content/drive/MyDrive/trash-detection.v35-avec-toutes-les-data-augmentation-dt-contrast-29.yolov5pytorch /content/"
   ]
  },
  {
   "cell_type": "code",
   "execution_count": 11,
   "id": "0d57d5a7",
   "metadata": {
    "execution": {
     "iopub.execute_input": "2024-10-09T13:05:20.106562Z",
     "iopub.status.busy": "2024-10-09T13:05:20.106277Z",
     "iopub.status.idle": "2024-10-09T13:05:20.109929Z",
     "shell.execute_reply": "2024-10-09T13:05:20.109123Z"
    },
    "executionInfo": {
     "elapsed": 17,
     "status": "ok",
     "timestamp": 1725173592260,
     "user": {
      "displayName": "Nidhi Satyapriya",
      "userId": "18074991652491386433"
     },
     "user_tz": -330
    },
    "id": "trOc2RS_6VRr",
    "outputId": "b6e985e0-c1d8-4a10-c8a0-7675004b18a4",
    "papermill": {
     "duration": 0.024754,
     "end_time": "2024-10-09T13:05:20.111841",
     "exception": false,
     "start_time": "2024-10-09T13:05:20.087087",
     "status": "completed"
    },
    "tags": []
   },
   "outputs": [],
   "source": [
    "# !ls /content/trash-detection.v35-avec-toutes-les-data-augmentation-dt-contrast-29.yolov5pytorch\n"
   ]
  },
  {
   "cell_type": "code",
   "execution_count": 12,
   "id": "5654d107",
   "metadata": {
    "execution": {
     "iopub.execute_input": "2024-10-09T13:05:20.149290Z",
     "iopub.status.busy": "2024-10-09T13:05:20.149007Z",
     "iopub.status.idle": "2024-10-09T13:05:20.152730Z",
     "shell.execute_reply": "2024-10-09T13:05:20.151991Z"
    },
    "papermill": {
     "duration": 0.02465,
     "end_time": "2024-10-09T13:05:20.154587",
     "exception": false,
     "start_time": "2024-10-09T13:05:20.129937",
     "status": "completed"
    },
    "tags": []
   },
   "outputs": [],
   "source": [
    "# cd .."
   ]
  },
  {
   "cell_type": "code",
   "execution_count": 13,
   "id": "bcb997a9",
   "metadata": {
    "execution": {
     "iopub.execute_input": "2024-10-09T13:05:20.192176Z",
     "iopub.status.busy": "2024-10-09T13:05:20.191888Z",
     "iopub.status.idle": "2024-10-09T13:05:21.183041Z",
     "shell.execute_reply": "2024-10-09T13:05:21.181518Z"
    },
    "executionInfo": {
     "elapsed": 7,
     "status": "ok",
     "timestamp": 1725173592260,
     "user": {
      "displayName": "Nidhi Satyapriya",
      "userId": "18074991652491386433"
     },
     "user_tz": -330
    },
    "id": "8FG1IwmI73gt",
    "outputId": "ed645435-d5c4-4aa7-ac8e-993b7c71a48f",
    "papermill": {
     "duration": 1.013822,
     "end_time": "2024-10-09T13:05:21.186492",
     "exception": false,
     "start_time": "2024-10-09T13:05:20.172670",
     "status": "completed"
    },
    "tags": []
   },
   "outputs": [
    {
     "name": "stdout",
     "output_type": "stream",
     "text": [
      "CITATION.cff\t README.zh-CN.md  detect.py   pyproject.toml\ttutorial.ipynb\r\n",
      "CONTRIBUTING.md  benchmarks.py\t  export.py   requirements.txt\tutils\r\n",
      "LICENSE\t\t classify\t  hubconf.py  segment\t\tval.py\r\n",
      "README.md\t data\t\t  models      train.py\r\n"
     ]
    }
   ],
   "source": [
    "!ls"
   ]
  },
  {
   "cell_type": "markdown",
   "id": "c650732f",
   "metadata": {
    "id": "zIJ1ZJ-qn6Y9",
    "papermill": {
     "duration": 0.018071,
     "end_time": "2024-10-09T13:05:21.225714",
     "exception": false,
     "start_time": "2024-10-09T13:05:21.207643",
     "status": "completed"
    },
    "tags": []
   },
   "source": [
    "python yolov5/detect.py --weights yolo5s.pt --conf- thres 0.5--source 0"
   ]
  },
  {
   "cell_type": "code",
   "execution_count": 14,
   "id": "86891e6e",
   "metadata": {
    "execution": {
     "iopub.execute_input": "2024-10-09T13:05:21.264937Z",
     "iopub.status.busy": "2024-10-09T13:05:21.264586Z",
     "iopub.status.idle": "2024-10-09T13:05:21.628351Z",
     "shell.execute_reply": "2024-10-09T13:05:21.627235Z"
    },
    "executionInfo": {
     "elapsed": 5,
     "status": "ok",
     "timestamp": 1725173592260,
     "user": {
      "displayName": "Nidhi Satyapriya",
      "userId": "18074991652491386433"
     },
     "user_tz": -330
    },
    "id": "oq-v12kBn6Y9",
    "outputId": "e2b18237-a7dd-4d36-a925-e3a1f5e67e9e",
    "papermill": {
     "duration": 0.385293,
     "end_time": "2024-10-09T13:05:21.630248",
     "exception": false,
     "start_time": "2024-10-09T13:05:21.244955",
     "status": "completed"
    },
    "tags": []
   },
   "outputs": [
    {
     "name": "stdout",
     "output_type": "stream",
     "text": [
      "Training images: 3825\n",
      "Validation images: 158\n",
      "Test images: 159\n"
     ]
    }
   ],
   "source": [
    "import os\n",
    "from random import shuffle\n",
    "import shutil\n",
    "\n",
    "# Setup directory paths\n",
    "# base_path = '/content/trash-detection.v35-avec-toutes-les-data-augmentation-dt-contrast-29.yolov5pytorch/'\n",
    "base_path = '/kaggle/input/cleanliness-monitoring'\n",
    "train_img_dir = os.path.join(base_path, 'train/images')\n",
    "train_lbl_dir = os.path.join(base_path, 'train/labels')\n",
    "val_img_dir = os.path.join(base_path, 'valid/images')\n",
    "val_lbl_dir = os.path.join(base_path, 'valid/labels')\n",
    "test_img_dir = os.path.join(base_path, 'test/images')\n",
    "test_lbl_dir = os.path.join(base_path, 'test/labels')\n",
    "\n",
    "# Setup ratio (val_ratio = rest of the files in origin dir after splitting into train and test)\n",
    "train_ratio = 0.8\n",
    "val_ratio = 0.2\n",
    "\n",
    "# Function to pair images and labels\n",
    "def pair_images_labels(img_dir, lbl_dir):\n",
    "    imgs = [f for f in os.listdir(img_dir) if f.endswith(('.jpg', '.png', '.jpeg'))]\n",
    "    xmls = [f for f in os.listdir(lbl_dir) if f.endswith('.txt')]\n",
    "    data_pairs = [(img, img.replace('.jpg', '.txt').replace('.png', '.txt').replace('.jpeg', '.txt')) for img in imgs]\n",
    "    return data_pairs\n",
    "\n",
    "# Pair images and labels\n",
    "train_pairs = pair_images_labels(train_img_dir, train_lbl_dir)\n",
    "val_pairs = pair_images_labels(val_img_dir, val_lbl_dir)\n",
    "test_pairs = pair_images_labels(test_img_dir, test_lbl_dir)\n",
    "\n",
    "# Shuffle data pairs\n",
    "shuffle(train_pairs)\n",
    "shuffle(val_pairs)\n",
    "shuffle(test_pairs)\n",
    "\n",
    "# Print the counts\n",
    "print(f\"Training images: {len(train_pairs)}\")\n",
    "print(f\"Validation images: {len(val_pairs)}\")\n",
    "print(f\"Test images: {len(test_pairs)}\")\n",
    "\n",
    "# If you need to split further into different sets, you can proceed to move files as needed.\n",
    "# For example, splitting train into new train and val could be done here.\n",
    "# The current script assumes that the split has already been done, based on your directory structure.\n"
   ]
  },
  {
   "cell_type": "code",
   "execution_count": 15,
   "id": "b3e660c4",
   "metadata": {
    "execution": {
     "iopub.execute_input": "2024-10-09T13:05:21.668174Z",
     "iopub.status.busy": "2024-10-09T13:05:21.667863Z",
     "iopub.status.idle": "2024-10-09T13:05:22.653254Z",
     "shell.execute_reply": "2024-10-09T13:05:22.652221Z"
    },
    "papermill": {
     "duration": 1.007079,
     "end_time": "2024-10-09T13:05:22.655800",
     "exception": false,
     "start_time": "2024-10-09T13:05:21.648721",
     "status": "completed"
    },
    "tags": []
   },
   "outputs": [
    {
     "name": "stdout",
     "output_type": "stream",
     "text": [
      "/kaggle/working/yolov5\r\n"
     ]
    }
   ],
   "source": [
    "!pwd"
   ]
  },
  {
   "cell_type": "code",
   "execution_count": 16,
   "id": "db89871d",
   "metadata": {
    "execution": {
     "iopub.execute_input": "2024-10-09T13:05:22.699528Z",
     "iopub.status.busy": "2024-10-09T13:05:22.698607Z",
     "iopub.status.idle": "2024-10-09T13:05:22.705595Z",
     "shell.execute_reply": "2024-10-09T13:05:22.704638Z"
    },
    "papermill": {
     "duration": 0.030956,
     "end_time": "2024-10-09T13:05:22.707680",
     "exception": false,
     "start_time": "2024-10-09T13:05:22.676724",
     "status": "completed"
    },
    "tags": []
   },
   "outputs": [
    {
     "name": "stdout",
     "output_type": "stream",
     "text": [
      "/kaggle\n"
     ]
    }
   ],
   "source": [
    "%cd /kaggle"
   ]
  },
  {
   "cell_type": "code",
   "execution_count": 17,
   "id": "6a4d1a05",
   "metadata": {
    "execution": {
     "iopub.execute_input": "2024-10-09T13:05:22.746541Z",
     "iopub.status.busy": "2024-10-09T13:05:22.746220Z",
     "iopub.status.idle": "2024-10-09T13:05:28.329757Z",
     "shell.execute_reply": "2024-10-09T13:05:28.328483Z"
    },
    "executionInfo": {
     "elapsed": 3266,
     "status": "ok",
     "timestamp": 1725173595522,
     "user": {
      "displayName": "Nidhi Satyapriya",
      "userId": "18074991652491386433"
     },
     "user_tz": -330
    },
    "id": "necp-bk4GDZs",
    "outputId": "bcfbf7b6-f997-4f48-e966-db496edef662",
    "papermill": {
     "duration": 5.604863,
     "end_time": "2024-10-09T13:05:28.331965",
     "exception": false,
     "start_time": "2024-10-09T13:05:22.727102",
     "status": "completed"
    },
    "tags": []
   },
   "outputs": [
    {
     "name": "stdout",
     "output_type": "stream",
     "text": [
      "Requirement already satisfied: ultralytics in /opt/conda/lib/python3.10/site-packages (8.3.8)\r\n",
      "Requirement already satisfied: numpy>=1.23.0 in /opt/conda/lib/python3.10/site-packages (from ultralytics) (1.26.4)\r\n",
      "Requirement already satisfied: matplotlib>=3.3.0 in /opt/conda/lib/python3.10/site-packages (from ultralytics) (3.7.5)\r\n",
      "Requirement already satisfied: opencv-python>=4.6.0 in /opt/conda/lib/python3.10/site-packages (from ultralytics) (4.10.0.84)\r\n",
      "Requirement already satisfied: pillow>=7.1.2 in /opt/conda/lib/python3.10/site-packages (from ultralytics) (10.4.0)\r\n",
      "Requirement already satisfied: pyyaml>=5.3.1 in /opt/conda/lib/python3.10/site-packages (from ultralytics) (6.0.2)\r\n",
      "Requirement already satisfied: requests>=2.23.0 in /opt/conda/lib/python3.10/site-packages (from ultralytics) (2.32.3)\r\n",
      "Requirement already satisfied: scipy>=1.4.1 in /opt/conda/lib/python3.10/site-packages (from ultralytics) (1.14.0)\r\n",
      "Requirement already satisfied: torch>=1.8.0 in /opt/conda/lib/python3.10/site-packages (from ultralytics) (2.4.0)\r\n",
      "Requirement already satisfied: torchvision>=0.9.0 in /opt/conda/lib/python3.10/site-packages (from ultralytics) (0.19.0)\r\n",
      "Requirement already satisfied: tqdm>=4.64.0 in /opt/conda/lib/python3.10/site-packages (from ultralytics) (4.66.4)\r\n",
      "Requirement already satisfied: psutil in /opt/conda/lib/python3.10/site-packages (from ultralytics) (5.9.3)\r\n",
      "Requirement already satisfied: py-cpuinfo in /opt/conda/lib/python3.10/site-packages (from ultralytics) (9.0.0)\r\n",
      "Requirement already satisfied: pandas>=1.1.4 in /opt/conda/lib/python3.10/site-packages (from ultralytics) (2.2.2)\r\n",
      "Requirement already satisfied: seaborn>=0.11.0 in /opt/conda/lib/python3.10/site-packages (from ultralytics) (0.12.2)\r\n",
      "Requirement already satisfied: ultralytics-thop>=2.0.0 in /opt/conda/lib/python3.10/site-packages (from ultralytics) (2.0.9)\r\n",
      "Requirement already satisfied: contourpy>=1.0.1 in /opt/conda/lib/python3.10/site-packages (from matplotlib>=3.3.0->ultralytics) (1.2.1)\r\n",
      "Requirement already satisfied: cycler>=0.10 in /opt/conda/lib/python3.10/site-packages (from matplotlib>=3.3.0->ultralytics) (0.12.1)\r\n",
      "Requirement already satisfied: fonttools>=4.22.0 in /opt/conda/lib/python3.10/site-packages (from matplotlib>=3.3.0->ultralytics) (4.53.0)\r\n",
      "Requirement already satisfied: kiwisolver>=1.0.1 in /opt/conda/lib/python3.10/site-packages (from matplotlib>=3.3.0->ultralytics) (1.4.5)\r\n",
      "Requirement already satisfied: packaging>=20.0 in /opt/conda/lib/python3.10/site-packages (from matplotlib>=3.3.0->ultralytics) (21.3)\r\n",
      "Requirement already satisfied: pyparsing>=2.3.1 in /opt/conda/lib/python3.10/site-packages (from matplotlib>=3.3.0->ultralytics) (3.1.2)\r\n",
      "Requirement already satisfied: python-dateutil>=2.7 in /opt/conda/lib/python3.10/site-packages (from matplotlib>=3.3.0->ultralytics) (2.9.0.post0)\r\n",
      "Requirement already satisfied: pytz>=2020.1 in /opt/conda/lib/python3.10/site-packages (from pandas>=1.1.4->ultralytics) (2024.1)\r\n",
      "Requirement already satisfied: tzdata>=2022.7 in /opt/conda/lib/python3.10/site-packages (from pandas>=1.1.4->ultralytics) (2024.1)\r\n",
      "Requirement already satisfied: charset-normalizer<4,>=2 in /opt/conda/lib/python3.10/site-packages (from requests>=2.23.0->ultralytics) (3.3.2)\r\n",
      "Requirement already satisfied: idna<4,>=2.5 in /opt/conda/lib/python3.10/site-packages (from requests>=2.23.0->ultralytics) (3.7)\r\n",
      "Requirement already satisfied: urllib3<3,>=1.21.1 in /opt/conda/lib/python3.10/site-packages (from requests>=2.23.0->ultralytics) (1.26.18)\r\n",
      "Requirement already satisfied: certifi>=2017.4.17 in /opt/conda/lib/python3.10/site-packages (from requests>=2.23.0->ultralytics) (2024.7.4)\r\n",
      "Requirement already satisfied: filelock in /opt/conda/lib/python3.10/site-packages (from torch>=1.8.0->ultralytics) (3.15.1)\r\n",
      "Requirement already satisfied: typing-extensions>=4.8.0 in /opt/conda/lib/python3.10/site-packages (from torch>=1.8.0->ultralytics) (4.12.2)\r\n",
      "Requirement already satisfied: sympy in /opt/conda/lib/python3.10/site-packages (from torch>=1.8.0->ultralytics) (1.13.2)\r\n",
      "Requirement already satisfied: networkx in /opt/conda/lib/python3.10/site-packages (from torch>=1.8.0->ultralytics) (3.3)\r\n",
      "Requirement already satisfied: jinja2 in /opt/conda/lib/python3.10/site-packages (from torch>=1.8.0->ultralytics) (3.1.4)\r\n",
      "Requirement already satisfied: fsspec in /opt/conda/lib/python3.10/site-packages (from torch>=1.8.0->ultralytics) (2024.6.1)\r\n",
      "Requirement already satisfied: six>=1.5 in /opt/conda/lib/python3.10/site-packages (from python-dateutil>=2.7->matplotlib>=3.3.0->ultralytics) (1.16.0)\r\n",
      "Requirement already satisfied: MarkupSafe>=2.0 in /opt/conda/lib/python3.10/site-packages (from jinja2->torch>=1.8.0->ultralytics) (2.1.5)\r\n",
      "Requirement already satisfied: mpmath<1.4,>=1.1.0 in /opt/conda/lib/python3.10/site-packages (from sympy->torch>=1.8.0->ultralytics) (1.3.0)\r\n",
      "Note: you may need to restart the kernel to use updated packages.\n"
     ]
    }
   ],
   "source": [
    "pip install ultralytics"
   ]
  },
  {
   "cell_type": "code",
   "execution_count": 18,
   "id": "6bfaeae7",
   "metadata": {
    "execution": {
     "iopub.execute_input": "2024-10-09T13:05:28.372497Z",
     "iopub.status.busy": "2024-10-09T13:05:28.372120Z",
     "iopub.status.idle": "2024-10-09T13:05:38.323580Z",
     "shell.execute_reply": "2024-10-09T13:05:38.322374Z"
    },
    "executionInfo": {
     "elapsed": 14413,
     "status": "ok",
     "timestamp": 1725173609932,
     "user": {
      "displayName": "Nidhi Satyapriya",
      "userId": "18074991652491386433"
     },
     "user_tz": -330
    },
    "id": "1g5jFrtrESi0",
    "outputId": "f1b44cca-f487-41e5-cf09-67f48c425a46",
    "papermill": {
     "duration": 9.973842,
     "end_time": "2024-10-09T13:05:38.325697",
     "exception": false,
     "start_time": "2024-10-09T13:05:28.351855",
     "status": "completed"
    },
    "tags": []
   },
   "outputs": [
    {
     "name": "stdout",
     "output_type": "stream",
     "text": [
      "Collecting numpy==1.23.5\r\n",
      "  Downloading numpy-1.23.5-cp310-cp310-manylinux_2_17_x86_64.manylinux2014_x86_64.whl.metadata (2.3 kB)\r\n",
      "Downloading numpy-1.23.5-cp310-cp310-manylinux_2_17_x86_64.manylinux2014_x86_64.whl (17.1 MB)\r\n",
      "\u001b[2K   \u001b[90m━━━━━━━━━━━━━━━━━━━━━━━━━━━━━━━━━━━━━━━━\u001b[0m \u001b[32m17.1/17.1 MB\u001b[0m \u001b[31m117.1 MB/s\u001b[0m eta \u001b[36m0:00:00\u001b[0m\r\n",
      "\u001b[?25hInstalling collected packages: numpy\r\n",
      "  Attempting uninstall: numpy\r\n",
      "    Found existing installation: numpy 1.26.4\r\n",
      "    Uninstalling numpy-1.26.4:\r\n",
      "      Successfully uninstalled numpy-1.26.4\r\n",
      "\u001b[31mERROR: pip's dependency resolver does not currently take into account all the packages that are installed. This behaviour is the source of the following dependency conflicts.\r\n",
      "cudf 24.8.2 requires cubinlinker, which is not installed.\r\n",
      "cudf 24.8.2 requires cupy-cuda11x>=12.0.0, which is not installed.\r\n",
      "cudf 24.8.2 requires ptxcompiler, which is not installed.\r\n",
      "cuml 24.8.0 requires cupy-cuda11x>=12.0.0, which is not installed.\r\n",
      "dask-cudf 24.8.2 requires cupy-cuda11x>=12.0.0, which is not installed.\r\n",
      "ucxx 0.39.1 requires libucx>=1.15.0, which is not installed.\r\n",
      "albucore 0.0.13 requires numpy<2,>=1.24.4, but you have numpy 1.23.5 which is incompatible.\r\n",
      "albumentations 1.4.14 requires numpy>=1.24.4, but you have numpy 1.23.5 which is incompatible.\r\n",
      "apache-beam 2.46.0 requires cloudpickle~=2.2.1, but you have cloudpickle 3.0.0 which is incompatible.\r\n",
      "apache-beam 2.46.0 requires dill<0.3.2,>=0.3.1.1, but you have dill 0.3.8 which is incompatible.\r\n",
      "apache-beam 2.46.0 requires pyarrow<10.0.0,>=3.0.0, but you have pyarrow 16.1.0 which is incompatible.\r\n",
      "bayesian-optimization 1.5.1 requires numpy>=1.25, but you have numpy 1.23.5 which is incompatible.\r\n",
      "chex 0.1.86 requires numpy>=1.24.1, but you have numpy 1.23.5 which is incompatible.\r\n",
      "cudf 24.8.2 requires cuda-python<12.0a0,>=11.7.1, but you have cuda-python 12.6.0 which is incompatible.\r\n",
      "featuretools 1.31.0 requires numpy>=1.25.0, but you have numpy 1.23.5 which is incompatible.\r\n",
      "gensim 4.3.3 requires scipy<1.14.0,>=1.7.0, but you have scipy 1.14.0 which is incompatible.\r\n",
      "ibis-framework 7.1.0 requires pyarrow<15,>=2, but you have pyarrow 16.1.0 which is incompatible.\r\n",
      "libpysal 4.9.2 requires packaging>=22, but you have packaging 21.3 which is incompatible.\r\n",
      "libpysal 4.9.2 requires shapely>=2.0.1, but you have shapely 1.8.5.post1 which is incompatible.\r\n",
      "momepy 0.7.2 requires shapely>=2, but you have shapely 1.8.5.post1 which is incompatible.\r\n",
      "osmnx 1.9.4 requires shapely<2.1,>=2.0, but you have shapely 1.8.5.post1 which is incompatible.\r\n",
      "pointpats 2.5.0 requires numpy>=1.24, but you have numpy 1.23.5 which is incompatible.\r\n",
      "pointpats 2.5.0 requires shapely>=2, but you have shapely 1.8.5.post1 which is incompatible.\r\n",
      "pyldavis 3.4.1 requires numpy>=1.24.2, but you have numpy 1.23.5 which is incompatible.\r\n",
      "rmm 24.8.2 requires cuda-python<12.0a0,>=11.7.1, but you have cuda-python 12.6.0 which is incompatible.\r\n",
      "spaghetti 1.7.6 requires shapely>=2.0.1, but you have shapely 1.8.5.post1 which is incompatible.\r\n",
      "spopt 0.6.1 requires shapely>=2.0.1, but you have shapely 1.8.5.post1 which is incompatible.\r\n",
      "tensorflow 2.16.1 requires tensorboard<2.17,>=2.16, but you have tensorboard 2.4.1 which is incompatible.\r\n",
      "woodwork 0.31.0 requires numpy>=1.25.0, but you have numpy 1.23.5 which is incompatible.\r\n",
      "xarray 2024.7.0 requires packaging>=23.1, but you have packaging 21.3 which is incompatible.\r\n",
      "ydata-profiling 4.9.0 requires scipy<1.14,>=1.4.1, but you have scipy 1.14.0 which is incompatible.\u001b[0m\u001b[31m\r\n",
      "\u001b[0mSuccessfully installed numpy-1.23.5\r\n",
      "Note: you may need to restart the kernel to use updated packages.\n"
     ]
    }
   ],
   "source": [
    "pip install numpy==1.23.5\n"
   ]
  },
  {
   "cell_type": "code",
   "execution_count": 19,
   "id": "0f5f33f6",
   "metadata": {
    "execution": {
     "iopub.execute_input": "2024-10-09T13:05:38.368155Z",
     "iopub.status.busy": "2024-10-09T13:05:38.367174Z",
     "iopub.status.idle": "2024-10-09T13:05:38.371684Z",
     "shell.execute_reply": "2024-10-09T13:05:38.370957Z"
    },
    "executionInfo": {
     "elapsed": 259657,
     "status": "ok",
     "timestamp": 1725174592538,
     "user": {
      "displayName": "Nidhi Satyapriya",
      "userId": "18074991652491386433"
     },
     "user_tz": -330
    },
    "id": "TAEZzlxbn6Y-",
    "outputId": "d8376318-8c71-4094-82e9-299d3c99ec59",
    "papermill": {
     "duration": 0.027435,
     "end_time": "2024-10-09T13:05:38.373604",
     "exception": false,
     "start_time": "2024-10-09T13:05:38.346169",
     "status": "completed"
    },
    "tags": []
   },
   "outputs": [],
   "source": [
    "# !python /content/yolov5/train.py --img 400 --batch 20 --epochs 50 --data /content/data.yaml --cfg yolov5s.yaml --weights yolov5s.pt --name custom_yolov5 --cache --workers 2\n"
   ]
  },
  {
   "cell_type": "code",
   "execution_count": 20,
   "id": "a3994de3",
   "metadata": {
    "execution": {
     "iopub.execute_input": "2024-10-09T13:05:38.414338Z",
     "iopub.status.busy": "2024-10-09T13:05:38.414026Z",
     "iopub.status.idle": "2024-10-09T13:05:38.451766Z",
     "shell.execute_reply": "2024-10-09T13:05:38.450810Z"
    },
    "papermill": {
     "duration": 0.06027,
     "end_time": "2024-10-09T13:05:38.453615",
     "exception": false,
     "start_time": "2024-10-09T13:05:38.393345",
     "status": "completed"
    },
    "tags": []
   },
   "outputs": [
    {
     "name": "stdout",
     "output_type": "stream",
     "text": [
      "Original YAML data:\n",
      "{'train': '../train/images', 'val': '../valid/images', 'test': '../test/images', 'nc': 29, 'names': ['Aluminium foil', 'Bottle cap', 'Broken glass', 'Cigarette', 'Clear plastic bottle', 'Crisp packet', 'Cup', 'Drink can', 'Food Carton', 'Food container', 'Food waste', 'Garbage bag', 'Glass bottle', 'Lid', 'Other Carton', 'Other can', 'Other container', 'Other plastic bottle', 'Other plastic wrapper', 'Other plastic', 'Paper bag', 'Paper', 'Plastic bag wrapper', 'Plastic film', 'Pop tab', 'Single-use carrier bag', 'Straw', 'Styrofoam piece', 'Unlabeled litter'], 'roboflow': {'workspace': 'nora-slimani', 'project': 'trash-detection-otdmj', 'version': 35, 'license': 'CC BY 4.0', 'url': 'https://universe.roboflow.com/nora-slimani/trash-detection-otdmj/dataset/35'}}\n"
     ]
    }
   ],
   "source": [
    "import yaml\n",
    "\n",
    "# Path to the existing YAML file\n",
    "yaml_path = '/kaggle/input/cleanliness-monitoring/data.yaml'\n",
    "\n",
    "# Load the YAML file\n",
    "with open(yaml_path, 'r') as file:\n",
    "    data = yaml.safe_load(file)\n",
    "\n",
    "# Print the original data\n",
    "print(\"Original YAML data:\")\n",
    "print(data)\n"
   ]
  },
  {
   "cell_type": "code",
   "execution_count": 21,
   "id": "a06c1eb7",
   "metadata": {
    "execution": {
     "iopub.execute_input": "2024-10-09T13:05:38.494544Z",
     "iopub.status.busy": "2024-10-09T13:05:38.494227Z",
     "iopub.status.idle": "2024-10-09T13:05:38.502777Z",
     "shell.execute_reply": "2024-10-09T13:05:38.501859Z"
    },
    "id": "z3fEzww8SLKp",
    "papermill": {
     "duration": 0.031122,
     "end_time": "2024-10-09T13:05:38.504742",
     "exception": false,
     "start_time": "2024-10-09T13:05:38.473620",
     "status": "completed"
    },
    "tags": []
   },
   "outputs": [
    {
     "name": "stdout",
     "output_type": "stream",
     "text": [
      "Modified YAML data saved as data_modified.yaml\n"
     ]
    }
   ],
   "source": [
    "# Modify the paths\n",
    "data['train'] = '/kaggle/input/cleanliness-monitoring/train/images'\n",
    "data['val'] = '/kaggle/input/cleanliness-monitoring/valid/images'\n",
    "data['test'] = '/kaggle/input/cleanliness-monitoring/test/images'\n",
    "\n",
    "# Save the updated YAML file\n",
    "with open('/kaggle/working/data_1.yaml', 'w') as file:\n",
    "    yaml.dump(data, file)\n",
    "\n",
    "print(\"Modified YAML data saved as data_modified.yaml\")\n"
   ]
  },
  {
   "cell_type": "code",
   "execution_count": 22,
   "id": "2dc1bfc2",
   "metadata": {
    "execution": {
     "iopub.execute_input": "2024-10-09T13:05:38.545901Z",
     "iopub.status.busy": "2024-10-09T13:05:38.545118Z",
     "iopub.status.idle": "2024-10-09T13:47:48.245130Z",
     "shell.execute_reply": "2024-10-09T13:47:48.243655Z"
    },
    "papermill": {
     "duration": 2529.723146,
     "end_time": "2024-10-09T13:47:48.247678",
     "exception": false,
     "start_time": "2024-10-09T13:05:38.524532",
     "status": "completed"
    },
    "tags": []
   },
   "outputs": [
    {
     "name": "stdout",
     "output_type": "stream",
     "text": [
      "Creating new Ultralytics Settings v0.0.6 file ✅ \r\n",
      "View Ultralytics Settings with 'yolo settings' or at '/root/.config/Ultralytics/settings.json'\r\n",
      "Update Settings with 'yolo settings key=value', i.e. 'yolo settings runs_dir=path/to/dir'. For help see https://docs.ultralytics.com/quickstart/#ultralytics-settings.\r\n",
      "\u001b[34m\u001b[1mwandb\u001b[0m: WARNING ⚠️ wandb is deprecated and will be removed in a future release. See supported integrations at https://github.com/ultralytics/yolov5#integrations.\r\n",
      "\u001b[34m\u001b[1mwandb\u001b[0m: (1) Create a W&B account\r\n",
      "\u001b[34m\u001b[1mwandb\u001b[0m: (2) Use an existing W&B account\r\n",
      "\u001b[34m\u001b[1mwandb\u001b[0m: (3) Don't visualize my results\r\n",
      "\u001b[34m\u001b[1mwandb\u001b[0m: Enter your choice: (30 second timeout) \r\n",
      "\u001b[34m\u001b[1mwandb\u001b[0m: W&B disabled due to login timeout.\r\n",
      "\u001b[34m\u001b[1mtrain: \u001b[0mweights=yolov5s.pt, cfg=yolov5s.yaml, data=/kaggle/working/data_1.yaml, hyp=working/yolov5/data/hyps/hyp.scratch-low.yaml, epochs=60, batch_size=32, imgsz=500, rect=False, resume=False, nosave=False, noval=False, noautoanchor=False, noplots=False, evolve=None, evolve_population=working/yolov5/data/hyps, resume_evolve=None, bucket=, cache=ram, image_weights=False, device=, multi_scale=False, single_cls=False, optimizer=SGD, sync_bn=False, workers=2, project=working/yolov5/runs/train, name=custom_yolov5, exist_ok=False, quad=False, cos_lr=False, label_smoothing=0.0, patience=100, freeze=[0], save_period=-1, seed=0, local_rank=-1, entity=None, upload_dataset=False, bbox_interval=-1, artifact_alias=latest, ndjson_console=False, ndjson_file=False\r\n",
      "\u001b[34m\u001b[1mgithub: \u001b[0mup to date with https://github.com/ultralytics/yolov5 ✅\r\n",
      "YOLOv5 🚀 v7.0-371-g6629839d Python-3.10.14 torch-2.4.0 CUDA:0 (Tesla T4, 15095MiB)\r\n",
      "\r\n",
      "\u001b[34m\u001b[1mhyperparameters: \u001b[0mlr0=0.01, lrf=0.01, momentum=0.937, weight_decay=0.0005, warmup_epochs=3.0, warmup_momentum=0.8, warmup_bias_lr=0.1, box=0.05, cls=0.5, cls_pw=1.0, obj=1.0, obj_pw=1.0, iou_t=0.2, anchor_t=4.0, fl_gamma=0.0, hsv_h=0.015, hsv_s=0.7, hsv_v=0.4, degrees=0.0, translate=0.1, scale=0.5, shear=0.0, perspective=0.0, flipud=0.0, fliplr=0.5, mosaic=1.0, mixup=0.0, copy_paste=0.0\r\n",
      "\u001b[34m\u001b[1mComet: \u001b[0mrun 'pip install comet_ml' to automatically track and visualize YOLOv5 🚀 runs in Comet\r\n",
      "\u001b[34m\u001b[1mTensorBoard: \u001b[0mStart with 'tensorboard --logdir working/yolov5/runs/train', view at http://localhost:6006/\r\n",
      "Downloading https://github.com/ultralytics/assets/releases/download/v0.0.0/Arial.ttf to /root/.config/Ultralytics/Arial.ttf...\r\n",
      "100%|████████████████████████████████████████| 755k/755k [00:00<00:00, 13.7MB/s]\r\n",
      "Downloading https://github.com/ultralytics/yolov5/releases/download/v7.0/yolov5s.pt to yolov5s.pt...\r\n",
      "100%|███████████████████████████████████████| 14.1M/14.1M [00:00<00:00, 137MB/s]\r\n",
      "\r\n",
      "Overriding model.yaml nc=80 with nc=29\r\n",
      "\r\n",
      "                 from  n    params  module                                  arguments                     \r\n",
      "  0                -1  1      3520  models.common.Conv                      [3, 32, 6, 2, 2]              \r\n",
      "  1                -1  1     18560  models.common.Conv                      [32, 64, 3, 2]                \r\n",
      "  2                -1  1     18816  models.common.C3                        [64, 64, 1]                   \r\n",
      "  3                -1  1     73984  models.common.Conv                      [64, 128, 3, 2]               \r\n",
      "  4                -1  2    115712  models.common.C3                        [128, 128, 2]                 \r\n",
      "  5                -1  1    295424  models.common.Conv                      [128, 256, 3, 2]              \r\n",
      "  6                -1  3    625152  models.common.C3                        [256, 256, 3]                 \r\n",
      "  7                -1  1   1180672  models.common.Conv                      [256, 512, 3, 2]              \r\n",
      "  8                -1  1   1182720  models.common.C3                        [512, 512, 1]                 \r\n",
      "  9                -1  1    656896  models.common.SPPF                      [512, 512, 5]                 \r\n",
      " 10                -1  1    131584  models.common.Conv                      [512, 256, 1, 1]              \r\n",
      " 11                -1  1         0  torch.nn.modules.upsampling.Upsample    [None, 2, 'nearest']          \r\n",
      " 12           [-1, 6]  1         0  models.common.Concat                    [1]                           \r\n",
      " 13                -1  1    361984  models.common.C3                        [512, 256, 1, False]          \r\n",
      " 14                -1  1     33024  models.common.Conv                      [256, 128, 1, 1]              \r\n",
      " 15                -1  1         0  torch.nn.modules.upsampling.Upsample    [None, 2, 'nearest']          \r\n",
      " 16           [-1, 4]  1         0  models.common.Concat                    [1]                           \r\n",
      " 17                -1  1     90880  models.common.C3                        [256, 128, 1, False]          \r\n",
      " 18                -1  1    147712  models.common.Conv                      [128, 128, 3, 2]              \r\n",
      " 19          [-1, 14]  1         0  models.common.Concat                    [1]                           \r\n",
      " 20                -1  1    296448  models.common.C3                        [256, 256, 1, False]          \r\n",
      " 21                -1  1    590336  models.common.Conv                      [256, 256, 3, 2]              \r\n",
      " 22          [-1, 10]  1         0  models.common.Concat                    [1]                           \r\n",
      " 23                -1  1   1182720  models.common.C3                        [512, 512, 1, False]          \r\n",
      " 24      [17, 20, 23]  1     91698  models.yolo.Detect                      [29, [[10, 13, 16, 30, 33, 23], [30, 61, 62, 45, 59, 119], [116, 90, 156, 198, 373, 326]], [128, 256, 512]]\r\n",
      "YOLOv5s summary: 214 layers, 7097842 parameters, 7097842 gradients, 16.2 GFLOPs\r\n",
      "\r\n",
      "Transferred 342/349 items from yolov5s.pt\r\n",
      "/kaggle/working/yolov5/models/common.py:892: FutureWarning: `torch.cuda.amp.autocast(args...)` is deprecated. Please use `torch.amp.autocast('cuda', args...)` instead.\r\n",
      "  with amp.autocast(autocast):\r\n",
      "/kaggle/working/yolov5/models/common.py:892: FutureWarning: `torch.cuda.amp.autocast(args...)` is deprecated. Please use `torch.amp.autocast('cuda', args...)` instead.\r\n",
      "  with amp.autocast(autocast):\r\n",
      "\u001b[34m\u001b[1mAMP: \u001b[0mchecks passed ✅\r\n",
      "WARNING ⚠️ --img-size 500 must be multiple of max stride 32, updating to 512\r\n",
      "\u001b[34m\u001b[1moptimizer:\u001b[0m SGD(lr=0.01) with parameter groups 57 weight(decay=0.0), 60 weight(decay=0.0005), 60 bias\r\n",
      "WARNING ⚠️ DP not recommended, use torch.distributed.run for best DDP Multi-GPU results.\r\n",
      "See Multi-GPU Tutorial at https://docs.ultralytics.com/yolov5/tutorials/multi_gpu_training to get started.\r\n",
      "\u001b[34m\u001b[1malbumentations: \u001b[0mBlur(p=0.01, blur_limit=(3, 7)), MedianBlur(p=0.01, blur_limit=(3, 7)), ToGray(p=0.01), CLAHE(p=0.01, clip_limit=(1, 4.0), tile_grid_size=(8, 8))\r\n",
      "/opt/conda/lib/python3.10/multiprocessing/popen_fork.py:66: RuntimeWarning: os.fork() was called. os.fork() is incompatible with multithreaded code, and JAX is multithreaded, so this will likely lead to a deadlock.\r\n",
      "  self.pid = os.fork()\r\n",
      "\u001b[34m\u001b[1mtrain: \u001b[0mScanning /kaggle/input/cleanliness-monitoring/train/labels... 3825 images\u001b[0m\r\n",
      "\u001b[34m\u001b[1mtrain: \u001b[0mWARNING ⚠️ Cache directory /kaggle/input/cleanliness-monitoring/train is not writeable: [Errno 30] Read-only file system: '/kaggle/input/cleanliness-monitoring/train/labels.cache.npy'\r\n",
      "\u001b[34m\u001b[1mtrain: \u001b[0mCaching images (2.8GB ram): 100%|██████████| 3825/3825 [00:07<00:00, 518.\u001b[0m\r\n",
      "\u001b[34m\u001b[1mval: \u001b[0mScanning /kaggle/input/cleanliness-monitoring/valid/labels... 158 images, 0\u001b[0m\r\n",
      "\u001b[34m\u001b[1mval: \u001b[0mWARNING ⚠️ Cache directory /kaggle/input/cleanliness-monitoring/valid is not writeable: [Errno 30] Read-only file system: '/kaggle/input/cleanliness-monitoring/valid/labels.cache.npy'\r\n",
      "\u001b[34m\u001b[1mval: \u001b[0mCaching images (0.1GB ram): 100%|██████████| 158/158 [00:00<00:00, 184.73it\u001b[0m\r\n",
      "\r\n",
      "\u001b[34m\u001b[1mAutoAnchor: \u001b[0m4.16 anchors/target, 0.968 Best Possible Recall (BPR). Anchors are a poor fit to dataset ⚠️, attempting to improve...\r\n",
      "\u001b[34m\u001b[1mAutoAnchor: \u001b[0mWARNING ⚠️ Extremely small objects found: 343 of 11554 labels are <3 pixels in size\r\n",
      "\u001b[34m\u001b[1mAutoAnchor: \u001b[0mRunning kmeans for 9 anchors on 11548 points...\r\n",
      "\u001b[34m\u001b[1mAutoAnchor: \u001b[0mEvolving anchors with Genetic Algorithm: fitness = 0.7198: 100%|████\u001b[0m\r\n",
      "\u001b[34m\u001b[1mAutoAnchor: \u001b[0mthr=0.25: 0.9975 best possible recall, 4.06 anchors past thr\r\n",
      "\u001b[34m\u001b[1mAutoAnchor: \u001b[0mn=9, img_size=512, metric_all=0.284/0.720-mean/best, past_thr=0.498-mean: 6,5, 11,10, 18,17, 33,29, 55,50, 97,76, 144,140, 246,200, 361,384\r\n",
      "\u001b[34m\u001b[1mAutoAnchor: \u001b[0mDone ✅ (optional: update model *.yaml to use these anchors in the future)\r\n",
      "Plotting labels to working/yolov5/runs/train/custom_yolov5/labels.jpg... \r\n",
      "/opt/conda/lib/python3.10/site-packages/seaborn/_oldcore.py:1119: FutureWarning: use_inf_as_na option is deprecated and will be removed in a future version. Convert inf values to NaN before operating instead.\r\n",
      "  with pd.option_context('mode.use_inf_as_na', True):\r\n",
      "/opt/conda/lib/python3.10/site-packages/seaborn/_oldcore.py:1119: FutureWarning: use_inf_as_na option is deprecated and will be removed in a future version. Convert inf values to NaN before operating instead.\r\n",
      "  with pd.option_context('mode.use_inf_as_na', True):\r\n",
      "/opt/conda/lib/python3.10/site-packages/seaborn/_oldcore.py:1119: FutureWarning: use_inf_as_na option is deprecated and will be removed in a future version. Convert inf values to NaN before operating instead.\r\n",
      "  with pd.option_context('mode.use_inf_as_na', True):\r\n",
      "/opt/conda/lib/python3.10/site-packages/seaborn/_oldcore.py:1119: FutureWarning: use_inf_as_na option is deprecated and will be removed in a future version. Convert inf values to NaN before operating instead.\r\n",
      "  with pd.option_context('mode.use_inf_as_na', True):\r\n",
      "/opt/conda/lib/python3.10/site-packages/seaborn/_oldcore.py:1119: FutureWarning: use_inf_as_na option is deprecated and will be removed in a future version. Convert inf values to NaN before operating instead.\r\n",
      "  with pd.option_context('mode.use_inf_as_na', True):\r\n",
      "/opt/conda/lib/python3.10/site-packages/seaborn/_oldcore.py:1119: FutureWarning: use_inf_as_na option is deprecated and will be removed in a future version. Convert inf values to NaN before operating instead.\r\n",
      "  with pd.option_context('mode.use_inf_as_na', True):\r\n",
      "/opt/conda/lib/python3.10/site-packages/seaborn/_oldcore.py:1119: FutureWarning: use_inf_as_na option is deprecated and will be removed in a future version. Convert inf values to NaN before operating instead.\r\n",
      "  with pd.option_context('mode.use_inf_as_na', True):\r\n",
      "/opt/conda/lib/python3.10/site-packages/seaborn/_oldcore.py:1119: FutureWarning: use_inf_as_na option is deprecated and will be removed in a future version. Convert inf values to NaN before operating instead.\r\n",
      "  with pd.option_context('mode.use_inf_as_na', True):\r\n",
      "/opt/conda/lib/python3.10/site-packages/seaborn/_oldcore.py:1119: FutureWarning: use_inf_as_na option is deprecated and will be removed in a future version. Convert inf values to NaN before operating instead.\r\n",
      "  with pd.option_context('mode.use_inf_as_na', True):\r\n",
      "/opt/conda/lib/python3.10/site-packages/seaborn/_oldcore.py:1119: FutureWarning: use_inf_as_na option is deprecated and will be removed in a future version. Convert inf values to NaN before operating instead.\r\n",
      "  with pd.option_context('mode.use_inf_as_na', True):\r\n",
      "/opt/conda/lib/python3.10/site-packages/seaborn/_oldcore.py:1119: FutureWarning: use_inf_as_na option is deprecated and will be removed in a future version. Convert inf values to NaN before operating instead.\r\n",
      "  with pd.option_context('mode.use_inf_as_na', True):\r\n",
      "/opt/conda/lib/python3.10/site-packages/seaborn/_oldcore.py:1119: FutureWarning: use_inf_as_na option is deprecated and will be removed in a future version. Convert inf values to NaN before operating instead.\r\n",
      "  with pd.option_context('mode.use_inf_as_na', True):\r\n",
      "/opt/conda/lib/python3.10/site-packages/seaborn/_oldcore.py:1119: FutureWarning: use_inf_as_na option is deprecated and will be removed in a future version. Convert inf values to NaN before operating instead.\r\n",
      "  with pd.option_context('mode.use_inf_as_na', True):\r\n",
      "/opt/conda/lib/python3.10/site-packages/seaborn/_oldcore.py:1119: FutureWarning: use_inf_as_na option is deprecated and will be removed in a future version. Convert inf values to NaN before operating instead.\r\n",
      "  with pd.option_context('mode.use_inf_as_na', True):\r\n",
      "/opt/conda/lib/python3.10/site-packages/seaborn/_oldcore.py:1119: FutureWarning: use_inf_as_na option is deprecated and will be removed in a future version. Convert inf values to NaN before operating instead.\r\n",
      "  with pd.option_context('mode.use_inf_as_na', True):\r\n",
      "/opt/conda/lib/python3.10/site-packages/seaborn/_oldcore.py:1119: FutureWarning: use_inf_as_na option is deprecated and will be removed in a future version. Convert inf values to NaN before operating instead.\r\n",
      "  with pd.option_context('mode.use_inf_as_na', True):\r\n",
      "/opt/conda/lib/python3.10/site-packages/seaborn/_oldcore.py:1119: FutureWarning: use_inf_as_na option is deprecated and will be removed in a future version. Convert inf values to NaN before operating instead.\r\n",
      "  with pd.option_context('mode.use_inf_as_na', True):\r\n",
      "/opt/conda/lib/python3.10/site-packages/seaborn/_oldcore.py:1119: FutureWarning: use_inf_as_na option is deprecated and will be removed in a future version. Convert inf values to NaN before operating instead.\r\n",
      "  with pd.option_context('mode.use_inf_as_na', True):\r\n",
      "/opt/conda/lib/python3.10/site-packages/seaborn/_oldcore.py:1119: FutureWarning: use_inf_as_na option is deprecated and will be removed in a future version. Convert inf values to NaN before operating instead.\r\n",
      "  with pd.option_context('mode.use_inf_as_na', True):\r\n",
      "/opt/conda/lib/python3.10/site-packages/seaborn/_oldcore.py:1119: FutureWarning: use_inf_as_na option is deprecated and will be removed in a future version. Convert inf values to NaN before operating instead.\r\n",
      "  with pd.option_context('mode.use_inf_as_na', True):\r\n",
      "/kaggle/working/yolov5/train.py:355: FutureWarning: `torch.cuda.amp.GradScaler(args...)` is deprecated. Please use `torch.amp.GradScaler('cuda', args...)` instead.\r\n",
      "  scaler = torch.cuda.amp.GradScaler(enabled=amp)\r\n",
      "Image sizes 512 train, 512 val\r\n",
      "Using 2 dataloader workers\r\n",
      "Logging results to \u001b[1mworking/yolov5/runs/train/custom_yolov5\u001b[0m\r\n",
      "Starting training for 60 epochs...\r\n",
      "\r\n",
      "      Epoch    GPU_mem   box_loss   obj_loss   cls_loss  Instances       Size\r\n",
      "  0%|          | 0/120 [00:00<?, ?it/s]/kaggle/working/yolov5/train.py:412: FutureWarning: `torch.cuda.amp.autocast(args...)` is deprecated. Please use `torch.amp.autocast('cuda', args...)` instead.\r\n",
      "  with torch.cuda.amp.autocast(amp):\r\n",
      "/opt/conda/lib/python3.10/site-packages/torch/nn/parallel/parallel_apply.py:79: FutureWarning: `torch.cuda.amp.autocast(args...)` is deprecated. Please use `torch.amp.autocast('cuda', args...)` instead.\r\n",
      "  with torch.cuda.device(device), torch.cuda.stream(stream), autocast(enabled=autocast_enabled):\r\n",
      "       0/59      2.24G     0.1262    0.02251    0.08946        116        512:  WARNING ⚠️ TensorBoard graph visualization failure Sizes of tensors must match except in dimension 1. Expected size 64 but got size 63 for tensor number 1 in the list.\r\n",
      "       0/59      2.24G     0.1262    0.02251    0.08946        116        512:  /kaggle/working/yolov5/train.py:412: FutureWarning: `torch.cuda.amp.autocast(args...)` is deprecated. Please use `torch.amp.autocast('cuda', args...)` instead.\r\n",
      "  with torch.cuda.amp.autocast(amp):\r\n",
      "/opt/conda/lib/python3.10/site-packages/torch/nn/parallel/parallel_apply.py:79: FutureWarning: `torch.cuda.amp.autocast(args...)` is deprecated. Please use `torch.amp.autocast('cuda', args...)` instead.\r\n",
      "  with torch.cuda.device(device), torch.cuda.stream(stream), autocast(enabled=autocast_enabled):\r\n",
      "       0/59      2.29G     0.1269    0.02322    0.08979        151        512:  /kaggle/working/yolov5/train.py:412: FutureWarning: `torch.cuda.amp.autocast(args...)` is deprecated. Please use `torch.amp.autocast('cuda', args...)` instead.\r\n",
      "  with torch.cuda.amp.autocast(amp):\r\n",
      "/opt/conda/lib/python3.10/site-packages/torch/nn/parallel/parallel_apply.py:79: FutureWarning: `torch.cuda.amp.autocast(args...)` is deprecated. Please use `torch.amp.autocast('cuda', args...)` instead.\r\n",
      "  with torch.cuda.device(device), torch.cuda.stream(stream), autocast(enabled=autocast_enabled):\r\n",
      "       0/59      2.29G     0.1276    0.02268    0.08942        132        512:  /kaggle/working/yolov5/train.py:412: FutureWarning: `torch.cuda.amp.autocast(args...)` is deprecated. Please use `torch.amp.autocast('cuda', args...)` instead.\r\n",
      "  with torch.cuda.amp.autocast(amp):\r\n",
      "/opt/conda/lib/python3.10/site-packages/torch/nn/parallel/parallel_apply.py:79: FutureWarning: `torch.cuda.amp.autocast(args...)` is deprecated. Please use `torch.amp.autocast('cuda', args...)` instead.\r\n",
      "  with torch.cuda.device(device), torch.cuda.stream(stream), autocast(enabled=autocast_enabled):\r\n",
      "       0/59      2.29G     0.1274    0.02262    0.08944        120        512:  /kaggle/working/yolov5/train.py:412: FutureWarning: `torch.cuda.amp.autocast(args...)` is deprecated. Please use `torch.amp.autocast('cuda', args...)` instead.\r\n",
      "  with torch.cuda.amp.autocast(amp):\r\n",
      "/opt/conda/lib/python3.10/site-packages/torch/nn/parallel/parallel_apply.py:79: FutureWarning: `torch.cuda.amp.autocast(args...)` is deprecated. Please use `torch.amp.autocast('cuda', args...)` instead.\r\n",
      "  with torch.cuda.device(device), torch.cuda.stream(stream), autocast(enabled=autocast_enabled):\r\n",
      "       0/59      2.29G     0.1277    0.02239    0.08919        131        512:  /kaggle/working/yolov5/train.py:412: FutureWarning: `torch.cuda.amp.autocast(args...)` is deprecated. Please use `torch.amp.autocast('cuda', args...)` instead.\r\n",
      "  with torch.cuda.amp.autocast(amp):\r\n",
      "/opt/conda/lib/python3.10/site-packages/torch/nn/parallel/parallel_apply.py:79: FutureWarning: `torch.cuda.amp.autocast(args...)` is deprecated. Please use `torch.amp.autocast('cuda', args...)` instead.\r\n",
      "  with torch.cuda.device(device), torch.cuda.stream(stream), autocast(enabled=autocast_enabled):\r\n",
      "       0/59      2.29G     0.1279    0.02248     0.0891        181        512:  /kaggle/working/yolov5/train.py:412: FutureWarning: `torch.cuda.amp.autocast(args...)` is deprecated. Please use `torch.amp.autocast('cuda', args...)` instead.\r\n",
      "  with torch.cuda.amp.autocast(amp):\r\n",
      "/opt/conda/lib/python3.10/site-packages/torch/nn/parallel/parallel_apply.py:79: FutureWarning: `torch.cuda.amp.autocast(args...)` is deprecated. Please use `torch.amp.autocast('cuda', args...)` instead.\r\n",
      "  with torch.cuda.device(device), torch.cuda.stream(stream), autocast(enabled=autocast_enabled):\r\n",
      "       0/59      2.29G      0.127    0.02267    0.08908        118        512:  /kaggle/working/yolov5/train.py:412: FutureWarning: `torch.cuda.amp.autocast(args...)` is deprecated. Please use `torch.amp.autocast('cuda', args...)` instead.\r\n",
      "  with torch.cuda.amp.autocast(amp):\r\n",
      "/opt/conda/lib/python3.10/site-packages/torch/nn/parallel/parallel_apply.py:79: FutureWarning: `torch.cuda.amp.autocast(args...)` is deprecated. Please use `torch.amp.autocast('cuda', args...)` instead.\r\n",
      "  with torch.cuda.device(device), torch.cuda.stream(stream), autocast(enabled=autocast_enabled):\r\n",
      "       0/59      2.29G     0.1269    0.02271    0.08922        136        512:  /kaggle/working/yolov5/train.py:412: FutureWarning: `torch.cuda.amp.autocast(args...)` is deprecated. Please use `torch.amp.autocast('cuda', args...)` instead.\r\n",
      "  with torch.cuda.amp.autocast(amp):\r\n",
      "/opt/conda/lib/python3.10/site-packages/torch/nn/parallel/parallel_apply.py:79: FutureWarning: `torch.cuda.amp.autocast(args...)` is deprecated. Please use `torch.amp.autocast('cuda', args...)` instead.\r\n",
      "  with torch.cuda.device(device), torch.cuda.stream(stream), autocast(enabled=autocast_enabled):\r\n",
      "       0/59      2.29G     0.1268    0.02308    0.08929        193        512:  /kaggle/working/yolov5/train.py:412: FutureWarning: `torch.cuda.amp.autocast(args...)` is deprecated. Please use `torch.amp.autocast('cuda', args...)` instead.\r\n",
      "  with torch.cuda.amp.autocast(amp):\r\n",
      "/opt/conda/lib/python3.10/site-packages/torch/nn/parallel/parallel_apply.py:79: FutureWarning: `torch.cuda.amp.autocast(args...)` is deprecated. Please use `torch.amp.autocast('cuda', args...)` instead.\r\n",
      "  with torch.cuda.device(device), torch.cuda.stream(stream), autocast(enabled=autocast_enabled):\r\n",
      "       0/59      2.29G     0.1267    0.02281    0.08922        125        512:  /kaggle/working/yolov5/train.py:412: FutureWarning: `torch.cuda.amp.autocast(args...)` is deprecated. Please use `torch.amp.autocast('cuda', args...)` instead.\r\n",
      "  with torch.cuda.amp.autocast(amp):\r\n",
      "/opt/conda/lib/python3.10/site-packages/torch/nn/parallel/parallel_apply.py:79: FutureWarning: `torch.cuda.amp.autocast(args...)` is deprecated. Please use `torch.amp.autocast('cuda', args...)` instead.\r\n",
      "  with torch.cuda.device(device), torch.cuda.stream(stream), autocast(enabled=autocast_enabled):\r\n",
      "       0/59      2.29G     0.1266    0.02284    0.08932        171        512:  /kaggle/working/yolov5/train.py:412: FutureWarning: `torch.cuda.amp.autocast(args...)` is deprecated. Please use `torch.amp.autocast('cuda', args...)` instead.\r\n",
      "  with torch.cuda.amp.autocast(amp):\r\n",
      "/opt/conda/lib/python3.10/site-packages/torch/nn/parallel/parallel_apply.py:79: FutureWarning: `torch.cuda.amp.autocast(args...)` is deprecated. Please use `torch.amp.autocast('cuda', args...)` instead.\r\n",
      "  with torch.cuda.device(device), torch.cuda.stream(stream), autocast(enabled=autocast_enabled):\r\n",
      "       0/59      2.29G     0.1266    0.02267    0.08915        131        512:  /kaggle/working/yolov5/train.py:412: FutureWarning: `torch.cuda.amp.autocast(args...)` is deprecated. Please use `torch.amp.autocast('cuda', args...)` instead.\r\n",
      "  with torch.cuda.amp.autocast(amp):\r\n",
      "/opt/conda/lib/python3.10/site-packages/torch/nn/parallel/parallel_apply.py:79: FutureWarning: `torch.cuda.amp.autocast(args...)` is deprecated. Please use `torch.amp.autocast('cuda', args...)` instead.\r\n",
      "  with torch.cuda.device(device), torch.cuda.stream(stream), autocast(enabled=autocast_enabled):\r\n",
      "       0/59      2.29G    0.09393    0.02695    0.08362         64        512: 1\r\n",
      "                 Class     Images  Instances          P          R      mAP50   \r\n",
      "                   all        158        462      0.278     0.0706     0.0255     0.0127\r\n",
      "\r\n",
      "      Epoch    GPU_mem   box_loss   obj_loss   cls_loss  Instances       Size\r\n",
      "       1/59      3.35G     0.0649    0.02349    0.07533         74        512: 1\r\n",
      "                 Class     Images  Instances          P          R      mAP50   \r\n",
      "                   all        158        462      0.452      0.101     0.0517     0.0278\r\n",
      "\r\n",
      "      Epoch    GPU_mem   box_loss   obj_loss   cls_loss  Instances       Size\r\n",
      "       2/59      3.35G    0.06188    0.02193    0.07243         74        512: 1\r\n",
      "                 Class     Images  Instances          P          R      mAP50   \r\n",
      "                   all        158        462      0.422     0.0961     0.0598     0.0354\r\n",
      "\r\n",
      "      Epoch    GPU_mem   box_loss   obj_loss   cls_loss  Instances       Size\r\n",
      "       3/59      3.35G    0.05866    0.02237    0.07001         92        512: 1\r\n",
      "                 Class     Images  Instances          P          R      mAP50   \r\n",
      "                   all        158        462      0.302      0.115     0.0556     0.0295\r\n",
      "\r\n",
      "      Epoch    GPU_mem   box_loss   obj_loss   cls_loss  Instances       Size\r\n",
      "       4/59      3.35G    0.05626    0.02249    0.06768         75        512: 1\r\n",
      "                 Class     Images  Instances          P          R      mAP50   \r\n",
      "                   all        158        462       0.35      0.119     0.0522     0.0265\r\n",
      "\r\n",
      "      Epoch    GPU_mem   box_loss   obj_loss   cls_loss  Instances       Size\r\n",
      "       5/59      3.35G    0.05416    0.02192    0.06543        139        512: 1\r\n",
      "                 Class     Images  Instances          P          R      mAP50   \r\n",
      "                   all        158        462      0.363      0.134     0.0876     0.0529\r\n",
      "\r\n",
      "      Epoch    GPU_mem   box_loss   obj_loss   cls_loss  Instances       Size\r\n",
      "       6/59      3.35G    0.05286    0.02145    0.06292         53        512: 1\r\n",
      "                 Class     Images  Instances          P          R      mAP50   \r\n",
      "                   all        158        462      0.438       0.17      0.104     0.0594\r\n",
      "\r\n",
      "      Epoch    GPU_mem   box_loss   obj_loss   cls_loss  Instances       Size\r\n",
      "       7/59      3.35G    0.05187    0.02078    0.06075         62        512: 1\r\n",
      "                 Class     Images  Instances          P          R      mAP50   \r\n",
      "                   all        158        462      0.455      0.218      0.152     0.0849\r\n",
      "\r\n",
      "      Epoch    GPU_mem   box_loss   obj_loss   cls_loss  Instances       Size\r\n",
      "       8/59      3.35G    0.05087    0.02063    0.05921         75        512: 1\r\n",
      "                 Class     Images  Instances          P          R      mAP50   \r\n",
      "                   all        158        462      0.373      0.228      0.129     0.0711\r\n",
      "\r\n",
      "      Epoch    GPU_mem   box_loss   obj_loss   cls_loss  Instances       Size\r\n",
      "       9/59      3.35G    0.05122    0.02075    0.05691         63        512: 1\r\n",
      "                 Class     Images  Instances          P          R      mAP50   \r\n",
      "                   all        158        462      0.524      0.147      0.129     0.0767\r\n",
      "\r\n",
      "      Epoch    GPU_mem   box_loss   obj_loss   cls_loss  Instances       Size\r\n",
      "      10/59      3.35G     0.0502    0.02039    0.05621         67        512: 1\r\n",
      "                 Class     Images  Instances          P          R      mAP50   \r\n",
      "                   all        158        462      0.341      0.215      0.128     0.0773\r\n",
      "\r\n",
      "      Epoch    GPU_mem   box_loss   obj_loss   cls_loss  Instances       Size\r\n",
      "      11/59      3.35G    0.04989    0.02032    0.05417        104        512: 1\r\n",
      "                 Class     Images  Instances          P          R      mAP50   \r\n",
      "                   all        158        462      0.285       0.26      0.146     0.0907\r\n",
      "\r\n",
      "      Epoch    GPU_mem   box_loss   obj_loss   cls_loss  Instances       Size\r\n",
      "      12/59      3.35G    0.04908    0.01951    0.05249         57        512: 1\r\n",
      "                 Class     Images  Instances          P          R      mAP50   \r\n",
      "                   all        158        462      0.276      0.267      0.157     0.0939\r\n",
      "\r\n",
      "      Epoch    GPU_mem   box_loss   obj_loss   cls_loss  Instances       Size\r\n",
      "      13/59      3.35G    0.04927    0.02029     0.0515         72        512: 1\r\n",
      "                 Class     Images  Instances          P          R      mAP50   \r\n",
      "                   all        158        462      0.286      0.235      0.175      0.106\r\n",
      "\r\n",
      "      Epoch    GPU_mem   box_loss   obj_loss   cls_loss  Instances       Size\r\n",
      "      14/59      3.35G    0.04901    0.01946    0.04962         51        512: 1\r\n",
      "                 Class     Images  Instances          P          R      mAP50   \r\n",
      "                   all        158        462      0.296      0.259      0.185      0.112\r\n",
      "\r\n",
      "      Epoch    GPU_mem   box_loss   obj_loss   cls_loss  Instances       Size\r\n",
      "      15/59      3.35G    0.04838    0.01927    0.04778         74        512: 1\r\n",
      "                 Class     Images  Instances          P          R      mAP50   \r\n",
      "                   all        158        462      0.524      0.192      0.177     0.0999\r\n",
      "\r\n",
      "      Epoch    GPU_mem   box_loss   obj_loss   cls_loss  Instances       Size\r\n",
      "      16/59      3.35G    0.04857    0.01951    0.04691         82        512: 1\r\n",
      "                 Class     Images  Instances          P          R      mAP50   \r\n",
      "                   all        158        462      0.491      0.203      0.196      0.113\r\n",
      "\r\n",
      "      Epoch    GPU_mem   box_loss   obj_loss   cls_loss  Instances       Size\r\n",
      "      17/59      3.35G    0.04778    0.01903    0.04535         65        512: 1\r\n",
      "                 Class     Images  Instances          P          R      mAP50   \r\n",
      "                   all        158        462      0.303      0.222      0.172      0.106\r\n",
      "\r\n",
      "      Epoch    GPU_mem   box_loss   obj_loss   cls_loss  Instances       Size\r\n",
      "      18/59      3.35G    0.04757    0.01921    0.04474         87        512: 1\r\n",
      "                 Class     Images  Instances          P          R      mAP50   \r\n",
      "                   all        158        462       0.25      0.267      0.204      0.116\r\n",
      "\r\n",
      "      Epoch    GPU_mem   box_loss   obj_loss   cls_loss  Instances       Size\r\n",
      "      19/59      3.35G    0.04696    0.01877    0.04324         55        512: 1\r\n",
      "                 Class     Images  Instances          P          R      mAP50   \r\n",
      "                   all        158        462      0.339      0.262      0.217      0.136\r\n",
      "\r\n",
      "      Epoch    GPU_mem   box_loss   obj_loss   cls_loss  Instances       Size\r\n",
      "      20/59      3.35G    0.04657     0.0189     0.0419         74        512: 1\r\n",
      "                 Class     Images  Instances          P          R      mAP50   \r\n",
      "                   all        158        462      0.389      0.205      0.199      0.127\r\n",
      "\r\n",
      "      Epoch    GPU_mem   box_loss   obj_loss   cls_loss  Instances       Size\r\n",
      "      21/59      3.35G    0.04723    0.01904    0.04047         72        512: 1\r\n",
      "                 Class     Images  Instances          P          R      mAP50   \r\n",
      "                   all        158        462      0.291       0.28      0.213       0.13\r\n",
      "\r\n",
      "      Epoch    GPU_mem   box_loss   obj_loss   cls_loss  Instances       Size\r\n",
      "      22/59      3.35G    0.04608    0.01886    0.03981        107        512: 1\r\n",
      "                 Class     Images  Instances          P          R      mAP50   \r\n",
      "                   all        158        462      0.381      0.294      0.206      0.132\r\n",
      "\r\n",
      "      Epoch    GPU_mem   box_loss   obj_loss   cls_loss  Instances       Size\r\n",
      "      23/59      3.35G     0.0459    0.01853    0.03861        113        512: 1\r\n",
      "                 Class     Images  Instances          P          R      mAP50   \r\n",
      "                   all        158        462      0.309      0.248      0.206      0.137\r\n",
      "\r\n",
      "      Epoch    GPU_mem   box_loss   obj_loss   cls_loss  Instances       Size\r\n",
      "      24/59      3.35G     0.0455     0.0179    0.03669         69        512: 1\r\n",
      "                 Class     Images  Instances          P          R      mAP50   \r\n",
      "                   all        158        462      0.301      0.247      0.214      0.133\r\n",
      "\r\n",
      "      Epoch    GPU_mem   box_loss   obj_loss   cls_loss  Instances       Size\r\n",
      "      25/59      3.35G    0.04509    0.01801    0.03592         62        512: 1\r\n",
      "                 Class     Images  Instances          P          R      mAP50   \r\n",
      "                   all        158        462      0.244      0.228      0.185       0.12\r\n",
      "\r\n",
      "      Epoch    GPU_mem   box_loss   obj_loss   cls_loss  Instances       Size\r\n",
      "      26/59      3.35G    0.04479    0.01812    0.03449         89        512: 1\r\n",
      "                 Class     Images  Instances          P          R      mAP50   \r\n",
      "                   all        158        462      0.465      0.184      0.164      0.106\r\n",
      "\r\n",
      "      Epoch    GPU_mem   box_loss   obj_loss   cls_loss  Instances       Size\r\n",
      "      27/59      3.35G    0.04432    0.01751    0.03304         71        512: 1\r\n",
      "                 Class     Images  Instances          P          R      mAP50   \r\n",
      "                   all        158        462      0.542      0.187      0.203      0.139\r\n",
      "\r\n",
      "      Epoch    GPU_mem   box_loss   obj_loss   cls_loss  Instances       Size\r\n",
      "      28/59      3.35G    0.04403    0.01786    0.03278         57        512: 1\r\n",
      "                 Class     Images  Instances          P          R      mAP50   \r\n",
      "                   all        158        462       0.28      0.279      0.232      0.157\r\n",
      "\r\n",
      "      Epoch    GPU_mem   box_loss   obj_loss   cls_loss  Instances       Size\r\n",
      "      29/59      3.35G    0.04388     0.0172    0.03214        108        512: 1\r\n",
      "                 Class     Images  Instances          P          R      mAP50   \r\n",
      "                   all        158        462      0.318      0.301      0.246      0.168\r\n",
      "\r\n",
      "      Epoch    GPU_mem   box_loss   obj_loss   cls_loss  Instances       Size\r\n",
      "      30/59      3.35G    0.04368    0.01701     0.0306         44        512: 1\r\n",
      "                 Class     Images  Instances          P          R      mAP50   \r\n",
      "                   all        158        462      0.396      0.263      0.261      0.159\r\n",
      "\r\n",
      "      Epoch    GPU_mem   box_loss   obj_loss   cls_loss  Instances       Size\r\n",
      "      31/59      3.35G    0.04353    0.01732    0.02912         96        512: 1\r\n",
      "                 Class     Images  Instances          P          R      mAP50   \r\n",
      "                   all        158        462      0.236      0.269        0.2      0.132\r\n",
      "\r\n",
      "      Epoch    GPU_mem   box_loss   obj_loss   cls_loss  Instances       Size\r\n",
      "      32/59      3.35G    0.04275    0.01694    0.02828         83        512: 1\r\n",
      "                 Class     Images  Instances          P          R      mAP50   \r\n",
      "                   all        158        462      0.271       0.26      0.224      0.137\r\n",
      "\r\n",
      "      Epoch    GPU_mem   box_loss   obj_loss   cls_loss  Instances       Size\r\n",
      "      33/59      3.35G    0.04251    0.01695    0.02688         59        512: 1\r\n",
      "                 Class     Images  Instances          P          R      mAP50   \r\n",
      "                   all        158        462      0.205      0.243      0.196      0.128\r\n",
      "\r\n",
      "      Epoch    GPU_mem   box_loss   obj_loss   cls_loss  Instances       Size\r\n",
      "      34/59      3.35G     0.0422     0.0168    0.02591         52        512: 1\r\n",
      "                 Class     Images  Instances          P          R      mAP50   \r\n",
      "                   all        158        462      0.281      0.218      0.161      0.107\r\n",
      "\r\n",
      "      Epoch    GPU_mem   box_loss   obj_loss   cls_loss  Instances       Size\r\n",
      "      35/59      3.35G    0.04218    0.01631    0.02529         61        512: 1\r\n",
      "                 Class     Images  Instances          P          R      mAP50   \r\n",
      "                   all        158        462      0.246      0.264      0.205       0.14\r\n",
      "\r\n",
      "      Epoch    GPU_mem   box_loss   obj_loss   cls_loss  Instances       Size\r\n",
      "      36/59      3.35G    0.04182    0.01632    0.02493        107        512: 1\r\n",
      "                 Class     Images  Instances          P          R      mAP50   \r\n",
      "                   all        158        462      0.445      0.194      0.202       0.14\r\n",
      "\r\n",
      "      Epoch    GPU_mem   box_loss   obj_loss   cls_loss  Instances       Size\r\n",
      "      37/59      3.35G    0.04124     0.0163    0.02304         89        512: 1\r\n",
      "                 Class     Images  Instances          P          R      mAP50   \r\n",
      "                   all        158        462      0.468      0.213      0.225      0.156\r\n",
      "\r\n",
      "      Epoch    GPU_mem   box_loss   obj_loss   cls_loss  Instances       Size\r\n",
      "      38/59      3.35G    0.04154    0.01655    0.02266         54        512: 1\r\n",
      "                 Class     Images  Instances          P          R      mAP50   \r\n",
      "                   all        158        462      0.308      0.287      0.246      0.162\r\n",
      "\r\n",
      "      Epoch    GPU_mem   box_loss   obj_loss   cls_loss  Instances       Size\r\n",
      "      39/59      3.35G      0.041    0.01618    0.02193         47        512: 1\r\n",
      "                 Class     Images  Instances          P          R      mAP50   \r\n",
      "                   all        158        462      0.342      0.289      0.254      0.175\r\n",
      "\r\n",
      "      Epoch    GPU_mem   box_loss   obj_loss   cls_loss  Instances       Size\r\n",
      "      40/59      3.35G    0.04083    0.01612    0.02154         87        512: 1\r\n",
      "                 Class     Images  Instances          P          R      mAP50   \r\n",
      "                   all        158        462      0.261      0.268      0.199      0.131\r\n",
      "\r\n",
      "      Epoch    GPU_mem   box_loss   obj_loss   cls_loss  Instances       Size\r\n",
      "      41/59      3.35G    0.04087    0.01584    0.02101         60        512: 1\r\n",
      "                 Class     Images  Instances          P          R      mAP50   \r\n",
      "                   all        158        462       0.35      0.222      0.207      0.143\r\n",
      "\r\n",
      "      Epoch    GPU_mem   box_loss   obj_loss   cls_loss  Instances       Size\r\n",
      "      42/59      3.35G    0.03996     0.0155    0.01991         99        512: 1\r\n",
      "                 Class     Images  Instances          P          R      mAP50   \r\n",
      "                   all        158        462      0.291       0.29      0.264       0.19\r\n",
      "\r\n",
      "      Epoch    GPU_mem   box_loss   obj_loss   cls_loss  Instances       Size\r\n",
      "      43/59      3.35G     0.0403      0.016    0.01848         72        512: 1\r\n",
      "                 Class     Images  Instances          P          R      mAP50   \r\n",
      "                   all        158        462      0.322      0.272      0.239      0.163\r\n",
      "\r\n",
      "      Epoch    GPU_mem   box_loss   obj_loss   cls_loss  Instances       Size\r\n",
      "      44/59      3.35G    0.04005     0.0156    0.01814         59        512: 1\r\n",
      "                 Class     Images  Instances          P          R      mAP50   \r\n",
      "                   all        158        462      0.448      0.233      0.211      0.142\r\n",
      "\r\n",
      "      Epoch    GPU_mem   box_loss   obj_loss   cls_loss  Instances       Size\r\n",
      "      45/59      3.35G    0.03976     0.0156    0.01797         70        512: 1\r\n",
      "                 Class     Images  Instances          P          R      mAP50   \r\n",
      "                   all        158        462      0.368      0.279      0.237      0.166\r\n",
      "\r\n",
      "      Epoch    GPU_mem   box_loss   obj_loss   cls_loss  Instances       Size\r\n",
      "      46/59      3.35G    0.03852    0.01525    0.01707         79        512: 1\r\n",
      "                 Class     Images  Instances          P          R      mAP50   \r\n",
      "                   all        158        462      0.337      0.275       0.21      0.149\r\n",
      "\r\n",
      "      Epoch    GPU_mem   box_loss   obj_loss   cls_loss  Instances       Size\r\n",
      "      47/59      3.35G    0.03875    0.01503    0.01674         64        512: 1\r\n",
      "                 Class     Images  Instances          P          R      mAP50   \r\n",
      "                   all        158        462      0.327       0.24      0.215      0.149\r\n",
      "\r\n",
      "      Epoch    GPU_mem   box_loss   obj_loss   cls_loss  Instances       Size\r\n",
      "      48/59      3.35G    0.03876    0.01552    0.01561         76        512: 1\r\n",
      "                 Class     Images  Instances          P          R      mAP50   \r\n",
      "                   all        158        462      0.385      0.266       0.23      0.159\r\n",
      "\r\n",
      "      Epoch    GPU_mem   box_loss   obj_loss   cls_loss  Instances       Size\r\n",
      "      49/59      3.35G    0.03804    0.01491    0.01582         94        512: 1\r\n",
      "                 Class     Images  Instances          P          R      mAP50   \r\n",
      "                   all        158        462      0.327      0.253      0.227       0.16\r\n",
      "\r\n",
      "      Epoch    GPU_mem   box_loss   obj_loss   cls_loss  Instances       Size\r\n",
      "      50/59      3.35G    0.03735    0.01461    0.01474         92        512: 1\r\n",
      "                 Class     Images  Instances          P          R      mAP50   \r\n",
      "                   all        158        462      0.376      0.268      0.233      0.166\r\n",
      "\r\n",
      "      Epoch    GPU_mem   box_loss   obj_loss   cls_loss  Instances       Size\r\n",
      "      51/59      3.35G    0.03713    0.01473    0.01462         80        512: 1\r\n",
      "                 Class     Images  Instances          P          R      mAP50   \r\n",
      "                   all        158        462       0.31      0.298       0.25      0.178\r\n",
      "\r\n",
      "      Epoch    GPU_mem   box_loss   obj_loss   cls_loss  Instances       Size\r\n",
      "      52/59      3.35G    0.03702    0.01444    0.01424        140        512: 1\r\n",
      "                 Class     Images  Instances          P          R      mAP50   \r\n",
      "                   all        158        462      0.264      0.311      0.229      0.168\r\n",
      "\r\n",
      "      Epoch    GPU_mem   box_loss   obj_loss   cls_loss  Instances       Size\r\n",
      "      53/59      3.35G    0.03646    0.01391    0.01359         64        512: 1\r\n",
      "                 Class     Images  Instances          P          R      mAP50   \r\n",
      "                   all        158        462      0.304      0.288      0.234      0.172\r\n",
      "\r\n",
      "      Epoch    GPU_mem   box_loss   obj_loss   cls_loss  Instances       Size\r\n",
      "      54/59      3.35G    0.03639    0.01454    0.01337        109        512: 1\r\n",
      "                 Class     Images  Instances          P          R      mAP50   \r\n",
      "                   all        158        462      0.396      0.225      0.229      0.162\r\n",
      "\r\n",
      "      Epoch    GPU_mem   box_loss   obj_loss   cls_loss  Instances       Size\r\n",
      "      55/59      3.35G     0.0366    0.01421    0.01313         78        512: 1\r\n",
      "                 Class     Images  Instances          P          R      mAP50   \r\n",
      "                   all        158        462       0.34       0.28      0.237       0.17\r\n",
      "\r\n",
      "      Epoch    GPU_mem   box_loss   obj_loss   cls_loss  Instances       Size\r\n",
      "      56/59      3.35G    0.03583    0.01427    0.01278         50        512: 1\r\n",
      "                 Class     Images  Instances          P          R      mAP50   \r\n",
      "                   all        158        462      0.289      0.293      0.238      0.172\r\n",
      "\r\n",
      "      Epoch    GPU_mem   box_loss   obj_loss   cls_loss  Instances       Size\r\n",
      "      57/59      3.35G    0.03545    0.01389    0.01229         77        512: 1\r\n",
      "                 Class     Images  Instances          P          R      mAP50   \r\n",
      "                   all        158        462      0.289      0.288      0.233      0.171\r\n",
      "\r\n",
      "      Epoch    GPU_mem   box_loss   obj_loss   cls_loss  Instances       Size\r\n",
      "      58/59      3.35G    0.03573    0.01398    0.01237         65        512: 1\r\n",
      "                 Class     Images  Instances          P          R      mAP50   \r\n",
      "                   all        158        462       0.35      0.291      0.236      0.171\r\n",
      "\r\n",
      "      Epoch    GPU_mem   box_loss   obj_loss   cls_loss  Instances       Size\r\n",
      "      59/59      3.35G    0.03521    0.01385    0.01165         90        512: 1\r\n",
      "                 Class     Images  Instances          P          R      mAP50   \r\n",
      "                   all        158        462      0.394      0.247      0.241      0.177\r\n",
      "\r\n",
      "60 epochs completed in 0.672 hours.\r\n",
      "Optimizer stripped from working/yolov5/runs/train/custom_yolov5/weights/last.pt, 14.5MB\r\n",
      "Optimizer stripped from working/yolov5/runs/train/custom_yolov5/weights/best.pt, 14.5MB\r\n",
      "\r\n",
      "Validating working/yolov5/runs/train/custom_yolov5/weights/best.pt...\r\n",
      "Fusing layers... \r\n",
      "YOLOv5s summary: 157 layers, 7088338 parameters, 0 gradients, 16.0 GFLOPs\r\n",
      "                 Class     Images  Instances          P          R      mAP50   \r\n",
      "                   all        158        462      0.398      0.276      0.266      0.192\r\n",
      "        Aluminium foil        158          5      0.645        0.6      0.565      0.416\r\n",
      "            Bottle cap        158         25      0.407       0.44      0.374      0.251\r\n",
      "             Cigarette        158         54      0.494     0.0741      0.157     0.0623\r\n",
      "  Clear plastic bottle        158         25      0.439       0.52      0.498      0.364\r\n",
      "          Crisp packet        158          2      0.496      0.496      0.259      0.233\r\n",
      "                   Cup        158         18      0.373      0.389       0.32      0.161\r\n",
      "             Drink can        158         12      0.284       0.25      0.323      0.289\r\n",
      "           Food Carton        158          5      0.636      0.363      0.453      0.328\r\n",
      "        Food container        158          6      0.437      0.333      0.315      0.271\r\n",
      "            Food waste        158          3       0.25      0.333      0.409      0.257\r\n",
      "           Garbage bag        158          7      0.591      0.857      0.681       0.48\r\n",
      "          Glass bottle        158         12      0.441      0.417      0.254      0.163\r\n",
      "                   Lid        158         16      0.257      0.312      0.217      0.145\r\n",
      "          Other Carton        158         14      0.215      0.214      0.224      0.158\r\n",
      "             Other can        158          1      0.564          1      0.995      0.895\r\n",
      "       Other container        158          4          1          0    0.00136   0.000271\r\n",
      "  Other plastic bottle        158         17      0.128     0.0588     0.0741     0.0612\r\n",
      " Other plastic wrapper        158          4          0          0     0.0386     0.0248\r\n",
      "         Other plastic        158         26      0.272      0.115     0.0988     0.0796\r\n",
      "             Paper bag        158         21      0.289     0.0793     0.0803     0.0556\r\n",
      "                 Paper        158          7          0          0      0.101     0.0648\r\n",
      "          Plastic film        158         69      0.357      0.297      0.253      0.135\r\n",
      "               Pop tab        158          3          1          0          0          0\r\n",
      "Single-use carrier bag        158          8          0          0     0.0636     0.0456\r\n",
      "                 Straw        158         22      0.225     0.0909       0.16     0.0825\r\n",
      "       Styrofoam piece        158          6      0.636      0.167      0.206      0.148\r\n",
      "      Unlabeled litter        158         70      0.297     0.0571     0.0614     0.0256\r\n",
      "Results saved to \u001b[1mworking/yolov5/runs/train/custom_yolov5\u001b[0m\r\n"
     ]
    }
   ],
   "source": [
    "!python /kaggle/working/yolov5/train.py --img 500 --batch 32 --epochs 60 --data /kaggle/working/data_1.yaml --cfg yolov5s.yaml --weights yolov5s.pt --name custom_yolov5 --cache --workers 2\n",
    "\n"
   ]
  },
  {
   "cell_type": "code",
   "execution_count": null,
   "id": "7d5569bd",
   "metadata": {
    "papermill": {
     "duration": 0.670805,
     "end_time": "2024-10-09T13:47:49.642456",
     "exception": false,
     "start_time": "2024-10-09T13:47:48.971651",
     "status": "completed"
    },
    "tags": []
   },
   "outputs": [],
   "source": []
  },
  {
   "cell_type": "code",
   "execution_count": 23,
   "id": "0fe34821",
   "metadata": {
    "execution": {
     "iopub.execute_input": "2024-10-09T13:47:50.986888Z",
     "iopub.status.busy": "2024-10-09T13:47:50.985891Z",
     "iopub.status.idle": "2024-10-09T13:47:50.991540Z",
     "shell.execute_reply": "2024-10-09T13:47:50.990698Z"
    },
    "executionInfo": {
     "elapsed": 3697,
     "status": "ok",
     "timestamp": 1725169368154,
     "user": {
      "displayName": "Nidhi Satyapriya",
      "userId": "18074991652491386433"
     },
     "user_tz": -330
    },
    "id": "aDWuftrWn6ZC",
    "outputId": "473a8530-4258-422e-bd10-0f0df726724a",
    "papermill": {
     "duration": 0.683578,
     "end_time": "2024-10-09T13:47:50.993458",
     "exception": false,
     "start_time": "2024-10-09T13:47:50.309880",
     "status": "completed"
    },
    "tags": []
   },
   "outputs": [],
   "source": [
    "# pip install --upgrade tensorboard\n"
   ]
  },
  {
   "cell_type": "code",
   "execution_count": 24,
   "id": "11ae0ccb",
   "metadata": {
    "execution": {
     "iopub.execute_input": "2024-10-09T13:47:52.410979Z",
     "iopub.status.busy": "2024-10-09T13:47:52.410597Z",
     "iopub.status.idle": "2024-10-09T13:47:52.414899Z",
     "shell.execute_reply": "2024-10-09T13:47:52.413920Z"
    },
    "papermill": {
     "duration": 0.700197,
     "end_time": "2024-10-09T13:47:52.416980",
     "exception": false,
     "start_time": "2024-10-09T13:47:51.716783",
     "status": "completed"
    },
    "tags": []
   },
   "outputs": [],
   "source": [
    "# /kaggle/input/cleanliness-monitoring\n",
    "# /kaggle/working/"
   ]
  },
  {
   "cell_type": "code",
   "execution_count": 25,
   "id": "c2f0998b",
   "metadata": {
    "execution": {
     "iopub.execute_input": "2024-10-09T13:47:53.817382Z",
     "iopub.status.busy": "2024-10-09T13:47:53.816610Z",
     "iopub.status.idle": "2024-10-09T13:47:55.857754Z",
     "shell.execute_reply": "2024-10-09T13:47:55.856408Z"
    },
    "papermill": {
     "duration": 2.760243,
     "end_time": "2024-10-09T13:47:55.860276",
     "exception": false,
     "start_time": "2024-10-09T13:47:53.100033",
     "status": "completed"
    },
    "tags": []
   },
   "outputs": [],
   "source": [
    "# Copy the best model checkpoint to the working directory\n",
    "!cp working/yolov5/runs/train/custom_yolov5/weights/best.pt /kaggle/working/\n",
    "# Optionally, copy the last model checkpoint\n",
    "!cp working/yolov5/runs/train/custom_yolov5/weights/last.pt /kaggle/working/\n"
   ]
  },
  {
   "cell_type": "code",
   "execution_count": 26,
   "id": "825ddf8c",
   "metadata": {
    "execution": {
     "iopub.execute_input": "2024-10-09T13:47:57.211207Z",
     "iopub.status.busy": "2024-10-09T13:47:57.210420Z",
     "iopub.status.idle": "2024-10-09T13:48:00.226424Z",
     "shell.execute_reply": "2024-10-09T13:48:00.225331Z"
    },
    "papermill": {
     "duration": 3.692877,
     "end_time": "2024-10-09T13:48:00.228614",
     "exception": false,
     "start_time": "2024-10-09T13:47:56.535737",
     "status": "completed"
    },
    "tags": []
   },
   "outputs": [],
   "source": [
    "# Save the results plot\n",
    "!cp working/yolov5/runs/train/custom_yolov5/results.png /kaggle/working/\n",
    "\n",
    "# Save the training options and hyperparameters\n",
    "!cp working/yolov5/runs/train/custom_yolov5/hyp.yaml /kaggle/working/\n",
    "!cp working/yolov5/runs/train/custom_yolov5/opt.yaml /kaggle/working/\n"
   ]
  },
  {
   "cell_type": "code",
   "execution_count": 27,
   "id": "7298689a",
   "metadata": {
    "execution": {
     "iopub.execute_input": "2024-10-09T13:48:01.660548Z",
     "iopub.status.busy": "2024-10-09T13:48:01.659686Z",
     "iopub.status.idle": "2024-10-09T13:48:11.337044Z",
     "shell.execute_reply": "2024-10-09T13:48:11.335972Z"
    },
    "papermill": {
     "duration": 10.377148,
     "end_time": "2024-10-09T13:48:11.339416",
     "exception": false,
     "start_time": "2024-10-09T13:48:00.962268",
     "status": "completed"
    },
    "tags": []
   },
   "outputs": [
    {
     "name": "stdout",
     "output_type": "stream",
     "text": [
      "\u001b[34m\u001b[1mexport: \u001b[0mdata=working/yolov5/data/coco128.yaml, weights=['/kaggle/working/best.pt'], imgsz=[640], batch_size=1, device=0, half=False, inplace=False, keras=False, optimize=False, int8=False, per_tensor=False, dynamic=False, simplify=False, mlmodel=False, opset=17, verbose=False, workspace=4, nms=False, agnostic_nms=False, topk_per_class=100, topk_all=100, iou_thres=0.45, conf_thres=0.25, include=['onnx']\r\n",
      "YOLOv5 🚀 v7.0-371-g6629839d Python-3.10.14 torch-2.4.0 CUDA:0 (Tesla T4, 15095MiB)\r\n",
      "\r\n",
      "Fusing layers... \r\n",
      "YOLOv5s summary: 157 layers, 7088338 parameters, 0 gradients, 16.0 GFLOPs\r\n",
      "\r\n",
      "\u001b[34m\u001b[1mPyTorch:\u001b[0m starting from /kaggle/working/best.pt with output shape (1, 25200, 34) (13.8 MB)\r\n",
      "\r\n",
      "\u001b[34m\u001b[1mONNX:\u001b[0m starting export with onnx 1.16.2...\r\n",
      "\u001b[34m\u001b[1mONNX:\u001b[0m export success ✅ 0.8s, saved as /kaggle/working/best.onnx (27.5 MB)\r\n",
      "\r\n",
      "Export complete (1.6s)\r\n",
      "Results saved to \u001b[1m/kaggle/working\u001b[0m\r\n",
      "Detect:          python detect.py --weights /kaggle/working/best.onnx \r\n",
      "Validate:        python val.py --weights /kaggle/working/best.onnx \r\n",
      "PyTorch Hub:     model = torch.hub.load('ultralytics/yolov5', 'custom', '/kaggle/working/best.onnx')  \r\n",
      "Visualize:       https://netron.app\r\n"
     ]
    }
   ],
   "source": [
    "# Convert the best model to ONNX format\n",
    "!python working/yolov5/export.py --weights /kaggle/working/best.pt --img 640 --batch 1 --device 0 --include onnx\n"
   ]
  },
  {
   "cell_type": "code",
   "execution_count": 28,
   "id": "1faf1d07",
   "metadata": {
    "execution": {
     "iopub.execute_input": "2024-10-09T13:48:12.743608Z",
     "iopub.status.busy": "2024-10-09T13:48:12.743180Z",
     "iopub.status.idle": "2024-10-09T13:48:13.756531Z",
     "shell.execute_reply": "2024-10-09T13:48:13.755289Z"
    },
    "papermill": {
     "duration": 1.746079,
     "end_time": "2024-10-09T13:48:13.758807",
     "exception": false,
     "start_time": "2024-10-09T13:48:12.012728",
     "status": "completed"
    },
    "tags": []
   },
   "outputs": [
    {
     "name": "stdout",
     "output_type": "stream",
     "text": [
      "cp: cannot stat 'working/yolov5/runs/train/custom_yolov5/weights/best.onnx': No such file or directory\r\n"
     ]
    }
   ],
   "source": [
    "# Copy the ONNX model to the working directory\n",
    "!cp working/yolov5/runs/train/custom_yolov5/weights/best.onnx /kaggle/working/\n"
   ]
  },
  {
   "cell_type": "code",
   "execution_count": 29,
   "id": "f0ba0113",
   "metadata": {
    "execution": {
     "iopub.execute_input": "2024-10-09T13:48:15.108111Z",
     "iopub.status.busy": "2024-10-09T13:48:15.107096Z",
     "iopub.status.idle": "2024-10-09T13:48:16.117202Z",
     "shell.execute_reply": "2024-10-09T13:48:16.116180Z"
    },
    "papermill": {
     "duration": 1.68723,
     "end_time": "2024-10-09T13:48:16.119664",
     "exception": false,
     "start_time": "2024-10-09T13:48:14.432434",
     "status": "completed"
    },
    "tags": []
   },
   "outputs": [
    {
     "name": "stdout",
     "output_type": "stream",
     "text": [
      "__notebook__.ipynb  best.pt\t hyp.yaml  opt.yaml\tyolov5\r\n",
      "best.onnx\t    data_1.yaml  last.pt   results.png\r\n"
     ]
    }
   ],
   "source": [
    "# List files in the /kaggle/working directory to verify\n",
    "!ls /kaggle/working/\n"
   ]
  },
  {
   "cell_type": "code",
   "execution_count": 30,
   "id": "1f7b7f99",
   "metadata": {
    "execution": {
     "iopub.execute_input": "2024-10-09T13:48:17.537091Z",
     "iopub.status.busy": "2024-10-09T13:48:17.536668Z",
     "iopub.status.idle": "2024-10-09T13:48:54.940020Z",
     "shell.execute_reply": "2024-10-09T13:48:54.938805Z"
    },
    "papermill": {
     "duration": 38.092006,
     "end_time": "2024-10-09T13:48:54.942522",
     "exception": false,
     "start_time": "2024-10-09T13:48:16.850516",
     "status": "completed"
    },
    "tags": []
   },
   "outputs": [
    {
     "name": "stdout",
     "output_type": "stream",
     "text": [
      "\u001b[34m\u001b[1mval: \u001b[0mdata=/kaggle/working/data_1.yaml, weights=['/kaggle/working/best.onnx'], batch_size=32, imgsz=640, conf_thres=0.001, iou_thres=0.6, max_det=300, task=val, device=, workers=8, single_cls=False, augment=False, verbose=False, save_txt=False, save_hybrid=False, save_conf=False, save_json=True, project=working/yolov5/runs/val, name=exp, exist_ok=False, half=False, dnn=False\r\n",
      "YOLOv5 🚀 v7.0-371-g6629839d Python-3.10.14 torch-2.4.0 CUDA:0 (Tesla T4, 15095MiB)\r\n",
      "\r\n",
      "Loading /kaggle/working/best.onnx for ONNX Runtime inference...\r\n",
      "\u001b[31m\u001b[1mrequirements:\u001b[0m Ultralytics requirement ['onnxruntime-gpu'] not found, attempting AutoUpdate...\r\n",
      "Collecting onnxruntime-gpu\r\n",
      "  Downloading onnxruntime_gpu-1.19.2-cp310-cp310-manylinux_2_27_x86_64.manylinux_2_28_x86_64.whl.metadata (4.5 kB)\r\n",
      "Collecting coloredlogs (from onnxruntime-gpu)\r\n",
      "  Downloading coloredlogs-15.0.1-py2.py3-none-any.whl.metadata (12 kB)\r\n",
      "Requirement already satisfied: flatbuffers in /opt/conda/lib/python3.10/site-packages (from onnxruntime-gpu) (24.3.25)\r\n",
      "Requirement already satisfied: numpy>=1.21.6 in /opt/conda/lib/python3.10/site-packages (from onnxruntime-gpu) (1.23.5)\r\n",
      "Requirement already satisfied: packaging in /opt/conda/lib/python3.10/site-packages (from onnxruntime-gpu) (21.3)\r\n",
      "Requirement already satisfied: protobuf in /opt/conda/lib/python3.10/site-packages (from onnxruntime-gpu) (3.20.3)\r\n",
      "Requirement already satisfied: sympy in /opt/conda/lib/python3.10/site-packages (from onnxruntime-gpu) (1.13.2)\r\n",
      "Collecting humanfriendly>=9.1 (from coloredlogs->onnxruntime-gpu)\r\n",
      "  Downloading humanfriendly-10.0-py2.py3-none-any.whl.metadata (9.2 kB)\r\n",
      "Requirement already satisfied: pyparsing!=3.0.5,>=2.0.2 in /opt/conda/lib/python3.10/site-packages (from packaging->onnxruntime-gpu) (3.1.2)\r\n",
      "Requirement already satisfied: mpmath<1.4,>=1.1.0 in /opt/conda/lib/python3.10/site-packages (from sympy->onnxruntime-gpu) (1.3.0)\r\n",
      "Downloading onnxruntime_gpu-1.19.2-cp310-cp310-manylinux_2_27_x86_64.manylinux_2_28_x86_64.whl (226.2 MB)\r\n",
      "\u001b[2K   \u001b[90m━━━━━━━━━━━━━━━━━━━━━━━━━━━━━━━━━━━━━━━\u001b[0m \u001b[32m226.2/226.2 MB\u001b[0m \u001b[31m316.1 MB/s\u001b[0m eta \u001b[36m0:00:00\u001b[0m\r\n",
      "\u001b[?25hDownloading coloredlogs-15.0.1-py2.py3-none-any.whl (46 kB)\r\n",
      "Downloading humanfriendly-10.0-py2.py3-none-any.whl (86 kB)\r\n",
      "Installing collected packages: humanfriendly, coloredlogs, onnxruntime-gpu\r\n",
      "Successfully installed coloredlogs-15.0.1 humanfriendly-10.0 onnxruntime-gpu-1.19.2\r\n",
      "\r\n",
      "\u001b[31m\u001b[1mrequirements:\u001b[0m AutoUpdate success ✅ 12.0s, installed 1 package: ['onnxruntime-gpu']\r\n",
      "\u001b[31m\u001b[1mrequirements:\u001b[0m ⚠️ \u001b[1mRestart runtime or rerun command for updates to take effect\u001b[0m\r\n",
      "\r\n",
      "Forcing --batch-size 1 square inference (1,3,640,640) for non-PyTorch models\r\n",
      "\u001b[34m\u001b[1mval: \u001b[0mScanning /kaggle/input/cleanliness-monitoring/valid/labels... 158 images, 0\u001b[0m\r\n",
      "\u001b[34m\u001b[1mval: \u001b[0mWARNING ⚠️ Cache directory /kaggle/input/cleanliness-monitoring/valid is not writeable: [Errno 30] Read-only file system: '/kaggle/input/cleanliness-monitoring/valid/labels.cache.npy'\r\n",
      "                 Class     Images  Instances          P          R      mAP50   \r\n",
      "                   all        158        462      0.297      0.258       0.22      0.152\r\n",
      "        Aluminium foil        158          5      0.712        0.4      0.436      0.318\r\n",
      "            Bottle cap        158         25      0.368       0.44      0.363      0.216\r\n",
      "             Cigarette        158         54      0.275     0.0926      0.116     0.0479\r\n",
      "  Clear plastic bottle        158         25      0.331       0.52      0.334      0.234\r\n",
      "          Crisp packet        158          2      0.221        0.5      0.162      0.142\r\n",
      "                   Cup        158         18      0.166      0.278      0.248      0.113\r\n",
      "             Drink can        158         12      0.242      0.333      0.373      0.299\r\n",
      "           Food Carton        158          5       0.33        0.4      0.232      0.195\r\n",
      "        Food container        158          6          0          0     0.0344     0.0289\r\n",
      "            Food waste        158          3      0.416      0.333      0.446      0.248\r\n",
      "           Garbage bag        158          7      0.396      0.714      0.514      0.308\r\n",
      "          Glass bottle        158         12      0.495      0.333      0.335      0.213\r\n",
      "                   Lid        158         16      0.196       0.25      0.188      0.113\r\n",
      "          Other Carton        158         14      0.231      0.214      0.151      0.118\r\n",
      "             Other can        158          1      0.667          1      0.995      0.796\r\n",
      "       Other container        158          4          1          0    0.00307    0.00246\r\n",
      "  Other plastic bottle        158         17     0.0818     0.0588     0.0661     0.0573\r\n",
      " Other plastic wrapper        158          4          0          0     0.0311     0.0212\r\n",
      "         Other plastic        158         26      0.213     0.0769     0.0828     0.0689\r\n",
      "             Paper bag        158         21          0          0     0.0244     0.0155\r\n",
      "                 Paper        158          7      0.199     0.0851     0.0826     0.0492\r\n",
      "          Plastic film        158         69      0.243      0.275      0.204      0.118\r\n",
      "               Pop tab        158          3          0          0     0.0149    0.00149\r\n",
      "Single-use carrier bag        158          8      0.102      0.125     0.0444     0.0321\r\n",
      "                 Straw        158         22      0.224      0.136      0.106     0.0612\r\n",
      "       Styrofoam piece        158          6      0.659      0.325      0.282      0.254\r\n",
      "      Unlabeled litter        158         70      0.249     0.0714     0.0612     0.0304\r\n",
      "Speed: 0.4ms pre-process, 12.5ms inference, 2.8ms NMS per image at shape (1, 3, 640, 640)\r\n",
      "\r\n",
      "Evaluating pycocotools mAP... saving working/yolov5/runs/val/exp/best_predictions.json...\r\n",
      "\u001b[31m\u001b[1mrequirements:\u001b[0m Ultralytics requirement ['pycocotools>=2.0.6'] not found, attempting AutoUpdate...\r\n",
      "Collecting pycocotools>=2.0.6\r\n",
      "  Downloading pycocotools-2.0.8-cp310-cp310-manylinux_2_17_x86_64.manylinux2014_x86_64.whl.metadata (1.1 kB)\r\n",
      "Requirement already satisfied: matplotlib>=2.1.0 in /opt/conda/lib/python3.10/site-packages (from pycocotools>=2.0.6) (3.7.5)\r\n",
      "Requirement already satisfied: numpy in /opt/conda/lib/python3.10/site-packages (from pycocotools>=2.0.6) (1.23.5)\r\n",
      "Requirement already satisfied: contourpy>=1.0.1 in /opt/conda/lib/python3.10/site-packages (from matplotlib>=2.1.0->pycocotools>=2.0.6) (1.2.1)\r\n",
      "Requirement already satisfied: cycler>=0.10 in /opt/conda/lib/python3.10/site-packages (from matplotlib>=2.1.0->pycocotools>=2.0.6) (0.12.1)\r\n",
      "Requirement already satisfied: fonttools>=4.22.0 in /opt/conda/lib/python3.10/site-packages (from matplotlib>=2.1.0->pycocotools>=2.0.6) (4.53.0)\r\n",
      "Requirement already satisfied: kiwisolver>=1.0.1 in /opt/conda/lib/python3.10/site-packages (from matplotlib>=2.1.0->pycocotools>=2.0.6) (1.4.5)\r\n",
      "Requirement already satisfied: packaging>=20.0 in /opt/conda/lib/python3.10/site-packages (from matplotlib>=2.1.0->pycocotools>=2.0.6) (21.3)\r\n",
      "Requirement already satisfied: pillow>=6.2.0 in /opt/conda/lib/python3.10/site-packages (from matplotlib>=2.1.0->pycocotools>=2.0.6) (10.4.0)\r\n",
      "Requirement already satisfied: pyparsing>=2.3.1 in /opt/conda/lib/python3.10/site-packages (from matplotlib>=2.1.0->pycocotools>=2.0.6) (3.1.2)\r\n",
      "Requirement already satisfied: python-dateutil>=2.7 in /opt/conda/lib/python3.10/site-packages (from matplotlib>=2.1.0->pycocotools>=2.0.6) (2.9.0.post0)\r\n",
      "Requirement already satisfied: six>=1.5 in /opt/conda/lib/python3.10/site-packages (from python-dateutil>=2.7->matplotlib>=2.1.0->pycocotools>=2.0.6) (1.16.0)\r\n",
      "Downloading pycocotools-2.0.8-cp310-cp310-manylinux_2_17_x86_64.manylinux2014_x86_64.whl (427 kB)\r\n",
      "Installing collected packages: pycocotools\r\n",
      "Successfully installed pycocotools-2.0.8\r\n",
      "\r\n",
      "\u001b[31m\u001b[1mrequirements:\u001b[0m AutoUpdate success ✅ 5.4s, installed 1 package: ['pycocotools>=2.0.6']\r\n",
      "\u001b[31m\u001b[1mrequirements:\u001b[0m ⚠️ \u001b[1mRestart runtime or rerun command for updates to take effect\u001b[0m\r\n",
      "\r\n",
      "loading annotations into memory...\r\n",
      "pycocotools unable to run: [Errno 2] No such file or directory: '/kaggle/working/yolov5/annotations/instances_val2017.json'\r\n",
      "Results saved to \u001b[1mworking/yolov5/runs/val/exp\u001b[0m\r\n"
     ]
    }
   ],
   "source": [
    "!python working/yolov5/val.py --weights /kaggle/working/best.onnx --data /kaggle/working/data_1.yaml --img 640 --task val --save-json\n"
   ]
  },
  {
   "cell_type": "code",
   "execution_count": 31,
   "id": "b7ef4469",
   "metadata": {
    "execution": {
     "iopub.execute_input": "2024-10-09T13:48:56.378647Z",
     "iopub.status.busy": "2024-10-09T13:48:56.377963Z",
     "iopub.status.idle": "2024-10-09T13:48:59.651547Z",
     "shell.execute_reply": "2024-10-09T13:48:59.650512Z"
    },
    "papermill": {
     "duration": 3.96637,
     "end_time": "2024-10-09T13:48:59.653960",
     "exception": false,
     "start_time": "2024-10-09T13:48:55.687590",
     "status": "completed"
    },
    "tags": []
   },
   "outputs": [
    {
     "name": "stdout",
     "output_type": "stream",
     "text": [
      "  adding: kaggle/working/best.onnx (deflated 16%)\r\n",
      "  adding: kaggle/working/best.pt (deflated 9%)\r\n",
      "  adding: kaggle/working/results.png (deflated 6%)\r\n",
      "  adding: kaggle/working/hyp.yaml (deflated 45%)\r\n",
      "  adding: kaggle/working/data_1.yaml (deflated 52%)\r\n"
     ]
    }
   ],
   "source": [
    "!zip -r model_files.zip /kaggle/working/best.onnx /kaggle/working/best.pt /kaggle/working/results.png /kaggle/working/hyp.yaml /kaggle/working/data_1.yaml\n"
   ]
  },
  {
   "cell_type": "code",
   "execution_count": 32,
   "id": "be755fbb",
   "metadata": {
    "execution": {
     "iopub.execute_input": "2024-10-09T13:49:01.082958Z",
     "iopub.status.busy": "2024-10-09T13:49:01.082147Z",
     "iopub.status.idle": "2024-10-09T13:49:02.097558Z",
     "shell.execute_reply": "2024-10-09T13:49:02.096527Z"
    },
    "papermill": {
     "duration": 1.760753,
     "end_time": "2024-10-09T13:49:02.099811",
     "exception": false,
     "start_time": "2024-10-09T13:49:00.339058",
     "status": "completed"
    },
    "tags": []
   },
   "outputs": [
    {
     "name": "stdout",
     "output_type": "stream",
     "text": [
      "__notebook__.ipynb  best.pt\t hyp.yaml  opt.yaml\tyolov5\r\n",
      "best.onnx\t    data_1.yaml  last.pt   results.png\r\n"
     ]
    }
   ],
   "source": [
    "!ls /kaggle/working/\n"
   ]
  },
  {
   "cell_type": "code",
   "execution_count": 33,
   "id": "85a6a02f",
   "metadata": {
    "execution": {
     "iopub.execute_input": "2024-10-09T13:49:03.487775Z",
     "iopub.status.busy": "2024-10-09T13:49:03.487333Z",
     "iopub.status.idle": "2024-10-09T13:49:22.668825Z",
     "shell.execute_reply": "2024-10-09T13:49:22.667517Z"
    },
    "papermill": {
     "duration": 19.880741,
     "end_time": "2024-10-09T13:49:22.671302",
     "exception": false,
     "start_time": "2024-10-09T13:49:02.790561",
     "status": "completed"
    },
    "tags": []
   },
   "outputs": [
    {
     "name": "stdout",
     "output_type": "stream",
     "text": [
      "\u001b[34m\u001b[1mval: \u001b[0mdata=/kaggle/working/data_1.yaml, weights=['/kaggle/working/best.onnx'], batch_size=32, imgsz=640, conf_thres=0.001, iou_thres=0.6, max_det=300, task=val, device=, workers=8, single_cls=False, augment=False, verbose=False, save_txt=False, save_hybrid=False, save_conf=False, save_json=True, project=working/yolov5/runs/val, name=exp, exist_ok=False, half=False, dnn=False\r\n",
      "YOLOv5 🚀 v7.0-371-g6629839d Python-3.10.14 torch-2.4.0 CUDA:0 (Tesla T4, 15095MiB)\r\n",
      "\r\n",
      "Loading /kaggle/working/best.onnx for ONNX Runtime inference...\r\n",
      "Forcing --batch-size 1 square inference (1,3,640,640) for non-PyTorch models\r\n",
      "\u001b[34m\u001b[1mval: \u001b[0mScanning /kaggle/input/cleanliness-monitoring/valid/labels... 158 images, 0\u001b[0m\r\n",
      "\u001b[34m\u001b[1mval: \u001b[0mWARNING ⚠️ Cache directory /kaggle/input/cleanliness-monitoring/valid is not writeable: [Errno 30] Read-only file system: '/kaggle/input/cleanliness-monitoring/valid/labels.cache.npy'\r\n",
      "                 Class     Images  Instances          P          R      mAP50   \r\n",
      "                   all        158        462      0.297      0.258       0.22      0.152\r\n",
      "        Aluminium foil        158          5      0.712        0.4      0.436      0.318\r\n",
      "            Bottle cap        158         25      0.368       0.44      0.363      0.216\r\n",
      "             Cigarette        158         54      0.275     0.0926      0.116     0.0479\r\n",
      "  Clear plastic bottle        158         25      0.331       0.52      0.334      0.234\r\n",
      "          Crisp packet        158          2      0.221        0.5      0.162      0.142\r\n",
      "                   Cup        158         18      0.166      0.278      0.248      0.113\r\n",
      "             Drink can        158         12      0.242      0.333      0.373      0.299\r\n",
      "           Food Carton        158          5       0.33        0.4      0.232      0.195\r\n",
      "        Food container        158          6          0          0     0.0344     0.0289\r\n",
      "            Food waste        158          3      0.416      0.333      0.446      0.248\r\n",
      "           Garbage bag        158          7      0.396      0.714      0.514      0.308\r\n",
      "          Glass bottle        158         12      0.495      0.333      0.335      0.213\r\n",
      "                   Lid        158         16      0.196       0.25      0.188      0.113\r\n",
      "          Other Carton        158         14      0.231      0.214      0.151      0.118\r\n",
      "             Other can        158          1      0.667          1      0.995      0.796\r\n",
      "       Other container        158          4          1          0    0.00307    0.00246\r\n",
      "  Other plastic bottle        158         17     0.0818     0.0588     0.0661     0.0573\r\n",
      " Other plastic wrapper        158          4          0          0     0.0311     0.0212\r\n",
      "         Other plastic        158         26      0.213     0.0769     0.0828     0.0689\r\n",
      "             Paper bag        158         21          0          0     0.0244     0.0155\r\n",
      "                 Paper        158          7      0.199     0.0851     0.0826     0.0492\r\n",
      "          Plastic film        158         69      0.243      0.275      0.204      0.118\r\n",
      "               Pop tab        158          3          0          0     0.0149    0.00149\r\n",
      "Single-use carrier bag        158          8      0.102      0.125     0.0444     0.0321\r\n",
      "                 Straw        158         22      0.224      0.136      0.106     0.0612\r\n",
      "       Styrofoam piece        158          6      0.659      0.325      0.282      0.254\r\n",
      "      Unlabeled litter        158         70      0.249     0.0714     0.0612     0.0304\r\n",
      "Speed: 0.4ms pre-process, 11.4ms inference, 2.7ms NMS per image at shape (1, 3, 640, 640)\r\n",
      "\r\n",
      "Evaluating pycocotools mAP... saving working/yolov5/runs/val/exp2/best_predictions.json...\r\n",
      "loading annotations into memory...\r\n",
      "pycocotools unable to run: [Errno 2] No such file or directory: '/kaggle/working/yolov5/annotations/instances_val2017.json'\r\n",
      "Results saved to \u001b[1mworking/yolov5/runs/val/exp2\u001b[0m\r\n"
     ]
    }
   ],
   "source": [
    "!python /kaggle/working/yolov5/val.py --weights /kaggle/working/best.onnx --data /kaggle/working/data_1.yaml --img 640 --task val --save-json\n"
   ]
  },
  {
   "cell_type": "code",
   "execution_count": 34,
   "id": "562e210f",
   "metadata": {
    "execution": {
     "iopub.execute_input": "2024-10-09T13:49:24.101294Z",
     "iopub.status.busy": "2024-10-09T13:49:24.100891Z",
     "iopub.status.idle": "2024-10-09T13:49:43.824522Z",
     "shell.execute_reply": "2024-10-09T13:49:43.823148Z"
    },
    "papermill": {
     "duration": 20.418979,
     "end_time": "2024-10-09T13:49:43.827170",
     "exception": false,
     "start_time": "2024-10-09T13:49:23.408191",
     "status": "completed"
    },
    "tags": []
   },
   "outputs": [
    {
     "name": "stdout",
     "output_type": "stream",
     "text": [
      "\u001b[34m\u001b[1mval: \u001b[0mdata=/kaggle/working/data_1.yaml, weights=['/kaggle/working/best.onnx'], batch_size=32, imgsz=640, conf_thres=0.001, iou_thres=0.6, max_det=300, task=test, device=, workers=8, single_cls=False, augment=False, verbose=False, save_txt=False, save_hybrid=False, save_conf=False, save_json=True, project=working/yolov5/runs/val, name=exp, exist_ok=False, half=False, dnn=False\r\n",
      "YOLOv5 🚀 v7.0-371-g6629839d Python-3.10.14 torch-2.4.0 CUDA:0 (Tesla T4, 15095MiB)\r\n",
      "\r\n",
      "Loading /kaggle/working/best.onnx for ONNX Runtime inference...\r\n",
      "Forcing --batch-size 1 square inference (1,3,640,640) for non-PyTorch models\r\n",
      "\u001b[34m\u001b[1mtest: \u001b[0mScanning /kaggle/input/cleanliness-monitoring/test/labels... 159 images, 5\u001b[0m\r\n",
      "\u001b[34m\u001b[1mtest: \u001b[0mWARNING ⚠️ Cache directory /kaggle/input/cleanliness-monitoring/test is not writeable: [Errno 30] Read-only file system: '/kaggle/input/cleanliness-monitoring/test/labels.cache.npy'\r\n",
      "                 Class     Images  Instances          P          R      mAP50   \r\n",
      "                   all        159        524      0.393      0.161      0.167       0.11\r\n",
      "        Aluminium foil        159          4          1          0    0.00224    0.00179\r\n",
      "            Bottle cap        159         41      0.526      0.268      0.304       0.19\r\n",
      "          Broken glass        159          6          1          0          0          0\r\n",
      "             Cigarette        159         85      0.581     0.0471     0.0639     0.0338\r\n",
      "  Clear plastic bottle        159         21      0.308      0.286      0.151      0.105\r\n",
      "          Crisp packet        159          3      0.164      0.333      0.423      0.338\r\n",
      "                   Cup        159         16      0.284      0.375      0.223      0.165\r\n",
      "             Drink can        159         38      0.553      0.237      0.243      0.163\r\n",
      "           Food Carton        159         11      0.453     0.0909     0.0706      0.055\r\n",
      "        Food container        159          6      0.333      0.167      0.161      0.119\r\n",
      "            Food waste        159          8          0          0      0.114     0.0757\r\n",
      "           Garbage bag        159         10       0.87        0.6      0.621      0.471\r\n",
      "          Glass bottle        159          7          0          0    0.00461    0.00352\r\n",
      "                   Lid        159          5       0.18        0.4      0.295      0.231\r\n",
      "          Other Carton        159         11      0.722      0.182      0.195     0.0325\r\n",
      "             Other can        159          8       0.55      0.625      0.711      0.462\r\n",
      "       Other container        159         10          1          0    0.00935     0.0048\r\n",
      "  Other plastic bottle        159         28          0          0     0.0106    0.00581\r\n",
      " Other plastic wrapper        159          7          1          0      0.201      0.132\r\n",
      "         Other plastic        159         32          0          0     0.0472      0.034\r\n",
      "             Paper bag        159         10     0.0737     0.0295     0.0538     0.0445\r\n",
      "                 Paper        159          2          0          0          0          0\r\n",
      "          Plastic film        159         53       0.27      0.226       0.17     0.0955\r\n",
      "               Pop tab        159         24      0.515      0.167       0.18     0.0428\r\n",
      "Single-use carrier bag        159          5          0          0     0.0428     0.0369\r\n",
      "                 Straw        159         13      0.273      0.231      0.155      0.085\r\n",
      "       Styrofoam piece        159          7      0.351      0.239      0.207      0.139\r\n",
      "      Unlabeled litter        159         53          0          0     0.0154    0.00654\r\n",
      "Speed: 0.5ms pre-process, 12.2ms inference, 2.8ms NMS per image at shape (1, 3, 640, 640)\r\n",
      "\r\n",
      "Evaluating pycocotools mAP... saving working/yolov5/runs/val/exp3/best_predictions.json...\r\n",
      "loading annotations into memory...\r\n",
      "pycocotools unable to run: [Errno 2] No such file or directory: '/kaggle/working/yolov5/annotations/instances_val2017.json'\r\n",
      "Results saved to \u001b[1mworking/yolov5/runs/val/exp3\u001b[0m\r\n"
     ]
    }
   ],
   "source": [
    "!python /kaggle/working/yolov5/val.py --weights /kaggle/working/best.onnx --data /kaggle/working/data_1.yaml --img 640 --task test --save-json\n"
   ]
  },
  {
   "cell_type": "code",
   "execution_count": 35,
   "id": "d6fd14e6",
   "metadata": {
    "execution": {
     "iopub.execute_input": "2024-10-09T13:49:45.282293Z",
     "iopub.status.busy": "2024-10-09T13:49:45.281233Z",
     "iopub.status.idle": "2024-10-09T13:49:47.307184Z",
     "shell.execute_reply": "2024-10-09T13:49:47.305926Z"
    },
    "papermill": {
     "duration": 2.72165,
     "end_time": "2024-10-09T13:49:47.309669",
     "exception": false,
     "start_time": "2024-10-09T13:49:44.588019",
     "status": "completed"
    },
    "tags": []
   },
   "outputs": [],
   "source": [
    "!cp -r working/yolov5/runs/val/exp2 /kaggle/working/\n",
    "!cp -r working/yolov5/runs/val/exp3 /kaggle/working/\n"
   ]
  },
  {
   "cell_type": "code",
   "execution_count": 36,
   "id": "943c1df4",
   "metadata": {
    "execution": {
     "iopub.execute_input": "2024-10-09T13:49:48.730774Z",
     "iopub.status.busy": "2024-10-09T13:49:48.730348Z",
     "iopub.status.idle": "2024-10-09T13:49:49.212761Z",
     "shell.execute_reply": "2024-10-09T13:49:49.211521Z"
    },
    "papermill": {
     "duration": 1.215632,
     "end_time": "2024-10-09T13:49:49.214988",
     "exception": false,
     "start_time": "2024-10-09T13:49:47.999356",
     "status": "completed"
    },
    "tags": []
   },
   "outputs": [
    {
     "data": {
      "text/plain": [
       "'/kaggle/working/validation_test_results.zip'"
      ]
     },
     "execution_count": 36,
     "metadata": {},
     "output_type": "execute_result"
    }
   ],
   "source": [
    "import shutil\n",
    "\n",
    "# Define paths to results directories\n",
    "val_results_dir = \"working/yolov5/runs/val/exp2\"\n",
    "test_results_dir = \"working/yolov5/runs/val/exp3\"\n",
    "\n",
    "# Create a zip file containing both validation and test results\n",
    "shutil.make_archive('/kaggle/working/validation_test_results', 'zip', root_dir='working/yolov5/runs/val', base_dir='exp2')\n",
    "shutil.make_archive('/kaggle/working/validation_test_results', 'zip', root_dir='working/yolov5/runs/val', base_dir='exp3', logger=None)\n"
   ]
  },
  {
   "cell_type": "code",
   "execution_count": null,
   "id": "da506ad9",
   "metadata": {
    "papermill": {
     "duration": 0.700698,
     "end_time": "2024-10-09T13:49:50.608126",
     "exception": false,
     "start_time": "2024-10-09T13:49:49.907428",
     "status": "completed"
    },
    "tags": []
   },
   "outputs": [],
   "source": []
  }
 ],
 "metadata": {
  "accelerator": "GPU",
  "colab": {
   "gpuType": "T4",
   "provenance": []
  },
  "kaggle": {
   "accelerator": "nvidiaTeslaT4",
   "dataSources": [
    {
     "datasetId": 5628347,
     "sourceId": 9296198,
     "sourceType": "datasetVersion"
    }
   ],
   "dockerImageVersionId": 30762,
   "isGpuEnabled": true,
   "isInternetEnabled": true,
   "language": "python",
   "sourceType": "notebook"
  },
  "kernelspec": {
   "display_name": "Python 3",
   "language": "python",
   "name": "python3"
  },
  "language_info": {
   "codemirror_mode": {
    "name": "ipython",
    "version": 3
   },
   "file_extension": ".py",
   "mimetype": "text/x-python",
   "name": "python",
   "nbconvert_exporter": "python",
   "pygments_lexer": "ipython3",
   "version": "3.10.14"
  },
  "papermill": {
   "default_parameters": {},
   "duration": 2736.905476,
   "end_time": "2024-10-09T13:49:52.075111",
   "environment_variables": {},
   "exception": null,
   "input_path": "__notebook__.ipynb",
   "output_path": "__notebook__.ipynb",
   "parameters": {},
   "start_time": "2024-10-09T13:04:15.169635",
   "version": "2.6.0"
  }
 },
 "nbformat": 4,
 "nbformat_minor": 5
}
